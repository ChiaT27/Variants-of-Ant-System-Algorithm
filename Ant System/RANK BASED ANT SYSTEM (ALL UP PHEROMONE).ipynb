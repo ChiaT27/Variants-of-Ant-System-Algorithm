{
 "cells": [
  {
   "cell_type": "markdown",
   "metadata": {},
   "source": [
    "# The Elite Ant System Algorithm For The Travelling Salesman Problem\n",
    "\n",
    "Algorithm from the Book **Ant Colony Optimization by Marco Dorigo and Thomas Stützle**"
   ]
  },
  {
   "cell_type": "code",
   "execution_count": 1,
   "metadata": {},
   "outputs": [],
   "source": [
    "#----------------------------------------\n",
    "# Chia E. Tungom\n",
    "# chemago99@yahoo.com\n",
    "# July 30th 2020\n",
    "# Shenzhen China\n",
    "#----------------------------------------"
   ]
  },
  {
   "cell_type": "code",
   "execution_count": 2,
   "metadata": {},
   "outputs": [],
   "source": [
    "# import libraries\n",
    "\n",
    "import numpy as np\n",
    "import math\n",
    "import random"
   ]
  },
  {
   "cell_type": "markdown",
   "metadata": {},
   "source": [
    "# Roulette Wheel for Probability"
   ]
  },
  {
   "cell_type": "code",
   "execution_count": 3,
   "metadata": {},
   "outputs": [],
   "source": [
    "# probability and selection using roulette wheel \n",
    "\n",
    "# Calculate cumulative sum for roulette wheel \n",
    "def PPi(pi):\n",
    "    \"\"\" pi: list with probability values\n",
    "        return roulette proportions\"\"\"\n",
    "    n = len(pi)\n",
    "    ans = []\n",
    "    \n",
    "    for i in range(n):\n",
    "        ans.append( sum([i for i in pi[:i+1]]) )\n",
    "    return ans \n",
    "\n",
    "# Roulette Wheel \n",
    "def Roulette(ppi, Pop):\n",
    "    \"\"\" ppi: list of roulette proportions\n",
    "        Pop: list of corresponding item   [item1, ... , itemN] \"\"\"\n",
    "    \n",
    "    n = len(ppi)\n",
    "    ra = random.random()\n",
    "    \n",
    "    for i in range(n):\n",
    "        if i == 0 :\n",
    "            if ra > 0 and ra < ppi[i]:\n",
    "                return Pop[i]\n",
    "        else:\n",
    "            if ra > ppi[i-1] and ra < ppi[i]:\n",
    "                return Pop[i]"
   ]
  },
  {
   "cell_type": "markdown",
   "metadata": {},
   "source": [
    "# Calculate Route Cost and Rank Ants"
   ]
  },
  {
   "cell_type": "code",
   "execution_count": 4,
   "metadata": {},
   "outputs": [],
   "source": [
    "# calculate cost of each route\n",
    "def Cost(Pop, graph):\n",
    "    \"\"\" Pop: List of All Items in the e.g [[item1], ... , [itemN]]\n",
    "    graph: cost matrix or graph \n",
    "    returns a cost vector for corresponding item \"\"\"\n",
    "    \n",
    "    Cvector = []\n",
    "    \n",
    "    for i in range(len(Pop)):\n",
    "        route = Pop[i]\n",
    "        cost = 0\n",
    "        \n",
    "        for j in range(len(route)-1):\n",
    "            cost += graph[route[j]][route[j+1]]\n",
    "        cost += graph[route[0]][route[len(route)-1]]   \n",
    "        Cvector.append(cost)\n",
    "        \n",
    "    return Cvector\n",
    "\n",
    "# Sort Chromosomes from Best to Worst\n",
    "def Rank(Pop, graph):\n",
    "    \"\"\" returns sorted Ants \"\"\"\n",
    "    cost = Cost(Pop, graph)\n",
    "    ans = [ x for _,x in sorted(zip(cost, Pop))]\n",
    "    #cost = [ _ for _,x in sorted(zip(cost, Pop))]  # need to use the true cost\n",
    "    return ans"
   ]
  },
  {
   "cell_type": "markdown",
   "metadata": {},
   "source": [
    "# Initialize Pheromone "
   ]
  },
  {
   "cell_type": "code",
   "execution_count": 5,
   "metadata": {},
   "outputs": [],
   "source": [
    "# AS initialization\n",
    "def TSPher(graph):\n",
    "    \n",
    "    n = len(graph)\n",
    "    route = [i for i in range(n)]\n",
    "    random.shuffle(route)\n",
    "    \n",
    "    cost = Cost([route], graph)[0]\n",
    "    pher = [[cost for i in range(n)] for j in range(n)]\n",
    "    \n",
    "    return pher\n",
    "\n",
    "# EAS initialization\n",
    "def EASTSPher(graph, e, m, rho):\n",
    "    \n",
    "    n = len(graph)\n",
    "    route = [i for i in range(n)]\n",
    "    random.shuffle(route)\n",
    "    \n",
    "    cost = Cost([route], graph)[0]\n",
    "    \n",
    "    numer = e + m\n",
    "    den = rho*cost\n",
    "    pher = [[numer/den for i in range(n)] for j in range(n)]\n",
    "    \n",
    "    return pher"
   ]
  },
  {
   "cell_type": "markdown",
   "metadata": {},
   "source": [
    "# Calculate Transition Probability"
   ]
  },
  {
   "cell_type": "code",
   "execution_count": 6,
   "metadata": {},
   "outputs": [],
   "source": [
    "# Transition Probability\n",
    "def TransitionP(connections, alpha, beta):\n",
    "    \"\"\" Takes a list of tuples [(pheromone, distance, hob), ... , (pheromone, distance, hob)]\n",
    "        return trasition probability for each hob [(probability, hob), ... , (probability, hob)]\"\"\"\n",
    "    \n",
    "    total = sum( [ (i[0]**alpha)*(i[1]**beta) for i in connections])    # sum heuristic and pheromone info\n",
    "    prob = [( (((i**alpha)*(j**beta))/total) , k) for i,j,k in connections ]  # probability of each hob\n",
    "    \n",
    "    return prob\n",
    "\n",
    "# pheromone, distance and hob information\n",
    "def DPH(phermatrix, graph, connections, preshob):\n",
    "    \"\"\" DPH(Distance Pheromone hob)\n",
    "        takes a pheromone matrix\n",
    "        graph matrix \n",
    "        connections in graph to use \n",
    "        present hob in graph\n",
    "        and return the pheromone, distance and hob [(pheromone, distance, hob), ... , (pheromone, distance, hob)]\"\"\"\n",
    "    \n",
    "    dph = []\n",
    "    for i in range(len(connections)):\n",
    "        if connections[i] > 0:\n",
    "            dph.append( (phermatrix[preshob][i], 1/graph[preshob][i], i) )\n",
    "            \n",
    "    #dph = [(phermatrix[preshob][i], graph[preshob][i], i) for i in range(len(connections)) if connections[i] > 0 ]\n",
    "    \n",
    "    return dph\n",
    "\n",
    "def Disconnect(visited, connections):\n",
    "    \"\"\" Disconnects already visited hobs\n",
    "    visited: already visited hobs\n",
    "    connections: connection vector with 0: no connection x: length of connection\"\"\"\n",
    "    \n",
    "    for i in visited:\n",
    "        connections[i] = 0\n",
    "        \n",
    "    return connections"
   ]
  },
  {
   "cell_type": "markdown",
   "metadata": {},
   "source": [
    "# Find Path "
   ]
  },
  {
   "cell_type": "code",
   "execution_count": 7,
   "metadata": {},
   "outputs": [],
   "source": [
    "def FindPath(phermatrix, graph, takeoff, alpha = 2, beta = 2):\n",
    "    \n",
    "    path = []\n",
    "    path.append(takeoff)\n",
    "    \n",
    "    while len(path) != len(graph):\n",
    "        Cons = graph[takeoff].copy()\n",
    "        tabu = path.copy()\n",
    "        Cons = Disconnect(tabu, Cons)\n",
    "        HP = DPH(phermatrix, graph, Cons, takeoff)\n",
    "        prob = TransitionP(HP, alpha, beta)\n",
    "        takeoff = Roulette(PPi([i[0] for i in prob]), [i[1] for i in prob])\n",
    "        \n",
    "        path.append(takeoff)\n",
    " \n",
    "    return path"
   ]
  },
  {
   "cell_type": "markdown",
   "metadata": {},
   "source": [
    "# Get Elite Route and Connections"
   ]
  },
  {
   "cell_type": "code",
   "execution_count": 8,
   "metadata": {},
   "outputs": [],
   "source": [
    "def Elite(Elite, ant, graph):\n",
    "    \n",
    "    if Cost([ant], graph)[0] < Cost([Elite], graph)[0]:\n",
    "        return ant\n",
    "    else:\n",
    "        return Elite\n",
    "\n",
    "def connections(L):\n",
    "    \"\"\"L is a list\n",
    "    one way connection \"\"\"\n",
    "    \n",
    "    cons = []\n",
    "    for i in range(1,len(L)):\n",
    "        cons.append( (L[i-1], L[i]) )\n",
    "    \n",
    "    cons.append((L[-1], L[0]))\n",
    "    \n",
    "    return cons\n",
    "\n",
    "def connectionsE(L):\n",
    "    \"\"\"L is a list\n",
    "    Two way connection \"\"\"\n",
    "    \n",
    "    cons = []\n",
    "    for i in range(1,len(L)):\n",
    "        cons.append( (L[i-1], L[i]) )\n",
    "        cons.append( (L[i], L[i-1]) )\n",
    "    \n",
    "    cons.append((L[-1], L[0]))\n",
    "    cons.append((L[0], L[1]))\n",
    "    \n",
    "    return cons"
   ]
  },
  {
   "cell_type": "markdown",
   "metadata": {},
   "source": [
    "# Update Pheromone "
   ]
  },
  {
   "cell_type": "code",
   "execution_count": 9,
   "metadata": {},
   "outputs": [],
   "source": [
    "# Update Pheromone in visited arcs\n",
    "\n",
    "def UpPheromone(route, matrix):\n",
    "    \"\"\"route : route taken\n",
    "    matrix: pheromone matrix\"\"\"\n",
    "    \n",
    "    tau = 1/Cost([route], matrix)[0]\n",
    "    #tau = 1\n",
    "    \n",
    "    for i in range(len(route)-1):\n",
    "        \n",
    "        matrix[route[i]][route[i+1]] += tau\n",
    "        matrix[route[i+1]][route[i]] += tau\n",
    "    \n",
    "    # add pheromone to last and first route for TSP\n",
    "    matrix[route[-1]][route[0]] += tau\n",
    "    matrix[route[0]][route[-1]] += tau\n",
    "\n",
    "    return matrix\n",
    "\n",
    "# Rank Based Ant System\n",
    "def RBASUpPheromone(route, EliteRoute, matrix, e, w, r):  # problematic when multiplied by (w-r)\n",
    "    \"\"\"route : route taken\n",
    "    EliteRoute: Best Route found thus far\n",
    "    matrix: pheromone matrix\n",
    "    e: weighting factor for elite pheromone\"\"\"\n",
    "    \n",
    "    Tbs = connectionsE(EliteRoute)\n",
    "    \n",
    "    bstau = 1/Cost([EliteRoute], matrix)[0]\n",
    "    tau = 1/Cost([route], matrix)[0]\n",
    "    #tau = 1\n",
    "    \n",
    "    for i in range(len(route)-1):\n",
    "        \n",
    "        if (route[i], route[i+1]) in Tbs:\n",
    "            matrix[route[i]][route[i+1]] = matrix[route[i]][route[i+1]] + (w-r)*tau + (e*bstau)\n",
    "            matrix[route[i+1]][route[i]] = matrix[route[i+1]][route[i]] + (w-r)*tau + (e*bstau)\n",
    "        else:\n",
    "            matrix[route[i]][route[i+1]] = matrix[route[i]][route[i+1]] + (w-r)*tau\n",
    "            matrix[route[i+1]][route[i]] = matrix[route[i+1]][route[i]] + (w-r)*tau\n",
    "    \n",
    "    # add pheromone to last and first route for TSP\n",
    "    if (route[-1], route[0]) in Tbs:\n",
    "        matrix[route[-1]][route[0]] = matrix[route[-1]][route[0]] + (w-r)*tau + (e*bstau)\n",
    "        matrix[route[0]][route[-1]] = matrix[route[0]][route[-1]] + (w-r)*tau + (e*bstau)\n",
    "    else:\n",
    "        matrix[route[-1]][route[0]] = matrix[route[-1]][route[0]] + (w-r)*tau\n",
    "        matrix[route[0]][route[-1]] = matrix[route[0]][route[-1]] + (w-r)*tau\n",
    "\n",
    "    return matrix\n",
    "\n",
    "# Elite based Ant System\n",
    "def EASUpPheromone(route, EliteRoute, matrix, e):\n",
    "    \"\"\"route : route taken\n",
    "    EliteRoute: Best Route found thus far\n",
    "    matrix: pheromone matrix\n",
    "    e: weighting factor for elite pheromone\n",
    "    r: rank of ant\n",
    "    w: number of top ants used \"\"\"\n",
    "    \n",
    "    Tbs = connectionsE(EliteRoute)\n",
    "    \n",
    "    bstau = 1/Cost([EliteRoute], matrix)[0]\n",
    "    tau = 1/Cost([route], matrix)[0]\n",
    "    #tau = 1\n",
    "    \n",
    "    for i in range(len(route)-1):\n",
    "        \n",
    "        if (route[i], route[i+1]) in Tbs:\n",
    "            matrix[route[i]][route[i+1]] = matrix[route[i]][route[i+1]] + tau + (e*bstau)\n",
    "            matrix[route[i+1]][route[i]] = matrix[route[i+1]][route[i]] + tau + (e*bstau)\n",
    "        else:\n",
    "            matrix[route[i]][route[i+1]] += tau\n",
    "            matrix[route[i+1]][route[i]] += tau\n",
    "    \n",
    "    # add pheromone to last and first route for TSP\n",
    "    if (route[-1], route[0]) in Tbs:\n",
    "        matrix[route[-1]][route[0]] = matrix[route[-1]][route[0]] + tau + (e*bstau)\n",
    "        matrix[route[0]][route[-1]] = matrix[route[0]][route[-1]] + tau + (e*bstau)\n",
    "    else:\n",
    "        matrix[route[-1]][route[0]] += tau\n",
    "        matrix[route[0]][route[-1]] += tau\n",
    "\n",
    "    return matrix"
   ]
  },
  {
   "cell_type": "markdown",
   "metadata": {},
   "source": [
    "# Evaporate Pheromone "
   ]
  },
  {
   "cell_type": "code",
   "execution_count": 10,
   "metadata": {},
   "outputs": [],
   "source": [
    "def EvPheromone(matrix, rho):\n",
    "    \n",
    "    for i in range(len(matrix)):\n",
    "        for j in range(len(matrix)):\n",
    "            if matrix[i][j] > 0:\n",
    "                matrix[i][j] = (1-rho)*matrix[i][j]\n",
    "            else:\n",
    "                matrix[i][j] = math.exp(-5)\n",
    "    return matrix\n",
    "\n",
    "def EvPheromoneNeg(matrix, rho):\n",
    "    \n",
    "    for i in range(len(matrix)):\n",
    "        for j in range(len(matrix)):\n",
    "            matrix[i][j] = (1-rho)*matrix[i][j]\n",
    "        \n",
    "    return matrix"
   ]
  },
  {
   "cell_type": "markdown",
   "metadata": {},
   "source": [
    "# Generate a Toy Symmetric TSP Problem "
   ]
  },
  {
   "cell_type": "code",
   "execution_count": 11,
   "metadata": {},
   "outputs": [],
   "source": [
    "# A random graph\n",
    "def Graph(dim, bounds):\n",
    "    b = [(i, str(i)) for i in range(dim)]   \n",
    "    matrix = []\n",
    "    \n",
    "    for i,j in b:\n",
    "        j=[]\n",
    "        if i == 0:\n",
    "            j.append(0)\n",
    "            matrix.append(j)\n",
    "        else:\n",
    "            for k in range(i+1):\n",
    "                if k == i:\n",
    "                    j.append(0)\n",
    "                else:\n",
    "                    j.append(random.choice([random.randint(bounds[0], bounds[1])]))  # route length\n",
    "            matrix.append(j)\n",
    "            \n",
    "    M = matrix        \n",
    "    for i in range(len(M)):\n",
    "        \n",
    "        for j in range(1,len(M)-len(M[i])+1):\n",
    "            M[i].append(M[i+j][i]) \n",
    "            \n",
    "    return M"
   ]
  },
  {
   "cell_type": "markdown",
   "metadata": {},
   "source": [
    "# Ant System Algorithm"
   ]
  },
  {
   "cell_type": "code",
   "execution_count": 12,
   "metadata": {},
   "outputs": [],
   "source": [
    "def AS(Ngraph, ants, alpha = 1, beta = 3, rho = 0.5, e = 10, w = 5 , runs = 50, Pher = None):\n",
    "    \n",
    "    if Pher == None:\n",
    "        #Pher = TSPher(Ngraph)\n",
    "        Pher = EASTSPher(Ngraph, e, ants, rho)\n",
    "        \n",
    "    starthob = random.choice([i for i in range(len(Ngraph))])\n",
    "\n",
    "    GOAT = [i for i in range(len(Ngraph))]  # initial best ant\n",
    "    \n",
    "    i = 0\n",
    "    while i < runs:\n",
    "        Ants = []\n",
    "        #starthob = random.choice([i for i in range(len(Ngraph))])\n",
    "        \n",
    "        for j in range(ants):\n",
    "            stof = FindPath(Pher, Ngraph, starthob, alpha, beta)\n",
    "            Ants.append(stof)\n",
    "            GOAT = Elite(GOAT, stof, Ngraph)\n",
    "            \n",
    "        # Rank Ants by sorting\n",
    "        Ranked = Rank(Ants, graph)[:w-1]\n",
    "        \n",
    "        #Pheromone update\n",
    "        for r,j in enumerate(Ranked):\n",
    "            r += 1\n",
    "            RBASUpPheromone(j, GOAT, Pher, e, w, r)\n",
    "            #EASUpPheromone(j, GOAT, Pher, e)\n",
    "            \n",
    "        #Pheromone update  \n",
    "        #EvPheromone(Pher, rho)\n",
    "        EvPheromoneNeg(Pher, rho)\n",
    "        \n",
    "        if i%int(runs*0.05) == 0:\n",
    "            C = Cost(Ants, Ngraph)\n",
    "            E = Cost([GOAT], Ngraph)[0]\n",
    "            print(\"Evolution \", i, \" Elite Cost = \", E,  \" Minimum Cost = \", min(C), \"  and Maximum Cost = \", max(C))\n",
    "            #print(\"<<<<<<<<  The Best Route IS  >>>>>>>> \", GOAT)\n",
    "        i += 1 \n",
    "\n",
    "    C = Cost(Ants, Ngraph)    \n",
    "    print(\"Minimum Cost Found = \", min(C), \"Maximum Cost Found = \", max(C))\n",
    "    return np.array(Ants), min(C) #, np.array(Pher)"
   ]
  },
  {
   "cell_type": "markdown",
   "metadata": {},
   "source": [
    "# Example on the Toy Problem"
   ]
  },
  {
   "cell_type": "code",
   "execution_count": 17,
   "metadata": {},
   "outputs": [],
   "source": [
    "# Toy Network graph \n",
    "D = 10\n",
    "bounds = (2,10)\n",
    "random.seed(10)\n",
    "graph = Graph(D, bounds)\n"
   ]
  },
  {
   "cell_type": "code",
   "execution_count": 18,
   "metadata": {},
   "outputs": [
    {
     "name": "stdout",
     "output_type": "stream",
     "text": [
      "Evolution  0  Elite Cost =  34  Minimum Cost =  34   and Maximum Cost =  47\n",
      "Evolution  10  Elite Cost =  33  Minimum Cost =  34   and Maximum Cost =  46\n",
      "Evolution  20  Elite Cost =  33  Minimum Cost =  33   and Maximum Cost =  45\n",
      "Evolution  30  Elite Cost =  33  Minimum Cost =  33   and Maximum Cost =  44\n",
      "Evolution  40  Elite Cost =  33  Minimum Cost =  33   and Maximum Cost =  40\n",
      "Evolution  50  Elite Cost =  33  Minimum Cost =  33   and Maximum Cost =  33\n",
      "Evolution  60  Elite Cost =  33  Minimum Cost =  33   and Maximum Cost =  33\n",
      "Evolution  70  Elite Cost =  33  Minimum Cost =  33   and Maximum Cost =  33\n",
      "Evolution  80  Elite Cost =  33  Minimum Cost =  33   and Maximum Cost =  33\n",
      "Evolution  90  Elite Cost =  33  Minimum Cost =  33   and Maximum Cost =  33\n",
      "Evolution  100  Elite Cost =  33  Minimum Cost =  33   and Maximum Cost =  33\n",
      "Evolution  110  Elite Cost =  33  Minimum Cost =  33   and Maximum Cost =  33\n",
      "Evolution  120  Elite Cost =  33  Minimum Cost =  33   and Maximum Cost =  33\n",
      "Evolution  130  Elite Cost =  33  Minimum Cost =  33   and Maximum Cost =  33\n",
      "Evolution  140  Elite Cost =  33  Minimum Cost =  33   and Maximum Cost =  33\n",
      "Evolution  150  Elite Cost =  33  Minimum Cost =  33   and Maximum Cost =  33\n",
      "Evolution  160  Elite Cost =  33  Minimum Cost =  33   and Maximum Cost =  33\n",
      "Evolution  170  Elite Cost =  33  Minimum Cost =  33   and Maximum Cost =  33\n",
      "Evolution  180  Elite Cost =  33  Minimum Cost =  33   and Maximum Cost =  33\n",
      "Evolution  190  Elite Cost =  33  Minimum Cost =  33   and Maximum Cost =  33\n",
      "Minimum Cost Found =  33 Maximum Cost Found =  33\n"
     ]
    },
    {
     "data": {
      "text/plain": [
       "(array([[6, 7, 5, 9, 3, 1, 0, 8, 4, 2],\n",
       "        [6, 7, 5, 9, 3, 1, 0, 8, 4, 2],\n",
       "        [6, 2, 4, 8, 0, 1, 3, 9, 5, 7],\n",
       "        [6, 7, 5, 9, 3, 1, 0, 8, 4, 2],\n",
       "        [6, 7, 5, 9, 3, 1, 0, 8, 4, 2],\n",
       "        [6, 2, 4, 8, 0, 1, 3, 9, 5, 7],\n",
       "        [6, 2, 4, 8, 0, 1, 3, 9, 5, 7],\n",
       "        [6, 7, 5, 9, 3, 1, 0, 8, 4, 2],\n",
       "        [6, 7, 5, 9, 3, 1, 0, 8, 4, 2],\n",
       "        [6, 7, 5, 9, 3, 1, 0, 8, 4, 2]]), 33)"
      ]
     },
     "execution_count": 18,
     "metadata": {},
     "output_type": "execute_result"
    }
   ],
   "source": [
    "# Find Shortest Path with the Algorithm\n",
    "\n",
    "ants = len(graph)\n",
    "alpha = 1\n",
    "beta = 3\n",
    "rho = 0.1\n",
    "e = len(graph)\n",
    "runs = 200\n",
    "w = int(ants/2)\n",
    "AS(graph, ants, alpha, beta, rho, e, w, runs)"
   ]
  },
  {
   "cell_type": "markdown",
   "metadata": {},
   "source": [
    "# Soving Real TSP problems "
   ]
  },
  {
   "cell_type": "code",
   "execution_count": 22,
   "metadata": {},
   "outputs": [
    {
     "name": "stdout",
     "output_type": "stream",
     "text": [
      "Evolution  0  Elite Cost =  40617.45835558784  Minimum Cost =  40617.45835558784   and Maximum Cost =  54538.63052911902\n",
      "Evolution  5  Elite Cost =  39069.68950534167  Minimum Cost =  39391.95119749961   and Maximum Cost =  50566.89078984385\n",
      "Evolution  10  Elite Cost =  38234.70133410819  Minimum Cost =  39391.95119749961   and Maximum Cost =  53635.429873418434\n",
      "Evolution  15  Elite Cost =  38053.7185523186  Minimum Cost =  38633.62775058329   and Maximum Cost =  51210.93048780531\n",
      "Evolution  20  Elite Cost =  37650.767169041  Minimum Cost =  37650.767169041   and Maximum Cost =  51924.89412759943\n",
      "Evolution  25  Elite Cost =  36980.909371966845  Minimum Cost =  36980.909371966845   and Maximum Cost =  49576.10415749307\n",
      "Evolution  30  Elite Cost =  36505.80028232591  Minimum Cost =  36505.80028232591   and Maximum Cost =  51348.08833196366\n",
      "Evolution  35  Elite Cost =  36411.53181030538  Minimum Cost =  36411.53181030538   and Maximum Cost =  46499.69965800246\n",
      "Evolution  40  Elite Cost =  36327.68764792965  Minimum Cost =  36327.68764792965   and Maximum Cost =  46375.023924075205\n",
      "Evolution  45  Elite Cost =  36114.03330794016  Minimum Cost =  36386.55089725485   and Maximum Cost =  49840.05632899863\n",
      "Evolution  50  Elite Cost =  35901.18661009422  Minimum Cost =  36114.03330794016   and Maximum Cost =  47169.04652418616\n",
      "Evolution  55  Elite Cost =  35901.18661009422  Minimum Cost =  36197.87747031589   and Maximum Cost =  48575.537899088595\n",
      "Evolution  60  Elite Cost =  35901.18661009422  Minimum Cost =  36043.35449620897   and Maximum Cost =  48358.17738918338\n",
      "Evolution  65  Elite Cost =  35901.18661009422  Minimum Cost =  36197.87747031589   and Maximum Cost =  46411.09940376442\n",
      "Evolution  70  Elite Cost =  35901.18661009422  Minimum Cost =  36114.03330794016   and Maximum Cost =  48336.02649651119\n",
      "Evolution  75  Elite Cost =  35901.18661009422  Minimum Cost =  36197.87747031589   and Maximum Cost =  47795.873196320696\n",
      "Evolution  80  Elite Cost =  35576.55498178601  Minimum Cost =  35576.55498178601   and Maximum Cost =  50200.88299060792\n",
      "Evolution  85  Elite Cost =  35576.55498178601  Minimum Cost =  35901.18661009422   and Maximum Cost =  45769.610854175284\n",
      "Evolution  90  Elite Cost =  35576.55498178601  Minimum Cost =  35576.55498178601   and Maximum Cost =  46361.39862067665\n",
      "Evolution  95  Elite Cost =  35576.55498178601  Minimum Cost =  35790.2093217755   and Maximum Cost =  46914.47231907831\n",
      "Minimum Cost Found =  35790.2093217755 Maximum Cost Found =  49060.586316939996\n"
     ]
    },
    {
     "data": {
      "text/plain": [
       "(array([[10, 11, 14, ..., 29,  5, 35],\n",
       "        [10, 11, 14, ..., 18, 36, 35],\n",
       "        [10, 11, 14, ..., 18, 36, 35],\n",
       "        ...,\n",
       "        [10, 11, 14, ..., 18, 36, 35],\n",
       "        [10, 11, 14, ..., 18, 36, 35],\n",
       "        [10, 11, 14, ..., 18, 36, 35]]), 35790.2093217755)"
      ]
     },
     "execution_count": 22,
     "metadata": {},
     "output_type": "execute_result"
    }
   ],
   "source": [
    "# att48\n",
    "\n",
    "import RouteMatrix as RM\n",
    "path = './Data/att48.txt'\n",
    "graph = RM.TSRM(path)\n",
    "\n",
    "\n",
    "ants = len(graph)\n",
    "alpha = 1\n",
    "beta = 5\n",
    "rho = 0.01\n",
    "e = len(graph)\n",
    "runs = 100\n",
    "\n",
    "AS(graph, ants, alpha, beta, rho, e, w, runs)"
   ]
  },
  {
   "cell_type": "code",
   "execution_count": 20,
   "metadata": {},
   "outputs": [
    {
     "name": "stdout",
     "output_type": "stream",
     "text": [
      "Evolution  0  Elite Cost =  32.925726275804955  Minimum Cost =  32.925726275804955   and Maximum Cost =  50.49403242283327\n",
      "Evolution  50  Elite Cost =  31.226915109427544  Minimum Cost =  31.226915109427544   and Maximum Cost =  40.29624430306272\n",
      "Evolution  100  Elite Cost =  31.226915109427544  Minimum Cost =  31.226915109427544   and Maximum Cost =  31.226915109427544\n",
      "Evolution  150  Elite Cost =  31.226915109427544  Minimum Cost =  31.226915109427544   and Maximum Cost =  31.226915109427544\n",
      "Evolution  200  Elite Cost =  31.226915109427544  Minimum Cost =  31.226915109427544   and Maximum Cost =  31.226915109427544\n",
      "Evolution  250  Elite Cost =  31.226915109427544  Minimum Cost =  31.226915109427544   and Maximum Cost =  31.226915109427544\n",
      "Evolution  300  Elite Cost =  31.226915109427544  Minimum Cost =  31.226915109427544   and Maximum Cost =  31.226915109427544\n",
      "Evolution  350  Elite Cost =  31.226915109427544  Minimum Cost =  31.226915109427544   and Maximum Cost =  31.226915109427544\n",
      "Evolution  400  Elite Cost =  31.226915109427544  Minimum Cost =  31.226915109427544   and Maximum Cost =  31.226915109427544\n",
      "Evolution  450  Elite Cost =  31.226915109427544  Minimum Cost =  31.226915109427544   and Maximum Cost =  31.226915109427544\n",
      "Evolution  500  Elite Cost =  31.226915109427544  Minimum Cost =  31.226915109427544   and Maximum Cost =  31.226915109427544\n",
      "Evolution  550  Elite Cost =  31.226915109427544  Minimum Cost =  31.226915109427544   and Maximum Cost =  31.226915109427544\n",
      "Evolution  600  Elite Cost =  31.226915109427544  Minimum Cost =  31.226915109427544   and Maximum Cost =  31.226915109427544\n",
      "Evolution  650  Elite Cost =  31.226915109427544  Minimum Cost =  31.226915109427544   and Maximum Cost =  31.226915109427544\n",
      "Evolution  700  Elite Cost =  31.226915109427544  Minimum Cost =  31.226915109427544   and Maximum Cost =  31.226915109427544\n",
      "Evolution  750  Elite Cost =  31.226915109427544  Minimum Cost =  31.226915109427544   and Maximum Cost =  31.226915109427544\n",
      "Evolution  800  Elite Cost =  31.226915109427544  Minimum Cost =  31.226915109427544   and Maximum Cost =  31.226915109427544\n",
      "Evolution  850  Elite Cost =  31.226915109427544  Minimum Cost =  31.226915109427544   and Maximum Cost =  31.226915109427544\n",
      "Evolution  900  Elite Cost =  31.226915109427544  Minimum Cost =  31.226915109427544   and Maximum Cost =  31.226915109427544\n",
      "Evolution  950  Elite Cost =  31.226915109427544  Minimum Cost =  31.226915109427544   and Maximum Cost =  31.226915109427544\n",
      "Minimum Cost Found =  31.226915109427544 Maximum Cost Found =  31.226915109427544\n"
     ]
    },
    {
     "data": {
      "text/plain": [
       "(array([[ 4,  5, 11,  6, 12,  7,  0, 10,  8,  9,  1, 13,  2,  3],\n",
       "        [ 4,  5, 11,  6, 12,  7,  0, 10,  8,  9,  1, 13,  2,  3],\n",
       "        [ 4,  5, 11,  6, 12,  7,  0, 10,  8,  9,  1, 13,  2,  3],\n",
       "        [ 4,  5, 11,  6, 12,  7,  0, 10,  8,  9,  1, 13,  2,  3],\n",
       "        [ 4,  5, 11,  6, 12,  7,  0, 10,  8,  9,  1, 13,  2,  3],\n",
       "        [ 4,  5, 11,  6, 12,  7,  0, 10,  8,  9,  1, 13,  2,  3],\n",
       "        [ 4,  5, 11,  6, 12,  7,  0, 10,  8,  9,  1, 13,  2,  3],\n",
       "        [ 4,  5, 11,  6, 12,  7,  0, 10,  8,  9,  1, 13,  2,  3],\n",
       "        [ 4,  5, 11,  6, 12,  7,  0, 10,  8,  9,  1, 13,  2,  3],\n",
       "        [ 4,  5, 11,  6, 12,  7,  0, 10,  8,  9,  1, 13,  2,  3],\n",
       "        [ 4,  5, 11,  6, 12,  7,  0, 10,  8,  9,  1, 13,  2,  3],\n",
       "        [ 4,  3,  2, 13,  1,  9,  8, 10,  0,  7, 12,  6, 11,  5],\n",
       "        [ 4,  5, 11,  6, 12,  7,  0, 10,  8,  9,  1, 13,  2,  3],\n",
       "        [ 4,  3,  2, 13,  1,  9,  8, 10,  0,  7, 12,  6, 11,  5]]),\n",
       " 31.226915109427544)"
      ]
     },
     "execution_count": 20,
     "metadata": {},
     "output_type": "execute_result"
    }
   ],
   "source": [
    "# burma14\n",
    "\n",
    "import RouteMatrix as RM\n",
    "path = './Data/burma14.txt'\n",
    "graph = RM.TSRM(path)\n",
    "\n",
    "\n",
    "ants = len(graph)\n",
    "alpha = 1\n",
    "beta = 4\n",
    "rho = 0.1\n",
    "e = len(graph)\n",
    "runs = 1000\n",
    "\n",
    "AS(graph, ants, alpha, beta, rho, e, w, runs)"
   ]
  },
  {
   "cell_type": "code",
   "execution_count": null,
   "metadata": {},
   "outputs": [],
   "source": []
  },
  {
   "cell_type": "code",
   "execution_count": null,
   "metadata": {},
   "outputs": [],
   "source": []
  }
 ],
 "metadata": {
  "kernelspec": {
   "display_name": "Python [default]",
   "language": "python",
   "name": "python3"
  },
  "language_info": {
   "codemirror_mode": {
    "name": "ipython",
    "version": 3
   },
   "file_extension": ".py",
   "mimetype": "text/x-python",
   "name": "python",
   "nbconvert_exporter": "python",
   "pygments_lexer": "ipython3",
   "version": "3.5.6"
  }
 },
 "nbformat": 4,
 "nbformat_minor": 2
}
