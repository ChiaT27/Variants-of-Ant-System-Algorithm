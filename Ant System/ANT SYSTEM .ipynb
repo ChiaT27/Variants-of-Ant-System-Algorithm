{
 "cells": [
  {
   "cell_type": "markdown",
   "metadata": {},
   "source": [
    "# The Ant System Algorithm For The Travelling Salesman Problem\n",
    "\n",
    "Algorithm from the Book **Ant Colony Optimization by Marco Dorigo and Thomas Stützle**"
   ]
  },
  {
   "cell_type": "code",
   "execution_count": 9,
   "metadata": {},
   "outputs": [],
   "source": [
    "#----------------------------------------\n",
    "# Chia E. Tungom\n",
    "# chemago99@yahoo.com\n",
    "# July 30th 2020\n",
    "# Shenzhen China\n",
    "#----------------------------------------"
   ]
  },
  {
   "cell_type": "code",
   "execution_count": 10,
   "metadata": {},
   "outputs": [],
   "source": [
    "# import libraries\n",
    "\n",
    "import numpy as np\n",
    "import math\n",
    "import random"
   ]
  },
  {
   "cell_type": "markdown",
   "metadata": {},
   "source": [
    "# Roulette Wheel for Probability"
   ]
  },
  {
   "cell_type": "code",
   "execution_count": 11,
   "metadata": {},
   "outputs": [],
   "source": [
    "# probability and selection using roulette wheel \n",
    "\n",
    "# Calculate cumulative sum for roulette wheel \n",
    "def PPi(pi):\n",
    "    n = len(pi)\n",
    "    ans = []\n",
    "    \n",
    "    for i in range(n):\n",
    "        ans.append( sum([i for i in pi[:i+1]]) )\n",
    "    return ans \n",
    "\n",
    "# Roulette Wheel \n",
    "def Roulette(ppi, Pop):\n",
    "    n = len(ppi)\n",
    "    ra = random.random()\n",
    "    \n",
    "    for i in range(n):\n",
    "        if i == 0 :\n",
    "            if ra > 0 and ra < ppi[i]:\n",
    "                return Pop[i]\n",
    "        else:\n",
    "            if ra > ppi[i-1] and ra < ppi[i]:\n",
    "                return Pop[i]"
   ]
  },
  {
   "cell_type": "markdown",
   "metadata": {},
   "source": [
    "# Calculate Route Cost"
   ]
  },
  {
   "cell_type": "code",
   "execution_count": 12,
   "metadata": {},
   "outputs": [],
   "source": [
    "# calculate cost of each route\n",
    "def Cost(Pop, Cmatrix):\n",
    "    Cvector = []\n",
    "    \n",
    "    for i in range(len(Pop)):\n",
    "        route = Pop[i]\n",
    "        cost = 0\n",
    "        \n",
    "        for j in range(len(route)-1):\n",
    "            cost += Cmatrix[route[j]][route[j+1]]\n",
    "        cost += Cmatrix[route[0]][route[len(route)-1]]   \n",
    "        Cvector.append(cost)\n",
    "        \n",
    "    return Cvector"
   ]
  },
  {
   "cell_type": "markdown",
   "metadata": {},
   "source": [
    "# Initialize Pheromone "
   ]
  },
  {
   "cell_type": "code",
   "execution_count": 13,
   "metadata": {},
   "outputs": [],
   "source": [
    "\n",
    "def TSPher(graph):\n",
    "    \n",
    "    n = len(graph)\n",
    "    route = [i for i in range(n)]\n",
    "    random.shuffle(route)\n",
    "    \n",
    "    cost = Cost([route], graph)[0]\n",
    "    pher = [[cost for i in range(n)] for j in range(n)]\n",
    "    \n",
    "    return pher"
   ]
  },
  {
   "cell_type": "markdown",
   "metadata": {},
   "source": [
    "# Calculate Transition Probability"
   ]
  },
  {
   "cell_type": "code",
   "execution_count": 14,
   "metadata": {},
   "outputs": [],
   "source": [
    "# Transition Probability\n",
    "def TransitionP(connections, alpha, beta):\n",
    "    \"\"\" Takes a list of tuples [(pheromone, distance, hob), ... , (pheromone, distance, hob)]\n",
    "        return trasition probability for each hob [(probability, hob), ... , (probability, hob)]\"\"\"\n",
    "    \n",
    "    total = sum( [ (i[0]**alpha)*(i[1]**beta) for i in connections])    # sum heuristic and pheromone info\n",
    "    prob = [( (((i**alpha)*(j**beta))/total) , k) for i,j,k in connections ]  # probability of each hob\n",
    "    \n",
    "    return prob\n",
    "\n",
    "# pheromone, distance and hob information\n",
    "def DPH(phermatrix, graph, connections, preshob):\n",
    "    \"\"\" DPH(Distance Pheromone hob)\n",
    "        takes a pheromone matrix\n",
    "        graph matrix \n",
    "        connections in graph to use \n",
    "        present hob in graph\n",
    "        and return the pheromone, distance and hob [(pheromone, distance, hob), ... , (pheromone, distance, hob)]\"\"\"\n",
    "    \n",
    "    dph = []\n",
    "    for i in range(len(connections)):\n",
    "        if connections[i] > 0:\n",
    "            dph.append( (phermatrix[preshob][i], 1/graph[preshob][i], i) )\n",
    "            \n",
    "    #dph = [(phermatrix[preshob][i], graph[preshob][i], i) for i in range(len(connections)) if connections[i] > 0 ]\n",
    "    \n",
    "    return dph\n",
    "\n",
    "def Disconnect(visited, connections):\n",
    "    \"\"\" Disconnects already visited hobs\n",
    "    visited: already visited hobs\n",
    "    connections: connection vector with 0: no connection x: length of connection\"\"\"\n",
    "    \n",
    "    for i in visited:\n",
    "        connections[i] = 0\n",
    "        #print(i, visited, connections)\n",
    "    #print(\"DONE++++++++++++++++++++++++++++++++++++++++++++++++++++++++++++++++++++++++++++++++++++++++++++++DONE\")\n",
    "    return connections"
   ]
  },
  {
   "cell_type": "markdown",
   "metadata": {},
   "source": [
    "# Find Path "
   ]
  },
  {
   "cell_type": "code",
   "execution_count": 15,
   "metadata": {},
   "outputs": [],
   "source": [
    "def FindPath(phermatrix, graph, takeoff, alpha = 2, beta = 2):\n",
    "    \n",
    "    path = []\n",
    "    path.append(takeoff)\n",
    "    \n",
    "    while len(path) != len(graph):\n",
    "        \n",
    "        Cons = graph[takeoff].copy()\n",
    "        tabu = path.copy()\n",
    "        Cons = Disconnect(tabu, Cons)\n",
    "        HP = DPH(phermatrix, graph, Cons, takeoff)\n",
    "        prob = TransitionP(HP, alpha, beta)\n",
    "        takeoff = Roulette(PPi([i[0] for i in prob]), [i[1] for i in prob])\n",
    "        \n",
    "        path.append(takeoff)\n",
    " \n",
    "    return path"
   ]
  },
  {
   "cell_type": "markdown",
   "metadata": {},
   "source": [
    "# Update Pheromone "
   ]
  },
  {
   "cell_type": "code",
   "execution_count": 16,
   "metadata": {},
   "outputs": [],
   "source": [
    "# Update Pheromone in visited arcs\n",
    "\n",
    "def UpPheromone(route, matrix):\n",
    "    \"\"\"route : route taken\n",
    "    matrix: pheromone matrix\"\"\"\n",
    "    \n",
    "    tau = 1/Cost([route], matrix)[0]\n",
    "    #tau = 1\n",
    "    \n",
    "    for i in range(len(route)-1):\n",
    "        \n",
    "        matrix[route[i]][route[i+1]] += tau\n",
    "        matrix[route[i+1]][route[i]] += tau\n",
    "    \n",
    "    # add pheromone to last and first route for TSP\n",
    "    matrix[route[-1]][route[0]] += tau\n",
    "    matrix[route[0]][route[-1]] += tau\n",
    "\n",
    "    return matrix\n",
    "\n",
    "\n",
    "# Ant Cycle\n",
    "def UpPheromoneANTC(route, matrix, Q = 1):\n",
    "    \"\"\"route : route taken\n",
    "    matrix: pheromone matrix\n",
    "    Q: a constant \"\"\"\n",
    "    \n",
    "    tau = Q/Cost([route], matrix)[0]\n",
    "    #tau = 1\n",
    "    \n",
    "    for i in range(len(route)-1):\n",
    "        \n",
    "        matrix[route[i]][route[i+1]] += tau\n",
    "        matrix[route[i+1]][route[i]] += tau\n",
    "    \n",
    "    # add pheromone to last and first route for TSP\n",
    "    matrix[route[-1]][route[0]] += tau\n",
    "    matrix[route[0]][route[-1]] += tau\n",
    "\n",
    "    return matrix\n",
    "\n",
    "# Ant Density\n",
    "def UpPheromoneANTD(route, matrix, Q = 1):\n",
    "    \"\"\"route : route taken\n",
    "    matrix: pheromone matrix\n",
    "    Q: a constant \"\"\"\n",
    "   \n",
    "    for i in range(len(route)-1):\n",
    "        \n",
    "        matrix[route[i]][route[i+1]] += Q\n",
    "        matrix[route[i+1]][route[i]] += Q\n",
    "    \n",
    "    # add pheromone to last and first route for TSP\n",
    "    matrix[route[-1]][route[0]] += Q\n",
    "    matrix[route[0]][route[-1]] += Q\n",
    "\n",
    "    return matrix\n",
    "\n",
    "# Ant Quantity\n",
    "def UpPheromoneANTQ(route, matrix, Q = 1):\n",
    "    \"\"\"route : route taken\n",
    "    matrix: pheromone matrix\n",
    "    Q: a constant \"\"\"\n",
    "   \n",
    "    for i in range(len(route)-1):\n",
    "        \n",
    "        tau = Q/matrix[route[i]][route[i+1]]\n",
    "        matrix[route[i]][route[i+1]] += tau\n",
    "        matrix[route[i+1]][route[i]] += tau\n",
    "    \n",
    "    # add pheromone to last and first route for TSP\n",
    "    tau = Q/matrix[route[-1]][route[0]]\n",
    "    matrix[route[-1]][route[0]] += tau\n",
    "    matrix[route[0]][route[-1]] += tau\n",
    "\n",
    "    return matrix"
   ]
  },
  {
   "cell_type": "markdown",
   "metadata": {},
   "source": [
    "# Evaporate Pheromone "
   ]
  },
  {
   "cell_type": "code",
   "execution_count": 17,
   "metadata": {},
   "outputs": [],
   "source": [
    "def EvPheromone(matrix, rho):\n",
    "    \n",
    "    for i in range(len(matrix)):\n",
    "        for j in range(len(matrix)):\n",
    "            if matrix[i][j] > 0:\n",
    "                matrix[i][j] = (1-rho)*matrix[i][j]\n",
    "            else:\n",
    "                matrix[i][j] = math.exp(-5)\n",
    "    return matrix\n",
    "\n",
    "def EvPheromoneNeg(matrix, rho):\n",
    "    \n",
    "    for i in range(len(matrix)):\n",
    "        for j in range(len(matrix)):\n",
    "            matrix[i][j] = (1-rho)*matrix[i][j]\n",
    "        \n",
    "    return matrix"
   ]
  },
  {
   "cell_type": "markdown",
   "metadata": {},
   "source": [
    "# Generate a Toy Symmetric TSP Problem "
   ]
  },
  {
   "cell_type": "code",
   "execution_count": 18,
   "metadata": {},
   "outputs": [],
   "source": [
    "# A random graph\n",
    "def Graph(dim, bounds):\n",
    "    b = [(i, str(i)) for i in range(dim)]   \n",
    "    matrix = []\n",
    "    \n",
    "    for i,j in b:\n",
    "        j=[]\n",
    "        if i == 0:\n",
    "            j.append(0)\n",
    "            matrix.append(j)\n",
    "        else:\n",
    "            for k in range(i+1):\n",
    "                if k == i:\n",
    "                    j.append(0)\n",
    "                else:\n",
    "                    j.append(random.choice([random.randint(bounds[0], bounds[1])]))  # route length\n",
    "            matrix.append(j)\n",
    "            \n",
    "    M = matrix        \n",
    "    for i in range(len(M)):\n",
    "        \n",
    "        for j in range(1,len(M)-len(M[i])+1):\n",
    "            M[i].append(M[i+j][i]) \n",
    "            \n",
    "    return M"
   ]
  },
  {
   "cell_type": "markdown",
   "metadata": {},
   "source": [
    "# Ant System Algorithm"
   ]
  },
  {
   "cell_type": "code",
   "execution_count": 19,
   "metadata": {},
   "outputs": [],
   "source": [
    "def AS(Ngraph, ants, alpha = 1, beta = 3, rho = 0.5, runs = 50, Pher = None):\n",
    "    \n",
    "    if Pher == None:\n",
    "        Pher = TSPher(Ngraph) \n",
    "        \n",
    "    starthob = random.choice([i for i in range(len(Ngraph))])\n",
    "    i = 0\n",
    "    while i < runs:\n",
    "        Ants = []\n",
    "        #starthob = random.choice([i for i in range(len(Ngraph))])\n",
    "        \n",
    "        for j in range(ants):\n",
    "            stof = FindPath(Pher, Ngraph, starthob, alpha, beta)\n",
    "            Ants.append(stof)\n",
    "   \n",
    "        #Pheromone update\n",
    "     \n",
    "        for j in Ants:\n",
    "            #Pher = UpPheromone(j, Pher)\n",
    "            UpPheromoneANTC(j, Pher, 1)  # ant cycle\n",
    "            #UpPheromoneANTD(j, Pher, 1)  # ant density\n",
    "            #UpPheromoneANTQ(j, Pher, 1)  # Ant Quantity\n",
    "            \n",
    "        #Pheromone update  \n",
    "        #EvPheromone(Pher, rho)\n",
    "        EvPheromoneNeg(Pher, rho)\n",
    "        \n",
    "        if i%int(runs*0.05) == 0:\n",
    "            C = Cost(Ants, Ngraph)\n",
    "            print(\"In Generation \", i, \" The Minimum Cost Found is = \", min(C), \"  and the Maximum Cost Found is = \", max(C))\n",
    "            \n",
    "        i += 1 \n",
    "\n",
    "    C = Cost(Ants, Ngraph)    \n",
    "    print(\"Minimum Cost Found = \", min(C), \"Maximum Cost Found = \", max(C))\n",
    "    return np.array(Ants), min(C) #, np.array(Pher)"
   ]
  },
  {
   "cell_type": "markdown",
   "metadata": {},
   "source": [
    "# Example on the Toy Problem"
   ]
  },
  {
   "cell_type": "code",
   "execution_count": 22,
   "metadata": {},
   "outputs": [
    {
     "data": {
      "text/plain": [
       "array([[ 0,  2,  9,  9,  7,  8,  5, 10,  6,  9],\n",
       "       [ 2,  0,  5,  4,  5,  6,  8,  8, 10,  6],\n",
       "       [ 9,  5,  0, 10,  2,  9,  2,  3,  4, 10],\n",
       "       [ 9,  4, 10,  0,  4,  6,  4, 10,  7,  3],\n",
       "       [ 7,  5,  2,  4,  0,  4,  6,  5,  3,  9],\n",
       "       [ 8,  6,  9,  6,  4,  0,  5,  5,  9,  4],\n",
       "       [ 5,  8,  2,  4,  6,  5,  0,  2,  5,  4],\n",
       "       [10,  8,  3, 10,  5,  5,  2,  0,  8,  7],\n",
       "       [ 6, 10,  4,  7,  3,  9,  5,  8,  0,  8],\n",
       "       [ 9,  6, 10,  3,  9,  4,  4,  7,  8,  0]])"
      ]
     },
     "execution_count": 22,
     "metadata": {},
     "output_type": "execute_result"
    }
   ],
   "source": [
    "# Toy Network graph \n",
    "D = 10\n",
    "bounds = (2,10)\n",
    "random.seed(10)\n",
    "graph = Graph(D, bounds)\n",
    "\n",
    "np.array(graph)"
   ]
  },
  {
   "cell_type": "code",
   "execution_count": 23,
   "metadata": {},
   "outputs": [
    {
     "name": "stdout",
     "output_type": "stream",
     "text": [
      "In Generation  0  The Minimum Cost Found is =  34   and the Maximum Cost Found is =  47\n",
      "In Generation  10  The Minimum Cost Found is =  34   and the Maximum Cost Found is =  50\n",
      "In Generation  20  The Minimum Cost Found is =  34   and the Maximum Cost Found is =  41\n",
      "In Generation  30  The Minimum Cost Found is =  34   and the Maximum Cost Found is =  34\n",
      "In Generation  40  The Minimum Cost Found is =  34   and the Maximum Cost Found is =  34\n",
      "In Generation  50  The Minimum Cost Found is =  34   and the Maximum Cost Found is =  34\n",
      "In Generation  60  The Minimum Cost Found is =  34   and the Maximum Cost Found is =  34\n",
      "In Generation  70  The Minimum Cost Found is =  34   and the Maximum Cost Found is =  34\n",
      "In Generation  80  The Minimum Cost Found is =  34   and the Maximum Cost Found is =  34\n",
      "In Generation  90  The Minimum Cost Found is =  34   and the Maximum Cost Found is =  34\n",
      "In Generation  100  The Minimum Cost Found is =  34   and the Maximum Cost Found is =  34\n",
      "In Generation  110  The Minimum Cost Found is =  34   and the Maximum Cost Found is =  34\n",
      "In Generation  120  The Minimum Cost Found is =  34   and the Maximum Cost Found is =  34\n",
      "In Generation  130  The Minimum Cost Found is =  34   and the Maximum Cost Found is =  34\n",
      "In Generation  140  The Minimum Cost Found is =  34   and the Maximum Cost Found is =  34\n",
      "In Generation  150  The Minimum Cost Found is =  34   and the Maximum Cost Found is =  34\n",
      "In Generation  160  The Minimum Cost Found is =  34   and the Maximum Cost Found is =  34\n",
      "In Generation  170  The Minimum Cost Found is =  34   and the Maximum Cost Found is =  34\n",
      "In Generation  180  The Minimum Cost Found is =  34   and the Maximum Cost Found is =  34\n",
      "In Generation  190  The Minimum Cost Found is =  34   and the Maximum Cost Found is =  34\n",
      "Minimum Cost Found =  34 Maximum Cost Found =  34\n"
     ]
    },
    {
     "data": {
      "text/plain": [
       "(array([[6, 7, 2, 4, 8, 0, 1, 3, 9, 5],\n",
       "        [6, 7, 2, 4, 8, 0, 1, 3, 9, 5],\n",
       "        [6, 7, 2, 4, 8, 0, 1, 3, 9, 5],\n",
       "        [6, 7, 2, 4, 8, 0, 1, 3, 9, 5],\n",
       "        [6, 7, 2, 4, 8, 0, 1, 3, 9, 5],\n",
       "        [6, 7, 2, 4, 8, 0, 1, 3, 9, 5],\n",
       "        [6, 7, 2, 4, 8, 0, 1, 3, 9, 5],\n",
       "        [6, 7, 2, 4, 8, 0, 1, 3, 9, 5],\n",
       "        [6, 7, 2, 4, 8, 0, 1, 3, 9, 5],\n",
       "        [6, 7, 2, 4, 8, 0, 1, 3, 9, 5]]), 34)"
      ]
     },
     "execution_count": 23,
     "metadata": {},
     "output_type": "execute_result"
    }
   ],
   "source": [
    "# Find Shortest Path with the Algorithm\n",
    "\n",
    "ants = len(graph)\n",
    "alpha = 1\n",
    "beta = 3\n",
    "rho = 0.5\n",
    "runs = 200\n",
    "\n",
    "AS(graph, ants, alpha, beta, rho, runs)"
   ]
  },
  {
   "cell_type": "markdown",
   "metadata": {},
   "source": [
    "# Soving Real TSP problems "
   ]
  },
  {
   "cell_type": "code",
   "execution_count": 26,
   "metadata": {},
   "outputs": [
    {
     "name": "stdout",
     "output_type": "stream",
     "text": [
      "In Generation  0  The Minimum Cost Found is =  39723.99538664912   and the Maximum Cost Found is =  59083.479835798826\n",
      "In Generation  10  The Minimum Cost Found is =  40285.56325812245   and the Maximum Cost Found is =  67493.65396394003\n",
      "In Generation  20  The Minimum Cost Found is =  43419.9216669635   and the Maximum Cost Found is =  62549.526900680205\n",
      "In Generation  30  The Minimum Cost Found is =  41480.81579592538   and the Maximum Cost Found is =  62671.04243199685\n",
      "In Generation  40  The Minimum Cost Found is =  39846.169951941985   and the Maximum Cost Found is =  60614.50237136311\n",
      "In Generation  50  The Minimum Cost Found is =  42375.85160714432   and the Maximum Cost Found is =  60891.49991173873\n",
      "In Generation  60  The Minimum Cost Found is =  41502.05477548797   and the Maximum Cost Found is =  65628.34521031249\n",
      "In Generation  70  The Minimum Cost Found is =  42029.027633495825   and the Maximum Cost Found is =  63137.91117921977\n",
      "In Generation  80  The Minimum Cost Found is =  41786.0473627614   and the Maximum Cost Found is =  58826.9630876601\n",
      "In Generation  90  The Minimum Cost Found is =  41670.127210110346   and the Maximum Cost Found is =  63907.56756325281\n",
      "In Generation  100  The Minimum Cost Found is =  42957.03751613415   and the Maximum Cost Found is =  59368.438277816065\n",
      "In Generation  110  The Minimum Cost Found is =  39771.25339424281   and the Maximum Cost Found is =  61640.06239042015\n",
      "In Generation  120  The Minimum Cost Found is =  43255.73074449688   and the Maximum Cost Found is =  60748.33922500217\n",
      "In Generation  130  The Minimum Cost Found is =  39927.48463746719   and the Maximum Cost Found is =  59195.91302262484\n",
      "In Generation  140  The Minimum Cost Found is =  40610.97526096036   and the Maximum Cost Found is =  55926.618103599845\n",
      "In Generation  150  The Minimum Cost Found is =  40678.22731328706   and the Maximum Cost Found is =  64378.441996063426\n",
      "In Generation  160  The Minimum Cost Found is =  41868.255599126205   and the Maximum Cost Found is =  62932.77886824931\n",
      "In Generation  170  The Minimum Cost Found is =  41518.64352475001   and the Maximum Cost Found is =  60615.48619001456\n",
      "In Generation  180  The Minimum Cost Found is =  41790.98515724788   and the Maximum Cost Found is =  62283.29676722275\n",
      "In Generation  190  The Minimum Cost Found is =  40935.18400557549   and the Maximum Cost Found is =  60369.92167346783\n",
      "Minimum Cost Found =  40848.54873306147 Maximum Cost Found =  57685.540656143225\n"
     ]
    },
    {
     "data": {
      "text/plain": [
       "(array([[38, 31, 14, ...,  4, 20,  1],\n",
       "        [38, 31, 20, ..., 40, 15, 28],\n",
       "        [38, 31, 20, ..., 23, 44, 34],\n",
       "        ...,\n",
       "        [38, 31, 13, ..., 28, 40,  1],\n",
       "        [38, 31, 41, ..., 29, 16, 35],\n",
       "        [38, 31, 32, ...,  1, 34, 44]]), 40848.54873306147)"
      ]
     },
     "execution_count": 26,
     "metadata": {},
     "output_type": "execute_result"
    }
   ],
   "source": [
    "# att48\n",
    "\n",
    "import RouteMatrix as RM\n",
    "path = './Data/att48.txt'\n",
    "graph = RM.TSRM(path)\n",
    "\n",
    "\n",
    "ants = len(graph)\n",
    "alpha = 1\n",
    "beta = 4\n",
    "rho = 0.05\n",
    "runs = 200\n",
    "\n",
    "AS(graph, ants, alpha, beta, rho, runs)"
   ]
  },
  {
   "cell_type": "code",
   "execution_count": 27,
   "metadata": {},
   "outputs": [
    {
     "name": "stdout",
     "output_type": "stream",
     "text": [
      "In Generation  0  The Minimum Cost Found is =  36.733624017913485   and the Maximum Cost Found is =  47.74419282320973\n",
      "In Generation  50  The Minimum Cost Found is =  36.733624017913485   and the Maximum Cost Found is =  46.56148859029704\n",
      "In Generation  100  The Minimum Cost Found is =  35.16528840113981   and the Maximum Cost Found is =  44.64134130405837\n",
      "In Generation  150  The Minimum Cost Found is =  31.456233837620534   and the Maximum Cost Found is =  42.121810905522096\n",
      "In Generation  200  The Minimum Cost Found is =  34.726251177601064   and the Maximum Cost Found is =  40.66808365605398\n",
      "In Generation  250  The Minimum Cost Found is =  36.50430528972049   and the Maximum Cost Found is =  40.66808365605398\n",
      "In Generation  300  The Minimum Cost Found is =  36.391841716646354   and the Maximum Cost Found is =  41.21791786624304\n",
      "In Generation  350  The Minimum Cost Found is =  36.50430528972049   and the Maximum Cost Found is =  45.15449278628246\n",
      "In Generation  400  The Minimum Cost Found is =  36.50430528972049   and the Maximum Cost Found is =  44.32347972118464\n",
      "In Generation  450  The Minimum Cost Found is =  36.50430528972049   and the Maximum Cost Found is =  44.17272216950739\n",
      "In Generation  500  The Minimum Cost Found is =  32.176728737294084   and the Maximum Cost Found is =  36.733624017913485\n",
      "In Generation  550  The Minimum Cost Found is =  36.50430528972049   and the Maximum Cost Found is =  36.733624017913485\n",
      "In Generation  600  The Minimum Cost Found is =  36.50430528972049   and the Maximum Cost Found is =  36.733624017913485\n",
      "In Generation  650  The Minimum Cost Found is =  36.50430528972049   and the Maximum Cost Found is =  36.733624017913485\n",
      "In Generation  700  The Minimum Cost Found is =  36.504305289720484   and the Maximum Cost Found is =  36.733624017913485\n",
      "In Generation  750  The Minimum Cost Found is =  36.50430528972049   and the Maximum Cost Found is =  36.733624017913485\n",
      "In Generation  800  The Minimum Cost Found is =  36.50430528972049   and the Maximum Cost Found is =  36.733624017913485\n",
      "In Generation  850  The Minimum Cost Found is =  36.504305289720484   and the Maximum Cost Found is =  36.733624017913485\n",
      "In Generation  900  The Minimum Cost Found is =  36.50430528972049   and the Maximum Cost Found is =  36.733624017913485\n",
      "In Generation  950  The Minimum Cost Found is =  36.50430528972049   and the Maximum Cost Found is =  36.733624017913485\n",
      "Minimum Cost Found =  36.50430528972049 Maximum Cost Found =  36.733624017913485\n"
     ]
    },
    {
     "data": {
      "text/plain": [
       "(array([[ 2, 13, 11,  5,  6, 12,  7,  0,  8, 10,  9,  1,  3,  4],\n",
       "        [ 2, 13, 11,  5,  6, 12,  7,  0,  8, 10,  9,  1,  3,  4],\n",
       "        [ 2, 13, 11,  5,  6, 12,  7,  0, 10,  8,  9,  1,  3,  4],\n",
       "        [ 2, 13, 11,  5,  6, 12,  7,  0,  8, 10,  9,  1,  3,  4],\n",
       "        [ 2, 13, 11,  5,  6, 12,  7,  0, 10,  8,  9,  1,  3,  4],\n",
       "        [ 2, 13, 11,  5,  6, 12,  7,  0,  8, 10,  9,  1,  3,  4],\n",
       "        [ 2, 13, 11,  5,  6, 12,  7,  0,  8, 10,  9,  1,  3,  4],\n",
       "        [ 2, 13, 11,  5,  6, 12,  7,  0, 10,  8,  9,  1,  3,  4],\n",
       "        [ 2, 13, 11,  5,  6, 12,  7,  0, 10,  8,  9,  1,  3,  4],\n",
       "        [ 2, 13, 11,  5,  6, 12,  7,  0, 10,  8,  9,  1,  3,  4],\n",
       "        [ 2, 13, 11,  5,  6, 12,  7,  0,  8, 10,  9,  1,  3,  4],\n",
       "        [ 2, 13, 11,  5,  6, 12,  7,  0, 10,  8,  9,  1,  3,  4],\n",
       "        [ 2, 13, 11,  5,  6, 12,  7,  0,  8, 10,  9,  1,  3,  4],\n",
       "        [ 2, 13, 11,  5,  6, 12,  7,  0,  8, 10,  9,  1,  3,  4]]),\n",
       " 36.50430528972049)"
      ]
     },
     "execution_count": 27,
     "metadata": {},
     "output_type": "execute_result"
    }
   ],
   "source": [
    "import RouteMatrix as RM\n",
    "path = './Data/burma14.txt'\n",
    "graph = RM.TSRM(path)\n",
    "\n",
    "\n",
    "ants = len(graph)\n",
    "#ants = 100\n",
    "alpha = 1\n",
    "beta = 4\n",
    "rho = 0.05\n",
    "runs = 1000\n",
    "\n",
    "AS(graph, ants, alpha, beta, rho, runs)"
   ]
  },
  {
   "cell_type": "code",
   "execution_count": null,
   "metadata": {},
   "outputs": [],
   "source": []
  },
  {
   "cell_type": "code",
   "execution_count": null,
   "metadata": {},
   "outputs": [],
   "source": []
  },
  {
   "cell_type": "code",
   "execution_count": null,
   "metadata": {},
   "outputs": [],
   "source": []
  },
  {
   "cell_type": "code",
   "execution_count": null,
   "metadata": {},
   "outputs": [],
   "source": []
  },
  {
   "cell_type": "code",
   "execution_count": null,
   "metadata": {},
   "outputs": [],
   "source": []
  }
 ],
 "metadata": {
  "kernelspec": {
   "display_name": "Python [default]",
   "language": "python",
   "name": "python3"
  },
  "language_info": {
   "codemirror_mode": {
    "name": "ipython",
    "version": 3
   },
   "file_extension": ".py",
   "mimetype": "text/x-python",
   "name": "python",
   "nbconvert_exporter": "python",
   "pygments_lexer": "ipython3",
   "version": "3.5.6"
  }
 },
 "nbformat": 4,
 "nbformat_minor": 2
}
