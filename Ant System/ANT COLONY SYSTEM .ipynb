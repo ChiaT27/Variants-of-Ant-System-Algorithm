{
 "cells": [
  {
   "cell_type": "markdown",
   "metadata": {},
   "source": [
    "# The Elite Ant System Algorithm For The Travelling Salesman Problem\n",
    "\n",
    "Algorithm from the Book **Ant Colony Optimization by Marco Dorigo and Thomas Stützle**"
   ]
  },
  {
   "cell_type": "code",
   "execution_count": 155,
   "metadata": {},
   "outputs": [],
   "source": [
    "#----------------------------------------\n",
    "# Chia E. Tungom\n",
    "# chemago99@yahoo.com\n",
    "# July 30th 2020\n",
    "# Shenzhen China\n",
    "#----------------------------------------"
   ]
  },
  {
   "cell_type": "code",
   "execution_count": 156,
   "metadata": {},
   "outputs": [],
   "source": [
    "# import libraries\n",
    "\n",
    "import numpy as np\n",
    "import math\n",
    "import random"
   ]
  },
  {
   "cell_type": "markdown",
   "metadata": {},
   "source": [
    "# Roulette Wheel for Probability"
   ]
  },
  {
   "cell_type": "code",
   "execution_count": 157,
   "metadata": {},
   "outputs": [],
   "source": [
    "# probability and selection using roulette wheel \n",
    "\n",
    "# Calculate cumulative sum for roulette wheel \n",
    "def PPi(pi):\n",
    "    \"\"\" pi: list with probability values\n",
    "        return roulette proportions\"\"\"\n",
    "    n = len(pi)\n",
    "    ans = []\n",
    "    \n",
    "    for i in range(n):\n",
    "        ans.append( sum([i for i in pi[:i+1]]) )\n",
    "    return ans \n",
    "\n",
    "# Roulette Wheel \n",
    "def Roulette(ppi, Pop):\n",
    "    \"\"\" ppi: list of roulette proportions\n",
    "        Pop: list of corresponding item   [item1, ... , itemN] \"\"\"\n",
    "    \n",
    "    n = len(ppi)\n",
    "    ra = random.random()\n",
    "    \n",
    "    for i in range(n):\n",
    "        if i == 0 :\n",
    "            if ra > 0 and ra < ppi[i]:\n",
    "                return Pop[i]\n",
    "        else:\n",
    "            if ra > ppi[i-1] and ra < ppi[i]:\n",
    "                return Pop[i]"
   ]
  },
  {
   "cell_type": "markdown",
   "metadata": {},
   "source": [
    "# Calculate Route Cost and Rank Ants"
   ]
  },
  {
   "cell_type": "code",
   "execution_count": 158,
   "metadata": {},
   "outputs": [],
   "source": [
    "# calculate cost of each route\n",
    "def Cost(Pop, graph):\n",
    "    \"\"\" Pop: List of All Items in the e.g [[item1], ... , [itemN]]\n",
    "    graph: cost matrix or graph \n",
    "    returns a cost vector for corresponding item \"\"\"\n",
    "    \n",
    "    Cvector = []\n",
    "    \n",
    "    for i in range(len(Pop)):\n",
    "        route = Pop[i]\n",
    "        cost = 0\n",
    "        \n",
    "        for j in range(len(route)-1):\n",
    "            cost += graph[route[j]][route[j+1]]\n",
    "        cost += graph[route[0]][route[len(route)-1]]   \n",
    "        Cvector.append(cost)\n",
    "        \n",
    "    return Cvector\n",
    "\n",
    "# Sort Chromosomes from Best to Worst\n",
    "def Rank(Pop, graph):\n",
    "    \"\"\" returns sorted Ants \"\"\"\n",
    "    cost = Cost(Pop, graph)\n",
    "    ans = [ x for _,x in sorted(zip(cost, Pop))]\n",
    "    #cost = [ _ for _,x in sorted(zip(cost, Pop))]  # need to use the true cost\n",
    "    return ans"
   ]
  },
  {
   "cell_type": "markdown",
   "metadata": {},
   "source": [
    "# Initialize Pheromone "
   ]
  },
  {
   "cell_type": "code",
   "execution_count": 159,
   "metadata": {},
   "outputs": [],
   "source": [
    "# AS initialization\n",
    "def TSPher(graph):\n",
    "    \n",
    "    n = len(graph)\n",
    "    route = [i for i in range(n)]\n",
    "    random.shuffle(route)\n",
    "    \n",
    "    cost = Cost([route], graph)[0]\n",
    "    pher = [[cost for i in range(n)] for j in range(n)]\n",
    "    \n",
    "    return pher\n",
    "\n",
    "# EAS initialization\n",
    "def EASTSPher(graph, e, m, rho):\n",
    "    \n",
    "    n = len(graph)\n",
    "    route = [i for i in range(n)]\n",
    "    random.shuffle(route)\n",
    "    \n",
    "    cost = Cost([route], graph)[0]\n",
    "    \n",
    "    numer = e + m\n",
    "    den = rho*cost\n",
    "    pher = [[numer/den for i in range(n)] for j in range(n)]\n",
    "    \n",
    "    return pher\n",
    "\n",
    "# Ant Colony System\n",
    "def ACSTSPher(graph):\n",
    "    \n",
    "    n = len(graph)\n",
    "    route = [i for i in range(n)]\n",
    "    random.shuffle(route)\n",
    "    \n",
    "    cost = Cost([route], graph)[0]\n",
    "    \n",
    "    den = n*cost\n",
    "    pher = [[1/den for i in range(n)] for j in range(n)]\n",
    "    \n",
    "    return pher"
   ]
  },
  {
   "cell_type": "markdown",
   "metadata": {},
   "source": [
    "# Calculate Transition Probability"
   ]
  },
  {
   "cell_type": "code",
   "execution_count": 186,
   "metadata": {},
   "outputs": [],
   "source": [
    "# Transition Probability\n",
    "def TransitionP(connections, alpha, beta):\n",
    "    \"\"\" Takes a list of tuples [(pheromone, distance, hob), ... , (pheromone, distance, hob)]\n",
    "        return trasition probability for each hob [(probability, hob), ... , (probability, hob)]\"\"\"\n",
    "    \n",
    "    total = sum( [ (i[0]**alpha)*(i[1]**beta) for i in connections])    # sum heuristic and pheromone info\n",
    "    prob = [( (((i**alpha)*(j**beta))/total) , k) for i,j,k in connections ]  # probability of each hob\n",
    "    \n",
    "    return prob\n",
    "\n",
    "def TransitionP_ACS(connections, beta, alpha = 1):\n",
    "    \"\"\" Takes a list of tuples [(pheromone, distance, hob), ... , (pheromone, distance, hob)]\n",
    "        return trasition probability for each hob [(probability, hob), ... , (probability, hob)]\"\"\"\n",
    "    \n",
    "    prob = [( (i**alpha)*(j**beta) , k) for i,j,k in connections ]  # probability of each hob\n",
    "    Choice = max(prob)\n",
    "    \n",
    "    return Choice[1]\n",
    "\n",
    "# pheromone, distance and hob information\n",
    "def DPH(phermatrix, graph, connections, preshob):\n",
    "    \"\"\" DPH(Distance Pheromone hob)\n",
    "        takes a pheromone matrix\n",
    "        graph matrix \n",
    "        connections in graph to use \n",
    "        present hob in graph\n",
    "        and return the pheromone, distance and hob [(pheromone, distance, hob), ... , (pheromone, distance, hob)]\"\"\"\n",
    "    \n",
    "    dph = []\n",
    "    for i in range(len(connections)):\n",
    "        if connections[i] > 0:\n",
    "            dph.append( (phermatrix[preshob][i], 1/graph[preshob][i], i) )\n",
    "            \n",
    "    #dph = [(phermatrix[preshob][i], graph[preshob][i], i) for i in range(len(connections)) if connections[i] > 0 ]\n",
    "    \n",
    "    return dph\n",
    "\n",
    "def Disconnect(visited, connections):\n",
    "    \"\"\" Disconnects already visited hobs\n",
    "    visited: already visited hobs\n",
    "    connections: connection vector with 0: no connection x: length of connection\"\"\"\n",
    "    \n",
    "    for i in visited:\n",
    "        connections[i] = 0\n",
    "        \n",
    "    return connections"
   ]
  },
  {
   "cell_type": "markdown",
   "metadata": {},
   "source": [
    "# Find Path "
   ]
  },
  {
   "cell_type": "code",
   "execution_count": 187,
   "metadata": {},
   "outputs": [],
   "source": [
    "def FindPath(phermatrix, graph, takeoff, t0 , eps = 0.1, q0 = 0.5, alpha = 2, beta = 2):\n",
    "    \n",
    "    path = []\n",
    "    path.append(takeoff)\n",
    "    \n",
    "    while len(path) != len(graph):\n",
    "        \n",
    "        Cons = graph[takeoff].copy()\n",
    "        tabu = path.copy()\n",
    "        Cons = Disconnect(tabu, Cons)\n",
    "        HP = DPH(phermatrix, graph, Cons, takeoff)\n",
    "        \n",
    "        if random.random() <= q0:\n",
    "            takeoff = TransitionP_ACS(HP, beta)\n",
    "            path.append(takeoff)\n",
    "        else:\n",
    "            prob = TransitionP(HP, alpha, beta)\n",
    "            takeoff = Roulette(PPi([i[0] for i in prob]), [i[1] for i in prob])\n",
    "            path.append(takeoff)\n",
    "        \n",
    "        # evaporate pheromone\n",
    "        #print(path, path[-1], path[-2])\n",
    "        U = (1 - eps)*phermatrix[path[-1]][path[-2]] + (eps*t0)\n",
    "        phermatrix[path[-1]][path[-2]] = U\n",
    "        phermatrix[path[-2]][path[-1]] = U\n",
    " \n",
    "    return path"
   ]
  },
  {
   "cell_type": "markdown",
   "metadata": {},
   "source": [
    "# Get Elite Route and Connections"
   ]
  },
  {
   "cell_type": "code",
   "execution_count": 188,
   "metadata": {},
   "outputs": [],
   "source": [
    "def Elite(Elite, ant, graph):\n",
    "    \n",
    "    if Cost([ant], graph)[0] < Cost([Elite], graph)[0]:\n",
    "        return ant\n",
    "    else:\n",
    "        return Elite\n",
    "\n",
    "def connections(L):\n",
    "    \"\"\"L is a list\n",
    "    one way connection \"\"\"\n",
    "    \n",
    "    cons = []\n",
    "    for i in range(1,len(L)):\n",
    "        cons.append( (L[i-1], L[i]) )\n",
    "    \n",
    "    cons.append((L[-1], L[0]))\n",
    "    \n",
    "    return cons\n",
    "\n",
    "def connectionsE(L):\n",
    "    \"\"\"L is a list\n",
    "    Two way connection \"\"\"\n",
    "    \n",
    "    cons = []\n",
    "    for i in range(1,len(L)):\n",
    "        cons.append( (L[i-1], L[i]) )\n",
    "        cons.append( (L[i], L[i-1]) )\n",
    "    \n",
    "    cons.append((L[-1], L[0]))\n",
    "    cons.append((L[0], L[1]))\n",
    "    \n",
    "    return cons"
   ]
  },
  {
   "cell_type": "markdown",
   "metadata": {},
   "source": [
    "# Update Pheromone "
   ]
  },
  {
   "cell_type": "code",
   "execution_count": 189,
   "metadata": {},
   "outputs": [],
   "source": [
    "# Ant Colony System. Global Update and Evaporation\n",
    "def ElitePheromoneACS(Elite, matrix, rho):\n",
    "    \"\"\"route : route taken\n",
    "    matrix: pheromone matrix\"\"\"\n",
    "    \n",
    "    bstau = 1/Cost([Elite], matrix)[0]\n",
    "    #tau = 1\n",
    "    \n",
    "    for i in range(len(Elite)-1):\n",
    "        U = (1-rho)*(matrix[Elite[i]][Elite[i+1]]) + (rho*bstau)\n",
    "        matrix[Elite[i]][Elite[i+1]] = U \n",
    "        matrix[Elite[i+1]][Elite[i]] = U \n",
    "    \n",
    "    U = (1-rho)*(matrix[Elite[-1]][Elite[0]]) + (rho*bstau)\n",
    "    matrix[Elite[-1]][Elite[0]] = U\n",
    "    matrix[Elite[0]][Elite[-1]] = U\n",
    "\n",
    "    return matrix\n",
    "\n",
    "# Ant Colony System. local Update\n",
    "def AntPheromoneACS(Ant, matrix, eps, t0):\n",
    "    \"\"\"route : route taken\n",
    "    matrix: pheromone matrix\"\"\"\n",
    "    \n",
    "    bstau = 1/Cost([Ant], matrix)[0]\n",
    "    #tau = 1\n",
    "    \n",
    "    for i in range(len(Ant)-1):\n",
    "        U = (1-eps)*(matrix[Ant[i]][Ant[i+1]]) + (eps*t0)\n",
    "        matrix[Ant[i]][Ant[i+1]] = U \n",
    "        matrix[Ant[i+1]][Ant[i]] = U \n",
    "    \n",
    "    U = (1-eps)*(matrix[Ant[-1]][Ant[0]]) + (eps*t0)\n",
    "    matrix[Ant[-1]][Ant[0]] = U\n",
    "    matrix[Ant[0]][Ant[-1]] = U\n",
    "\n",
    "    return matrix"
   ]
  },
  {
   "cell_type": "markdown",
   "metadata": {},
   "source": [
    "# Generate a Toy Symmetric TSP Problem "
   ]
  },
  {
   "cell_type": "code",
   "execution_count": 190,
   "metadata": {},
   "outputs": [],
   "source": [
    "# A random graph\n",
    "def Graph(dim, bounds):\n",
    "    b = [(i, str(i)) for i in range(dim)]   \n",
    "    matrix = []\n",
    "    \n",
    "    for i,j in b:\n",
    "        j=[]\n",
    "        if i == 0:\n",
    "            j.append(0)\n",
    "            matrix.append(j)\n",
    "        else:\n",
    "            for k in range(i+1):\n",
    "                if k == i:\n",
    "                    j.append(0)\n",
    "                else:\n",
    "                    j.append(random.choice([random.randint(bounds[0], bounds[1])]))  # route length\n",
    "            matrix.append(j)\n",
    "            \n",
    "    M = matrix        \n",
    "    for i in range(len(M)):\n",
    "        \n",
    "        for j in range(1,len(M)-len(M[i])+1):\n",
    "            M[i].append(M[i+j][i]) \n",
    "            \n",
    "    return M"
   ]
  },
  {
   "cell_type": "markdown",
   "metadata": {},
   "source": [
    "# Ant System Algorithm"
   ]
  },
  {
   "cell_type": "code",
   "execution_count": 195,
   "metadata": {},
   "outputs": [],
   "source": [
    "def ACS(Ngraph, ants, alpha = 1, beta = 3, rho = 0.5, eps = 0.1, q0 = 0.9, runs = 50, Pher = None):\n",
    "    \n",
    "    if Pher == None:\n",
    "        #Pher = TSPher(Ngraph)\n",
    "        Pher = ACSTSPher(graph)\n",
    "    t0 = Pher[0][0]   \n",
    "    starthob = random.choice([i for i in range(len(Ngraph))])\n",
    "\n",
    "    GOAT = [i for i in range(len(Ngraph))]  # initial best ant\n",
    "    \n",
    "    i = 0\n",
    "    while i < runs:\n",
    "        Ants = []\n",
    "        #starthob = random.choice([i for i in range(len(Ngraph))])\n",
    "        \n",
    "        for j in range(ants):\n",
    "            stof = FindPath(Pher, Ngraph, starthob, t0, eps, q0, alpha, beta)\n",
    "            Ants.append(stof)\n",
    "            GOAT = Elite(GOAT, stof, Ngraph)\n",
    "            \n",
    "        # Rank Ants by sorting and keep top w-1\n",
    "        #Ranked = Rank(Ants, graph)[:w-1]\n",
    "        \n",
    "        #Pheromone update\n",
    "        \n",
    "        ElitePheromoneACS(GOAT, Pher, rho)\n",
    "        \n",
    "        #Pheromone evaporation\n",
    "        #EvPheromone(Pher, rho)\n",
    "        #EvPheromoneNeg(Pher, rho)\n",
    "        \n",
    "        if i%int(runs*0.05) == 0:\n",
    "            C = Cost(Ants, Ngraph)\n",
    "            E = Cost([GOAT], Ngraph)[0]\n",
    "            print(\"Evolution \", i, \" Elite Cost = \", E,  \" Minimum Cost = \", min(C), \"  and Maximum Cost = \", max(C))\n",
    "            #print(\"<<<<<<<<  The Best Route IS  >>>>>>>> \", GOAT)\n",
    "        i += 1 \n",
    "\n",
    "    C = Cost(Ants, Ngraph)    \n",
    "    print(\"Minimum Cost Found = \", min(C), \"Maximum Cost Found = \", max(C))\n",
    "    return np.array(Ants), min(C) #, np.array(Pher)"
   ]
  },
  {
   "cell_type": "markdown",
   "metadata": {},
   "source": [
    "# Example on the Toy Problem"
   ]
  },
  {
   "cell_type": "code",
   "execution_count": 196,
   "metadata": {},
   "outputs": [
    {
     "data": {
      "text/plain": [
       "array([[ 0,  2,  9,  9,  7,  8,  5, 10,  6,  9],\n",
       "       [ 2,  0,  5,  4,  5,  6,  8,  8, 10,  6],\n",
       "       [ 9,  5,  0, 10,  2,  9,  2,  3,  4, 10],\n",
       "       [ 9,  4, 10,  0,  4,  6,  4, 10,  7,  3],\n",
       "       [ 7,  5,  2,  4,  0,  4,  6,  5,  3,  9],\n",
       "       [ 8,  6,  9,  6,  4,  0,  5,  5,  9,  4],\n",
       "       [ 5,  8,  2,  4,  6,  5,  0,  2,  5,  4],\n",
       "       [10,  8,  3, 10,  5,  5,  2,  0,  8,  7],\n",
       "       [ 6, 10,  4,  7,  3,  9,  5,  8,  0,  8],\n",
       "       [ 9,  6, 10,  3,  9,  4,  4,  7,  8,  0]])"
      ]
     },
     "execution_count": 196,
     "metadata": {},
     "output_type": "execute_result"
    }
   ],
   "source": [
    "# Toy Network graph \n",
    "D = 10\n",
    "bounds = (2,10)\n",
    "random.seed(10)\n",
    "graph = Graph(D, bounds)\n",
    "\n",
    "np.array(graph)"
   ]
  },
  {
   "cell_type": "code",
   "execution_count": 197,
   "metadata": {},
   "outputs": [
    {
     "name": "stdout",
     "output_type": "stream",
     "text": [
      "Evolution  0  Elite Cost =  33  Minimum Cost =  33   and Maximum Cost =  44\n",
      "Evolution  10  Elite Cost =  33  Minimum Cost =  33   and Maximum Cost =  33\n",
      "Evolution  20  Elite Cost =  33  Minimum Cost =  33   and Maximum Cost =  33\n",
      "Evolution  30  Elite Cost =  33  Minimum Cost =  33   and Maximum Cost =  33\n",
      "Evolution  40  Elite Cost =  33  Minimum Cost =  33   and Maximum Cost =  33\n",
      "Evolution  50  Elite Cost =  33  Minimum Cost =  33   and Maximum Cost =  33\n",
      "Evolution  60  Elite Cost =  33  Minimum Cost =  33   and Maximum Cost =  33\n",
      "Evolution  70  Elite Cost =  33  Minimum Cost =  33   and Maximum Cost =  33\n",
      "Evolution  80  Elite Cost =  33  Minimum Cost =  33   and Maximum Cost =  33\n",
      "Evolution  90  Elite Cost =  33  Minimum Cost =  33   and Maximum Cost =  33\n",
      "Evolution  100  Elite Cost =  33  Minimum Cost =  33   and Maximum Cost =  33\n",
      "Evolution  110  Elite Cost =  33  Minimum Cost =  33   and Maximum Cost =  33\n",
      "Evolution  120  Elite Cost =  33  Minimum Cost =  33   and Maximum Cost =  33\n",
      "Evolution  130  Elite Cost =  33  Minimum Cost =  33   and Maximum Cost =  33\n",
      "Evolution  140  Elite Cost =  33  Minimum Cost =  33   and Maximum Cost =  33\n",
      "Evolution  150  Elite Cost =  33  Minimum Cost =  33   and Maximum Cost =  33\n",
      "Evolution  160  Elite Cost =  33  Minimum Cost =  33   and Maximum Cost =  33\n",
      "Evolution  170  Elite Cost =  33  Minimum Cost =  33   and Maximum Cost =  33\n",
      "Evolution  180  Elite Cost =  33  Minimum Cost =  33   and Maximum Cost =  33\n",
      "Evolution  190  Elite Cost =  33  Minimum Cost =  33   and Maximum Cost =  33\n",
      "Minimum Cost Found =  33 Maximum Cost Found =  33\n"
     ]
    },
    {
     "data": {
      "text/plain": [
       "(array([[6, 7, 5, 9, 3, 1, 0, 8, 4, 2],\n",
       "        [6, 2, 4, 8, 0, 1, 3, 9, 5, 7],\n",
       "        [6, 2, 4, 8, 0, 1, 3, 9, 5, 7],\n",
       "        [6, 7, 5, 9, 3, 1, 0, 8, 4, 2],\n",
       "        [6, 7, 5, 9, 3, 1, 0, 8, 4, 2],\n",
       "        [6, 2, 4, 8, 0, 1, 3, 9, 5, 7],\n",
       "        [6, 7, 5, 9, 3, 1, 0, 8, 4, 2],\n",
       "        [6, 2, 4, 8, 0, 1, 3, 9, 5, 7],\n",
       "        [6, 7, 5, 9, 3, 1, 0, 8, 4, 2],\n",
       "        [6, 2, 4, 8, 0, 1, 3, 9, 5, 7]]), 33)"
      ]
     },
     "execution_count": 197,
     "metadata": {},
     "output_type": "execute_result"
    }
   ],
   "source": [
    "# Find Shortest Path with the Algorithm\n",
    "\n",
    "ants = 10\n",
    "alpha = 1\n",
    "beta = 3\n",
    "rho = 0.1\n",
    "eps = 0.1\n",
    "q0 = 0.9\n",
    "runs = 200\n",
    "\n",
    "ACS(graph, ants, alpha, beta, rho, eps, q0, runs)"
   ]
  },
  {
   "cell_type": "markdown",
   "metadata": {},
   "source": [
    "# Soving Real TSP problems "
   ]
  },
  {
   "cell_type": "code",
   "execution_count": 198,
   "metadata": {},
   "outputs": [
    {
     "name": "stdout",
     "output_type": "stream",
     "text": [
      "Evolution  0  Elite Cost =  46182.9235699377  Minimum Cost =  46182.9235699377   and Maximum Cost =  57887.56961170709\n",
      "Evolution  10  Elite Cost =  46182.9235699377  Minimum Cost =  46182.9235699377   and Maximum Cost =  46182.923569937724\n",
      "Evolution  20  Elite Cost =  41220.15022749473  Minimum Cost =  41220.15022749473   and Maximum Cost =  48603.23670873572\n",
      "Evolution  30  Elite Cost =  41220.15022749472  Minimum Cost =  41220.15022749473   and Maximum Cost =  46400.39366064891\n",
      "Evolution  40  Elite Cost =  41220.15022749472  Minimum Cost =  41220.15022749472   and Maximum Cost =  41220.15022749473\n",
      "Evolution  50  Elite Cost =  41220.15022749472  Minimum Cost =  41220.15022749473   and Maximum Cost =  41220.15022749473\n",
      "Evolution  60  Elite Cost =  41220.15022749472  Minimum Cost =  41220.15022749473   and Maximum Cost =  41220.15022749473\n",
      "Evolution  70  Elite Cost =  41220.15022749472  Minimum Cost =  41220.15022749473   and Maximum Cost =  46114.40358622766\n",
      "Evolution  80  Elite Cost =  41220.15022749472  Minimum Cost =  41220.15022749473   and Maximum Cost =  41220.15022749473\n",
      "Evolution  90  Elite Cost =  41220.15022749472  Minimum Cost =  41220.15022749473   and Maximum Cost =  41220.15022749473\n",
      "Evolution  100  Elite Cost =  41220.15022749472  Minimum Cost =  41220.15022749473   and Maximum Cost =  41220.15022749473\n",
      "Evolution  110  Elite Cost =  41220.15022749472  Minimum Cost =  41220.15022749473   and Maximum Cost =  41220.15022749473\n",
      "Evolution  120  Elite Cost =  41220.15022749472  Minimum Cost =  41220.15022749473   and Maximum Cost =  46918.77015212972\n",
      "Evolution  130  Elite Cost =  41220.15022749472  Minimum Cost =  41220.15022749473   and Maximum Cost =  41220.15022749473\n",
      "Evolution  140  Elite Cost =  41220.15022749472  Minimum Cost =  41220.15022749472   and Maximum Cost =  41220.15022749473\n",
      "Evolution  150  Elite Cost =  41220.15022749472  Minimum Cost =  41220.15022749473   and Maximum Cost =  41220.15022749473\n",
      "Evolution  160  Elite Cost =  41220.15022749472  Minimum Cost =  41220.15022749473   and Maximum Cost =  41220.15022749473\n",
      "Evolution  170  Elite Cost =  41220.15022749472  Minimum Cost =  41220.15022749473   and Maximum Cost =  41220.15022749473\n",
      "Evolution  180  Elite Cost =  41220.15022749472  Minimum Cost =  41220.15022749473   and Maximum Cost =  41220.15022749473\n",
      "Evolution  190  Elite Cost =  41220.15022749472  Minimum Cost =  41220.15022749473   and Maximum Cost =  41220.15022749473\n",
      "Minimum Cost Found =  41220.15022749473 Maximum Cost Found =  41220.15022749473\n"
     ]
    },
    {
     "data": {
      "text/plain": [
       "(array([[47,  4, 41, 25,  3, 44, 34,  9, 23, 31, 38, 24, 13, 22, 10, 39,\n",
       "         14, 19, 46, 20, 12, 40, 15, 21,  2,  7,  0,  8, 37, 30, 43, 27,\n",
       "         16, 42, 26, 18, 36,  5, 29, 35, 17,  6, 11, 32, 45, 33, 28,  1],\n",
       "        [47,  4, 41, 25,  3, 44, 34,  9, 23, 31, 38, 24, 13, 22, 10, 39,\n",
       "         14, 19, 46, 20, 12, 40, 15, 21,  2,  7,  0,  8, 37, 30, 43, 27,\n",
       "         16, 42, 26, 18, 36,  5, 29, 35, 17,  6, 11, 32, 45, 33, 28,  1],\n",
       "        [47,  4, 41, 25,  3, 44, 34,  9, 23, 31, 38, 24, 13, 22, 10, 39,\n",
       "         14, 19, 46, 20, 12, 40, 15, 21,  2,  7,  0,  8, 37, 30, 43, 27,\n",
       "         16, 42, 26, 18, 36,  5, 29, 35, 17,  6, 11, 32, 45, 33, 28,  1],\n",
       "        [47,  4, 41, 25,  3, 44, 34,  9, 23, 31, 38, 24, 13, 22, 10, 39,\n",
       "         14, 19, 46, 20, 12, 40, 15, 21,  2,  7,  0,  8, 37, 30, 43, 27,\n",
       "         16, 42, 26, 18, 36,  5, 29, 35, 17,  6, 11, 32, 45, 33, 28,  1],\n",
       "        [47,  4, 41, 25,  3, 44, 34,  9, 23, 31, 38, 24, 13, 22, 10, 39,\n",
       "         14, 19, 46, 20, 12, 40, 15, 21,  2,  7,  0,  8, 37, 30, 43, 27,\n",
       "         16, 42, 26, 18, 36,  5, 29, 35, 17,  6, 11, 32, 45, 33, 28,  1],\n",
       "        [47,  4, 41, 25,  3, 44, 34,  9, 23, 31, 38, 24, 13, 22, 10, 39,\n",
       "         14, 19, 46, 20, 12, 40, 15, 21,  2,  7,  0,  8, 37, 30, 43, 27,\n",
       "         16, 42, 26, 18, 36,  5, 29, 35, 17,  6, 11, 32, 45, 33, 28,  1],\n",
       "        [47,  4, 41, 25,  3, 44, 34,  9, 23, 31, 38, 24, 13, 22, 10, 39,\n",
       "         14, 19, 46, 20, 12, 40, 15, 21,  2,  7,  0,  8, 37, 30, 43, 27,\n",
       "         16, 42, 26, 18, 36,  5, 29, 35, 17,  6, 11, 32, 45, 33, 28,  1],\n",
       "        [47,  4, 41, 25,  3, 44, 34,  9, 23, 31, 38, 24, 13, 22, 10, 39,\n",
       "         14, 19, 46, 20, 12, 40, 15, 21,  2,  7,  0,  8, 37, 30, 43, 27,\n",
       "         16, 42, 26, 18, 36,  5, 29, 35, 17,  6, 11, 32, 45, 33, 28,  1],\n",
       "        [47,  4, 41, 25,  3, 44, 34,  9, 23, 31, 38, 24, 13, 22, 10, 39,\n",
       "         14, 19, 46, 20, 12, 40, 15, 21,  2,  7,  0,  8, 37, 30, 43, 27,\n",
       "         16, 42, 26, 18, 36,  5, 29, 35, 17,  6, 11, 32, 45, 33, 28,  1],\n",
       "        [47,  4, 41, 25,  3, 44, 34,  9, 23, 31, 38, 24, 13, 22, 10, 39,\n",
       "         14, 19, 46, 20, 12, 40, 15, 21,  2,  7,  0,  8, 37, 30, 43, 27,\n",
       "         16, 42, 26, 18, 36,  5, 29, 35, 17,  6, 11, 32, 45, 33, 28,  1]]),\n",
       " 41220.15022749473)"
      ]
     },
     "execution_count": 198,
     "metadata": {},
     "output_type": "execute_result"
    }
   ],
   "source": [
    "# att48\n",
    "\n",
    "import RouteMatrix as RM\n",
    "path = './Data/att48.txt'\n",
    "graph = RM.TSRM(path)\n",
    "\n",
    "\n",
    "ants = 10\n",
    "alpha = 1\n",
    "beta = 3\n",
    "rho = 0.1\n",
    "eps = 0.1\n",
    "q0 = 0.5\n",
    "runs = 200\n",
    "\n",
    "ACS(graph, ants, alpha, beta, rho, eps, q0, runs)"
   ]
  },
  {
   "cell_type": "code",
   "execution_count": 209,
   "metadata": {},
   "outputs": [
    {
     "name": "stdout",
     "output_type": "stream",
     "text": [
      "Evolution  0  Elite Cost =  32.02628609456141  Minimum Cost =  32.02628609456141   and Maximum Cost =  51.22901585428313\n",
      "Evolution  10  Elite Cost =  31.208766207101625  Minimum Cost =  31.208766207101625   and Maximum Cost =  46.2226283838545\n",
      "Evolution  20  Elite Cost =  31.208766207101625  Minimum Cost =  31.208766207101625   and Maximum Cost =  44.92759614723644\n",
      "Evolution  30  Elite Cost =  31.208766207101625  Minimum Cost =  31.208766207101625   and Maximum Cost =  45.52562624779327\n",
      "Evolution  40  Elite Cost =  31.208766207101625  Minimum Cost =  31.208766207101625   and Maximum Cost =  43.290049619566666\n",
      "Evolution  50  Elite Cost =  31.208766207101625  Minimum Cost =  31.208766207101625   and Maximum Cost =  44.93646600331163\n",
      "Evolution  60  Elite Cost =  31.208766207101625  Minimum Cost =  31.208766207101625   and Maximum Cost =  44.08950468660385\n",
      "Evolution  70  Elite Cost =  31.208766207101625  Minimum Cost =  31.208766207101625   and Maximum Cost =  45.24916888433136\n",
      "Evolution  80  Elite Cost =  31.208766207101625  Minimum Cost =  31.208766207101625   and Maximum Cost =  42.991308777639105\n",
      "Evolution  90  Elite Cost =  31.208766207101625  Minimum Cost =  31.208766207101625   and Maximum Cost =  42.96658559789175\n",
      "Evolution  100  Elite Cost =  31.208766207101625  Minimum Cost =  31.208766207101625   and Maximum Cost =  44.73597068006037\n",
      "Evolution  110  Elite Cost =  31.208766207101625  Minimum Cost =  31.208766207101625   and Maximum Cost =  42.991308777639105\n",
      "Evolution  120  Elite Cost =  31.208766207101625  Minimum Cost =  31.208766207101625   and Maximum Cost =  44.477877307001215\n",
      "Evolution  130  Elite Cost =  31.208766207101625  Minimum Cost =  31.208766207101625   and Maximum Cost =  46.365735212743665\n",
      "Evolution  140  Elite Cost =  31.208766207101625  Minimum Cost =  31.208766207101625   and Maximum Cost =  42.991308777639105\n",
      "Evolution  150  Elite Cost =  31.208766207101625  Minimum Cost =  31.208766207101625   and Maximum Cost =  43.75369702399925\n",
      "Evolution  160  Elite Cost =  31.208766207101625  Minimum Cost =  31.208766207101625   and Maximum Cost =  43.597817651709114\n",
      "Evolution  170  Elite Cost =  31.208766207101625  Minimum Cost =  31.208766207101625   and Maximum Cost =  42.991308777639105\n",
      "Evolution  180  Elite Cost =  31.208766207101625  Minimum Cost =  31.208766207101625   and Maximum Cost =  47.78890475005695\n",
      "Evolution  190  Elite Cost =  31.208766207101625  Minimum Cost =  31.208766207101625   and Maximum Cost =  42.991308777639105\n",
      "Minimum Cost Found =  31.208766207101625 Maximum Cost Found =  44.13435236644565\n"
     ]
    },
    {
     "data": {
      "text/plain": [
       "(array([[ 4,  5, 11,  6, 12, 10,  8,  9,  0,  7,  1, 13,  2,  3],\n",
       "        [ 4,  5, 11,  6, 12, 10,  8,  9,  0,  7,  1, 13,  2,  3],\n",
       "        [ 4,  5, 11,  6, 12, 10,  8,  9,  0,  7,  1, 13,  2,  3],\n",
       "        [ 4,  5, 11,  6, 12, 10,  8,  9,  0,  7,  1, 13,  2,  3],\n",
       "        [ 4,  5, 11,  6, 12, 10,  8,  9,  0,  7,  1, 13,  2,  3],\n",
       "        [ 4,  5, 11,  6, 12, 10,  8,  9,  0,  7,  1, 13,  2,  3],\n",
       "        [ 4,  3,  2, 13, 11,  5, 12,  6,  9,  0,  7,  1,  8, 10],\n",
       "        [ 4,  5, 11,  6, 12, 10,  8,  9,  0,  7,  1, 13,  2,  3],\n",
       "        [ 4,  5, 11,  6, 12, 10,  8,  9,  0,  7,  1, 13,  2,  3],\n",
       "        [ 4,  3,  2, 13,  1,  7,  0,  9,  8, 10, 12,  6, 11,  5],\n",
       "        [ 4,  5, 11,  6, 12, 10,  8,  9,  0,  7,  1, 13,  2,  3],\n",
       "        [ 4,  3,  2, 13,  1, 10,  8,  9,  0,  7, 12,  6, 11,  5],\n",
       "        [ 4,  5, 11,  6, 12, 10,  8,  9,  0,  7,  1, 13,  2,  3],\n",
       "        [ 4,  3,  2, 13,  1,  7,  0,  9,  8, 10, 12,  6, 11,  5],\n",
       "        [ 4,  5, 11,  6, 12, 10,  8,  9,  0,  7,  1, 13,  2,  3],\n",
       "        [ 4,  3,  2, 13,  1,  7,  0,  9,  8, 10, 12,  6, 11,  5],\n",
       "        [ 4,  3,  2, 13,  1,  7,  0,  9,  8, 10, 12,  6, 11,  5],\n",
       "        [ 4,  3,  2, 13, 12,  6, 11,  5,  0,  7,  1,  9,  8, 10],\n",
       "        [ 4,  5, 11,  6, 12, 10,  8,  9,  0,  7,  1, 13,  2,  3],\n",
       "        [ 4,  3,  2, 13,  1,  7,  0, 10,  8,  9,  6, 12, 11,  5],\n",
       "        [ 4,  5, 11,  6, 12, 10,  8,  9,  0,  7, 13,  1,  2,  3],\n",
       "        [ 4,  3,  2, 13,  1,  7,  0,  9,  8, 10, 12,  6, 11,  5],\n",
       "        [ 4,  3,  2, 13,  1,  7,  0,  8, 10, 12,  6, 11,  5,  9],\n",
       "        [ 4,  5, 11, 10,  8,  9,  0,  7,  1, 13,  2,  3,  6, 12],\n",
       "        [ 4,  3,  0,  7,  1, 13,  2,  6, 12,  8, 10,  9,  5, 11],\n",
       "        [ 4,  5, 11,  6, 12, 10,  8,  7,  0,  9,  1, 13,  2,  3],\n",
       "        [ 4,  5, 11,  6, 12, 10,  8,  9,  0,  7,  1, 13,  2,  3],\n",
       "        [ 4,  3,  2, 13, 11,  5, 12,  6,  1,  7,  0,  9,  8, 10],\n",
       "        [ 4,  3,  2, 13,  1,  7,  0,  9,  8, 10, 12,  6, 11,  5],\n",
       "        [ 4,  5, 11,  6, 12, 10,  8,  0,  7,  1, 13,  2,  3,  9],\n",
       "        [ 4,  5, 11,  6, 12, 10,  8,  0,  7,  1, 13,  2,  3,  9],\n",
       "        [ 4,  5, 11,  6, 12,  7,  0,  9,  8, 10,  1, 13,  2,  3],\n",
       "        [ 4,  3,  2, 13,  1,  0,  7, 12,  6, 11,  5,  8, 10,  9],\n",
       "        [ 4,  5, 11,  6, 12,  7,  0, 10,  8,  9,  1, 13,  2,  3],\n",
       "        [ 4,  3,  2, 13,  6, 12, 10,  8,  9,  0,  7,  1,  5, 11],\n",
       "        [ 4,  3,  2, 13,  1,  7,  8, 10,  0,  9,  5, 11,  6, 12],\n",
       "        [ 4,  5, 11,  6, 12, 10,  8,  7,  0,  9,  1, 13,  2,  3],\n",
       "        [ 4,  5, 11,  6, 12, 10,  8,  9,  2,  3, 13,  1,  7,  0],\n",
       "        [ 4,  5, 11,  6, 12, 10,  8,  7,  0,  9,  1, 13,  2,  3],\n",
       "        [ 4,  3,  2, 13, 11,  5,  6, 12, 10,  8,  0,  7,  1,  9]]),\n",
       " 31.208766207101625)"
      ]
     },
     "execution_count": 209,
     "metadata": {},
     "output_type": "execute_result"
    }
   ],
   "source": [
    "# burma14\n",
    "\n",
    "import RouteMatrix as RM\n",
    "path = './Data/burma14.txt'\n",
    "graph = RM.TSRM(path)\n",
    "\n",
    "\n",
    "ants = 40\n",
    "alpha = 1\n",
    "beta = 3\n",
    "rho = 0.1\n",
    "eps = 0.1\n",
    "q0 = 0.1\n",
    "runs = 200\n",
    "\n",
    "ACS(graph, ants, alpha, beta, rho, eps, q0, runs)"
   ]
  },
  {
   "cell_type": "code",
   "execution_count": null,
   "metadata": {},
   "outputs": [],
   "source": []
  },
  {
   "cell_type": "code",
   "execution_count": null,
   "metadata": {},
   "outputs": [],
   "source": []
  }
 ],
 "metadata": {
  "kernelspec": {
   "display_name": "Python [default]",
   "language": "python",
   "name": "python3"
  },
  "language_info": {
   "codemirror_mode": {
    "name": "ipython",
    "version": 3
   },
   "file_extension": ".py",
   "mimetype": "text/x-python",
   "name": "python",
   "nbconvert_exporter": "python",
   "pygments_lexer": "ipython3",
   "version": "3.5.6"
  }
 },
 "nbformat": 4,
 "nbformat_minor": 2
}
