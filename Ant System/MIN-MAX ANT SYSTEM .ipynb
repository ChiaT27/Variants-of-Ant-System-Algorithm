{
 "cells": [
  {
   "cell_type": "markdown",
   "metadata": {},
   "source": [
    "# The Elite Ant System Algorithm For The Travelling Salesman Problem\n",
    "\n",
    "Algorithm from the Book **Ant Colony Optimization by Marco Dorigo and Thomas Stützle**"
   ]
  },
  {
   "cell_type": "code",
   "execution_count": 14,
   "metadata": {},
   "outputs": [],
   "source": [
    "#----------------------------------------\n",
    "# Chia E. Tungom\n",
    "# chemago99@yahoo.com\n",
    "# July 30th 2020\n",
    "# Shenzhen China\n",
    "#----------------------------------------"
   ]
  },
  {
   "cell_type": "code",
   "execution_count": 15,
   "metadata": {},
   "outputs": [],
   "source": [
    "# import libraries\n",
    "\n",
    "import numpy as np\n",
    "import math\n",
    "import random"
   ]
  },
  {
   "cell_type": "markdown",
   "metadata": {},
   "source": [
    "# Roulette Wheel for Probability"
   ]
  },
  {
   "cell_type": "code",
   "execution_count": 16,
   "metadata": {},
   "outputs": [],
   "source": [
    "# probability and selection using roulette wheel \n",
    "\n",
    "# Calculate cumulative sum for roulette wheel \n",
    "def PPi(pi):\n",
    "    \"\"\" pi: list with probability values\n",
    "        return roulette proportions\"\"\"\n",
    "    n = len(pi)\n",
    "    ans = []\n",
    "    \n",
    "    for i in range(n):\n",
    "        ans.append( sum([i for i in pi[:i+1]]) )\n",
    "    return ans \n",
    "\n",
    "# Roulette Wheel \n",
    "def Roulette(ppi, Pop):\n",
    "    \"\"\" ppi: list of roulette proportions\n",
    "        Pop: list of corresponding item   [item1, ... , itemN] \"\"\"\n",
    "    \n",
    "    n = len(ppi)\n",
    "    ra = random.random()\n",
    "    \n",
    "    for i in range(n):\n",
    "        if i == 0 :\n",
    "            if ra > 0 and ra < ppi[i]:\n",
    "                return Pop[i]\n",
    "        else:\n",
    "            if ra > ppi[i-1] and ra < ppi[i]:\n",
    "                return Pop[i]"
   ]
  },
  {
   "cell_type": "markdown",
   "metadata": {},
   "source": [
    "# Calculate Route Cost and Rank Ants"
   ]
  },
  {
   "cell_type": "code",
   "execution_count": 17,
   "metadata": {},
   "outputs": [],
   "source": [
    "# calculate cost of each route\n",
    "def Cost(Pop, graph):\n",
    "    \"\"\" Pop: List of All Items in the e.g [[item1], ... , [itemN]]\n",
    "    graph: cost matrix or graph \n",
    "    returns a cost vector for corresponding item \"\"\"\n",
    "    \n",
    "    Cvector = []\n",
    "    \n",
    "    for i in range(len(Pop)):\n",
    "        route = Pop[i]\n",
    "        cost = 0\n",
    "        \n",
    "        for j in range(len(route)-1):\n",
    "            cost += graph[route[j]][route[j+1]]\n",
    "        cost += graph[route[0]][route[len(route)-1]]   \n",
    "        Cvector.append(cost)\n",
    "        \n",
    "    return Cvector\n",
    "\n",
    "# Sort Chromosomes from Best to Worst\n",
    "def Rank(Pop, graph):\n",
    "    \"\"\" returns sorted Ants \"\"\"\n",
    "    cost = Cost(Pop, graph)\n",
    "    ans = [ x for _,x in sorted(zip(cost, Pop))]\n",
    "    #cost = [ _ for _,x in sorted(zip(cost, Pop))]  # need to use the true cost\n",
    "    return ans"
   ]
  },
  {
   "cell_type": "markdown",
   "metadata": {},
   "source": [
    "# Initialize Pheromone "
   ]
  },
  {
   "cell_type": "code",
   "execution_count": 18,
   "metadata": {},
   "outputs": [],
   "source": [
    "# AS initialization\n",
    "def TSPher(graph):\n",
    "    \n",
    "    n = len(graph)\n",
    "    route = [i for i in range(n)]\n",
    "    random.shuffle(route)\n",
    "    \n",
    "    cost = Cost([route], graph)[0]\n",
    "    pher = [[cost for i in range(n)] for j in range(n)]\n",
    "    \n",
    "    return pher\n",
    "\n",
    "# EAS initialization\n",
    "def EASTSPher(graph, e, m, rho):\n",
    "    \n",
    "    n = len(graph)\n",
    "    route = [i for i in range(n)]\n",
    "    random.shuffle(route)\n",
    "    \n",
    "    cost = Cost([route], graph)[0]\n",
    "    \n",
    "    numer = e + m\n",
    "    den = rho*cost\n",
    "    pher = [[numer/den for i in range(n)] for j in range(n)]\n",
    "    \n",
    "    return pher\n",
    "\n",
    "\n",
    "# EAS initialization\n",
    "def MMTSPher(graph, tmax, rho = 0.1):\n",
    "    # small evaporation \n",
    "    \n",
    "    n = len(graph)\n",
    "    pher = [[(1-rho)*tmax for i in range(n)] for j in range(n)]\n",
    "    \n",
    "    return pher"
   ]
  },
  {
   "cell_type": "markdown",
   "metadata": {},
   "source": [
    "# Calculate Transition Probability"
   ]
  },
  {
   "cell_type": "code",
   "execution_count": 19,
   "metadata": {},
   "outputs": [],
   "source": [
    "# Transition Probability\n",
    "def TransitionP(connections, alpha, beta):\n",
    "    \"\"\" Takes a list of tuples [(pheromone, distance, hob), ... , (pheromone, distance, hob)]\n",
    "        return trasition probability for each hob [(probability, hob), ... , (probability, hob)]\"\"\"\n",
    "    \n",
    "    total = sum( [ (i[0]**alpha)*(i[1]**beta) for i in connections])    # sum heuristic and pheromone info\n",
    "    prob = [( (((i**alpha)*(j**beta))/total) , k) for i,j,k in connections ]  # probability of each hob\n",
    "    \n",
    "    return prob\n",
    "\n",
    "# pheromone, distance and hob information\n",
    "def DPH(phermatrix, graph, connections, preshob):\n",
    "    \"\"\" DPH(Distance Pheromone hob)\n",
    "        takes a pheromone matrix\n",
    "        graph matrix \n",
    "        connections in graph to use \n",
    "        present hob in graph\n",
    "        and return the pheromone, distance and hob [(pheromone, distance, hob), ... , (pheromone, distance, hob)]\"\"\"\n",
    "    \n",
    "    dph = []\n",
    "    for i in range(len(connections)):\n",
    "        if connections[i] > 0:\n",
    "            dph.append( (phermatrix[preshob][i], 1/graph[preshob][i], i) )\n",
    "            \n",
    "    #dph = [(phermatrix[preshob][i], graph[preshob][i], i) for i in range(len(connections)) if connections[i] > 0 ]\n",
    "    \n",
    "    return dph\n",
    "\n",
    "def Disconnect(visited, connections):\n",
    "    \"\"\" Disconnects already visited hobs\n",
    "    visited: already visited hobs\n",
    "    connections: connection vector with 0: no connection x: length of connection\"\"\"\n",
    "    \n",
    "    for i in visited:\n",
    "        connections[i] = 0\n",
    "        \n",
    "    return connections"
   ]
  },
  {
   "cell_type": "markdown",
   "metadata": {},
   "source": [
    "# Find Path "
   ]
  },
  {
   "cell_type": "code",
   "execution_count": 20,
   "metadata": {},
   "outputs": [],
   "source": [
    "def FindPath(phermatrix, graph, takeoff, alpha = 2, beta = 2):\n",
    "    \n",
    "    path = []\n",
    "    path.append(takeoff)\n",
    "    \n",
    "    while len(path) != len(graph):\n",
    "        \n",
    "        Cons = graph[takeoff].copy()\n",
    "        tabu = path.copy()\n",
    "        Cons = Disconnect(tabu, Cons)\n",
    "        HP = DPH(phermatrix, graph, Cons, takeoff)\n",
    "        prob = TransitionP(HP, alpha, beta)\n",
    "        takeoff = Roulette(PPi([i[0] for i in prob]), [i[1] for i in prob])\n",
    "        \n",
    "        path.append(takeoff)\n",
    " \n",
    "    return path"
   ]
  },
  {
   "cell_type": "markdown",
   "metadata": {},
   "source": [
    "# Get Elite Route and Connections"
   ]
  },
  {
   "cell_type": "code",
   "execution_count": 21,
   "metadata": {},
   "outputs": [],
   "source": [
    "def Elite(Elite, ant, graph):\n",
    "    \n",
    "    if Cost([ant], graph)[0] < Cost([Elite], graph)[0]:\n",
    "        return ant, Cost([ant], graph)[0]\n",
    "    else:\n",
    "        return Elite, 0\n",
    "\n",
    "def connections(L):\n",
    "    \"\"\"L is a list\n",
    "    one way connection \"\"\"\n",
    "    \n",
    "    cons = []\n",
    "    for i in range(1,len(L)):\n",
    "        cons.append( (L[i-1], L[i]) )\n",
    "    \n",
    "    cons.append((L[-1], L[0]))\n",
    "    \n",
    "    return cons\n",
    "\n",
    "def connectionsE(L):\n",
    "    \"\"\"L is a list\n",
    "    Two way connection \"\"\"\n",
    "    \n",
    "    cons = []\n",
    "    for i in range(1,len(L)):\n",
    "        cons.append( (L[i-1], L[i]) )\n",
    "        cons.append( (L[i], L[i-1]) )\n",
    "    \n",
    "    cons.append((L[-1], L[0]))\n",
    "    cons.append((L[0], L[1]))\n",
    "    \n",
    "    return cons"
   ]
  },
  {
   "cell_type": "markdown",
   "metadata": {},
   "source": [
    "# Update Pheromone "
   ]
  },
  {
   "cell_type": "code",
   "execution_count": 22,
   "metadata": {},
   "outputs": [],
   "source": [
    "# Update Pheromone in visited arcs\n",
    "\n",
    "def UpPheromone(route, matrix):\n",
    "    \"\"\"route : route taken\n",
    "    matrix: pheromone matrix\"\"\"\n",
    "    \n",
    "    tau = 1/Cost([route], matrix)[0]\n",
    "    #tau = 1\n",
    "    \n",
    "    for i in range(len(route)-1):\n",
    "        \n",
    "        matrix[route[i]][route[i+1]] += tau\n",
    "        matrix[route[i+1]][route[i]] += tau\n",
    "    \n",
    "    # add pheromone to last and first route for TSP\n",
    "    matrix[route[-1]][route[0]] += tau\n",
    "    matrix[route[0]][route[-1]] += tau\n",
    "\n",
    "    return matrix\n",
    "\n",
    "# Elite Ant System\n",
    "def RBASUpPheromone(route, matrix, w, r):\n",
    "    \"\"\"route : route taken\n",
    "    matrix: pheromone matrix\"\"\"\n",
    "    \n",
    "    tau = 1/Cost([route], matrix)[0]\n",
    "    #tau = 1\n",
    "    \n",
    "    for i in range(len(route)-1):\n",
    "        matrix[route[i]][route[i+1]] += (w-r)*tau \n",
    "        matrix[route[i+1]][route[i]] += (w-r)*tau \n",
    "        \n",
    "    matrix[route[-1]][route[0]] += (w-r)*tau\n",
    "    matrix[route[0]][route[-1]] += (w-r)*tau\n",
    "\n",
    "    return matrix\n",
    "\n",
    "# Ranked based Ant System\n",
    "def ElitePheromone(Elite, matrix, w):\n",
    "    \"\"\"route : route taken\n",
    "    matrix: pheromone matrix\"\"\"\n",
    "    \n",
    "    bstau = 1/Cost([Elite], matrix)[0]\n",
    "    #tau = 1\n",
    "    \n",
    "    for i in range(len(Elite)-1):\n",
    "        matrix[Elite[i]][Elite[i+1]] += (w*bstau) \n",
    "        matrix[Elite[i+1]][Elite[i]] += (w*bstau) \n",
    "        \n",
    "    matrix[Elite[-1]][Elite[0]] += (w*bstau)\n",
    "    matrix[Elite[0]][Elite[-1]] += (w*bstau)\n",
    "\n",
    "    return matrix\n",
    "\n",
    "# Min-Max Ant System\n",
    "def MMPheromone(Elite, matrix):\n",
    "    \"\"\"route : route taken\n",
    "    matrix: pheromone matrix\"\"\"\n",
    "    \n",
    "    T = Cost([Elite], matrix)[0]\n",
    "    bstau = 1/T\n",
    "    #tau = 1\n",
    "    \n",
    "    for i in range(len(Elite)-1):\n",
    "        matrix[Elite[i]][Elite[i+1]] += (bstau) \n",
    "        matrix[Elite[i+1]][Elite[i]] += (bstau) \n",
    "        \n",
    "    matrix[Elite[-1]][Elite[0]] += (bstau)\n",
    "    matrix[Elite[0]][Elite[-1]] += (bstau)\n",
    "\n",
    "    return matrix"
   ]
  },
  {
   "cell_type": "markdown",
   "metadata": {},
   "source": [
    "# Evaporate Pheromone "
   ]
  },
  {
   "cell_type": "code",
   "execution_count": 23,
   "metadata": {},
   "outputs": [],
   "source": [
    "def EvPheromone(matrix, rho, tmax, tmin):\n",
    "    \n",
    "    for i in range(len(matrix)):\n",
    "        for j in range(len(matrix)):\n",
    "            if matrix[i][j] > 0:\n",
    "                matrix[i][j] = (1-rho)*matrix[i][j]\n",
    "            else:\n",
    "                matrix[i][j] = tmin\n",
    "    return matrix\n",
    "\n",
    "def EvPheromoneNeg(matrix, rho, tmax, tmin):\n",
    "    \n",
    "    for i in range(len(matrix)):\n",
    "        for j in range(len(matrix)):\n",
    "            matrix[i][j] = (1-rho)*matrix[i][j]\n",
    "            \n",
    "            if matrix[i][j] > tmax:\n",
    "                matrix[i][j] = tmax\n",
    "            \n",
    "            if matrix[i][j] < tmin:\n",
    "                matrix[i][j] = tmin\n",
    "        \n",
    "    return matrix"
   ]
  },
  {
   "cell_type": "markdown",
   "metadata": {},
   "source": [
    "# Generate a Toy Symmetric TSP Problem "
   ]
  },
  {
   "cell_type": "code",
   "execution_count": 24,
   "metadata": {},
   "outputs": [],
   "source": [
    "# A random graph\n",
    "def Graph(dim, bounds):\n",
    "    b = [(i, str(i)) for i in range(dim)]   \n",
    "    matrix = []\n",
    "    \n",
    "    for i,j in b:\n",
    "        j=[]\n",
    "        if i == 0:\n",
    "            j.append(0)\n",
    "            matrix.append(j)\n",
    "        else:\n",
    "            for k in range(i+1):\n",
    "                if k == i:\n",
    "                    j.append(0)\n",
    "                else:\n",
    "                    j.append(random.choice([random.randint(bounds[0], bounds[1])]))  # route length\n",
    "            matrix.append(j)\n",
    "            \n",
    "    M = matrix        \n",
    "    for i in range(len(M)):\n",
    "        \n",
    "        for j in range(1,len(M)-len(M[i])+1):\n",
    "            M[i].append(M[i+j][i]) \n",
    "            \n",
    "    return M"
   ]
  },
  {
   "cell_type": "markdown",
   "metadata": {},
   "source": [
    "# Ant System Algorithm"
   ]
  },
  {
   "cell_type": "code",
   "execution_count": 25,
   "metadata": {},
   "outputs": [],
   "source": [
    "def AS(Ngraph, ants, alpha = 1, beta = 3, rho = 0.5, a = 10, MaxStag = 10, runs = 50, Pher = None):\n",
    "    \n",
    "    \n",
    "    GOAT = [i for i in range(len(Ngraph))]  # initial best ant\n",
    "    tmax = 1/(rho*(Cost([GOAT], Ngraph)[0]))\n",
    "    tmin = tmax/a\n",
    "    \n",
    "    # to compare if the best-so-far has changed\n",
    "    PGOAT = GOAT.copy()\n",
    "    \n",
    "    # Initialize Pheromone\n",
    "    if Pher == None:\n",
    "        #Pher = TSPher(Ngraph)\n",
    "        Pher = MMTSPher(Ngraph, tmax)\n",
    "        \n",
    "    # Stagnation Count   MaxStag is maximum attenable stag to initiate reinitalization\n",
    "    stag = 0\n",
    "        \n",
    "    starthob = random.choice([i for i in range(len(Ngraph))])\n",
    "\n",
    "    i = 0\n",
    "    while i < runs:\n",
    "        Ants = []\n",
    "        #starthob = random.choice([i for i in range(len(Ngraph))])\n",
    "        \n",
    "        for j in range(ants):\n",
    "            stof = FindPath(Pher, Ngraph, starthob, alpha, beta)\n",
    "            Ants.append(stof)\n",
    "            GOAT, changed = Elite(GOAT, stof, Ngraph)\n",
    "            \n",
    "        #readjust pheromone limits\n",
    "        if GOAT != PGOAT:\n",
    "            tmax =  1/(rho*(Cost([GOAT], Ngraph)[0]))\n",
    "            tmin = (tmax*(1 - (0.05**(1/len(Ngraph) ) ) ) )/(len(Ngraph)/2 - 1)\n",
    "            stag = 0\n",
    "        \n",
    "        # update stagnation count and reinitialize pheromone if necessary\n",
    "        if GOAT == PGOAT:\n",
    "            stag += 1\n",
    "            if stag == MaxStag:\n",
    "                Pher = MMTSPher(Ngraph, tmax)\n",
    "                print(i, \" Stagnation Found at :\", stag , \"  Reinitialization Innitaited\")\n",
    "                stag = 0\n",
    "        \n",
    "        PGOAT = GOAT.copy()\n",
    "        # Rank Ants by sorting and keep top w-1\n",
    "        Ranked = Rank(Ants, Ngraph)[0]\n",
    "        B = random.choice([Ranked, GOAT])\n",
    "\n",
    "        #Pheromone update\n",
    "        for r,j in enumerate([B]):\n",
    "            r += 1\n",
    "            MMPheromone(j, Pher)\n",
    "        \n",
    "        #ElitePheromone(GOAT, Pher, w)\n",
    "        \n",
    "        #Pheromone evaporation\n",
    "        #EvPheromone(Pher, rho)\n",
    "        EvPheromoneNeg(Pher, rho, tmax, tmin)\n",
    "        \n",
    "        if i%int(runs*0.05) == 0:\n",
    "            C = Cost(Ants, Ngraph)\n",
    "            E = Cost([GOAT], Ngraph)[0]\n",
    "            print(\"Evolution \", i, \" Elite Cost = \", E,  \" Minimum Cost = \", min(C), \"  and Maximum Cost = \", max(C))\n",
    "            #print(\"<<<<<<<<  The Best Route IS  >>>>>>>> \", GOAT)\n",
    "        i += 1 \n",
    "\n",
    "    C = Cost(Ants, Ngraph)    \n",
    "    print(\"Minimum Cost Found = \", min(C), \"Maximum Cost Found = \", max(C))\n",
    "    return np.array(Ants), min(C) #, np.array(Pher)"
   ]
  },
  {
   "cell_type": "markdown",
   "metadata": {},
   "source": [
    "# Example on the Toy Problem"
   ]
  },
  {
   "cell_type": "code",
   "execution_count": 26,
   "metadata": {},
   "outputs": [
    {
     "data": {
      "text/plain": [
       "array([[ 0,  2,  9,  9,  7,  8,  5, 10,  6,  9],\n",
       "       [ 2,  0,  5,  4,  5,  6,  8,  8, 10,  6],\n",
       "       [ 9,  5,  0, 10,  2,  9,  2,  3,  4, 10],\n",
       "       [ 9,  4, 10,  0,  4,  6,  4, 10,  7,  3],\n",
       "       [ 7,  5,  2,  4,  0,  4,  6,  5,  3,  9],\n",
       "       [ 8,  6,  9,  6,  4,  0,  5,  5,  9,  4],\n",
       "       [ 5,  8,  2,  4,  6,  5,  0,  2,  5,  4],\n",
       "       [10,  8,  3, 10,  5,  5,  2,  0,  8,  7],\n",
       "       [ 6, 10,  4,  7,  3,  9,  5,  8,  0,  8],\n",
       "       [ 9,  6, 10,  3,  9,  4,  4,  7,  8,  0]])"
      ]
     },
     "execution_count": 26,
     "metadata": {},
     "output_type": "execute_result"
    }
   ],
   "source": [
    "# Toy Network graph \n",
    "D = 10\n",
    "bounds = (2,10)\n",
    "random.seed(10)\n",
    "graph = Graph(D, bounds)\n",
    "\n",
    "np.array(graph)"
   ]
  },
  {
   "cell_type": "code",
   "execution_count": 27,
   "metadata": {},
   "outputs": [
    {
     "name": "stdout",
     "output_type": "stream",
     "text": [
      "Evolution  0  Elite Cost =  37  Minimum Cost =  37   and Maximum Cost =  54\n",
      "Evolution  10  Elite Cost =  33  Minimum Cost =  37   and Maximum Cost =  46\n",
      "Evolution  20  Elite Cost =  33  Minimum Cost =  35   and Maximum Cost =  45\n",
      "Evolution  30  Elite Cost =  33  Minimum Cost =  33   and Maximum Cost =  51\n",
      "Evolution  40  Elite Cost =  33  Minimum Cost =  33   and Maximum Cost =  46\n",
      "Evolution  50  Elite Cost =  33  Minimum Cost =  33   and Maximum Cost =  43\n",
      "54  Stagnation Found at : 50   Reinitialization Innitaited\n",
      "Evolution  60  Elite Cost =  33  Minimum Cost =  36   and Maximum Cost =  47\n",
      "Evolution  70  Elite Cost =  33  Minimum Cost =  36   and Maximum Cost =  49\n",
      "Evolution  80  Elite Cost =  33  Minimum Cost =  36   and Maximum Cost =  53\n",
      "Evolution  90  Elite Cost =  33  Minimum Cost =  33   and Maximum Cost =  47\n",
      "Evolution  100  Elite Cost =  33  Minimum Cost =  33   and Maximum Cost =  47\n",
      "104  Stagnation Found at : 50   Reinitialization Innitaited\n",
      "Evolution  110  Elite Cost =  33  Minimum Cost =  35   and Maximum Cost =  46\n",
      "Evolution  120  Elite Cost =  33  Minimum Cost =  37   and Maximum Cost =  48\n",
      "Evolution  130  Elite Cost =  33  Minimum Cost =  40   and Maximum Cost =  51\n",
      "Evolution  140  Elite Cost =  33  Minimum Cost =  36   and Maximum Cost =  52\n",
      "Evolution  150  Elite Cost =  33  Minimum Cost =  36   and Maximum Cost =  60\n",
      "154  Stagnation Found at : 50   Reinitialization Innitaited\n",
      "Evolution  160  Elite Cost =  33  Minimum Cost =  38   and Maximum Cost =  52\n",
      "Evolution  170  Elite Cost =  33  Minimum Cost =  37   and Maximum Cost =  46\n",
      "Evolution  180  Elite Cost =  33  Minimum Cost =  33   and Maximum Cost =  46\n",
      "Evolution  190  Elite Cost =  33  Minimum Cost =  36   and Maximum Cost =  49\n",
      "Minimum Cost Found =  33 Maximum Cost Found =  45\n"
     ]
    },
    {
     "data": {
      "text/plain": [
       "(array([[0, 1, 3, 9, 5, 7, 6, 2, 4, 8],\n",
       "        [0, 1, 2, 6, 7, 9, 3, 4, 8, 5],\n",
       "        [0, 1, 4, 2, 6, 7, 5, 9, 3, 8],\n",
       "        [0, 1, 3, 9, 5, 4, 2, 6, 7, 8],\n",
       "        [0, 1, 3, 9, 5, 4, 8, 2, 6, 7],\n",
       "        [0, 1, 4, 2, 6, 7, 5, 9, 3, 8],\n",
       "        [0, 1, 9, 3, 6, 7, 2, 4, 8, 5],\n",
       "        [0, 1, 3, 9, 8, 4, 2, 6, 7, 5],\n",
       "        [0, 1, 3, 9, 5, 7, 6, 2, 4, 8],\n",
       "        [0, 1, 3, 9, 5, 6, 7, 2, 4, 8]]), 33)"
      ]
     },
     "execution_count": 27,
     "metadata": {},
     "output_type": "execute_result"
    }
   ],
   "source": [
    "# Find Shortest Path with the Algorithm\n",
    "\n",
    "ants = len(graph)\n",
    "alpha = 1\n",
    "beta = 3\n",
    "rho = 0.02\n",
    "count = len(graph)*3\n",
    "a = 10\n",
    "runs = 200\n",
    "count = int(runs/4)\n",
    "\n",
    "AS(graph, ants, alpha, beta, rho, a, count, runs)"
   ]
  },
  {
   "cell_type": "markdown",
   "metadata": {},
   "source": [
    "# Soving Real TSP problems "
   ]
  },
  {
   "cell_type": "code",
   "execution_count": 28,
   "metadata": {},
   "outputs": [
    {
     "name": "stdout",
     "output_type": "stream",
     "text": [
      "Evolution  0  Elite Cost =  47020.699914943194  Minimum Cost =  47020.699914943194   and Maximum Cost =  72470.04107041493\n",
      "Evolution  50  Elite Cost =  38389.77053633088  Minimum Cost =  40709.741310227175   and Maximum Cost =  58677.99157204213\n",
      "Evolution  100  Elite Cost =  37057.34301137624  Minimum Cost =  40768.90691736174   and Maximum Cost =  60814.80790076877\n",
      "Evolution  150  Elite Cost =  37057.34301137624  Minimum Cost =  41684.24576961685   and Maximum Cost =  55686.38145533543\n",
      "Evolution  200  Elite Cost =  37057.34301137624  Minimum Cost =  38409.66223501918   and Maximum Cost =  54948.36123918719\n",
      "Evolution  250  Elite Cost =  37057.34301137624  Minimum Cost =  41050.83838318591   and Maximum Cost =  53877.74708229429\n",
      "279  Stagnation Found at : 200   Reinitialization Innitaited\n",
      "Evolution  300  Elite Cost =  37057.34301137624  Minimum Cost =  46386.21087611488   and Maximum Cost =  66172.97917522848\n",
      "Evolution  350  Elite Cost =  37057.34301137624  Minimum Cost =  44267.435888290216   and Maximum Cost =  61235.68756245533\n",
      "Evolution  400  Elite Cost =  37057.34301137624  Minimum Cost =  41875.27343415146   and Maximum Cost =  58589.65182851287\n",
      "Evolution  450  Elite Cost =  37057.34301137624  Minimum Cost =  40678.02761493803   and Maximum Cost =  59336.999439180974\n",
      "479  Stagnation Found at : 200   Reinitialization Innitaited\n",
      "Evolution  500  Elite Cost =  37057.34301137624  Minimum Cost =  46031.50223474695   and Maximum Cost =  69676.41625701865\n",
      "Evolution  550  Elite Cost =  37057.34301137624  Minimum Cost =  40280.357745492816   and Maximum Cost =  62264.528474236955\n",
      "Evolution  600  Elite Cost =  37057.34301137624  Minimum Cost =  40953.06317984953   and Maximum Cost =  60006.154737779594\n",
      "Evolution  650  Elite Cost =  36963.49575652141  Minimum Cost =  40465.28853322552   and Maximum Cost =  61856.51733283533\n",
      "Evolution  700  Elite Cost =  36963.49575652141  Minimum Cost =  38519.83964207149   and Maximum Cost =  56084.5674327612\n",
      "Evolution  750  Elite Cost =  36963.49575652141  Minimum Cost =  38637.62606790745   and Maximum Cost =  56858.453049425414\n",
      "Evolution  800  Elite Cost =  36963.49575652141  Minimum Cost =  40123.13474159649   and Maximum Cost =  62052.172745435746\n",
      "833  Stagnation Found at : 200   Reinitialization Innitaited\n",
      "Evolution  850  Elite Cost =  36963.49575652141  Minimum Cost =  45483.855252474204   and Maximum Cost =  67017.54996446098\n",
      "Evolution  900  Elite Cost =  36963.49575652141  Minimum Cost =  44226.480168186754   and Maximum Cost =  62529.579944674915\n",
      "Evolution  950  Elite Cost =  36963.49575652141  Minimum Cost =  41892.55069477536   and Maximum Cost =  59216.34717902565\n",
      "Minimum Cost Found =  43362.75018954343 Maximum Cost Found =  57636.911383216306\n"
     ]
    },
    {
     "data": {
      "text/plain": [
       "(array([[ 8,  0,  7, ..., 25, 34, 44],\n",
       "        [ 8, 11, 46, ..., 24, 28,  1],\n",
       "        [ 8,  0,  7, ..., 14, 22, 31],\n",
       "        ...,\n",
       "        [ 8, 39,  0, ..., 28,  1, 42],\n",
       "        [ 8,  0, 15, ..., 41,  9,  1],\n",
       "        [ 8, 37, 30, ..., 11, 40, 20]]), 43362.75018954343)"
      ]
     },
     "execution_count": 28,
     "metadata": {},
     "output_type": "execute_result"
    }
   ],
   "source": [
    "# att48\n",
    "\n",
    "import RouteMatrix as RM\n",
    "path = './Data/att48.txt'\n",
    "graph = RM.TSRM(path)\n",
    "\n",
    "\n",
    "ants = len(graph)\n",
    "alpha = 1\n",
    "beta = 3\n",
    "rho = 0.02\n",
    "a = len(graph)\n",
    "runs = 1000\n",
    "counts = int(runs/5)\n",
    "\n",
    "AS(graph, ants, alpha, beta, rho, a, counts, runs)"
   ]
  },
  {
   "cell_type": "code",
   "execution_count": 32,
   "metadata": {},
   "outputs": [
    {
     "name": "stdout",
     "output_type": "stream",
     "text": [
      "Evolution  0  Elite Cost =  35.106489779157236  Minimum Cost =  35.106489779157236   and Maximum Cost =  47.303009655804935\n",
      "Evolution  5  Elite Cost =  31.56696162617908  Minimum Cost =  35.066668530493395   and Maximum Cost =  50.057906935140096\n",
      "Evolution  10  Elite Cost =  31.56696162617908  Minimum Cost =  36.18076873178537   and Maximum Cost =  51.68486668760144\n",
      "Evolution  15  Elite Cost =  31.56696162617908  Minimum Cost =  34.84243575508273   and Maximum Cost =  43.446058395325686\n",
      "Evolution  20  Elite Cost =  31.56696162617908  Minimum Cost =  31.56696162617908   and Maximum Cost =  46.98669090734491\n",
      "22  Stagnation Found at : 20   Reinitialization Innitaited\n",
      "Evolution  25  Elite Cost =  31.56696162617908  Minimum Cost =  35.15168650335131   and Maximum Cost =  52.39170967014782\n",
      "Evolution  30  Elite Cost =  31.56696162617908  Minimum Cost =  39.20533471784302   and Maximum Cost =  53.80036151313709\n",
      "Evolution  35  Elite Cost =  31.56696162617908  Minimum Cost =  35.729416448383844   and Maximum Cost =  49.69580515913891\n",
      "Evolution  40  Elite Cost =  31.56696162617908  Minimum Cost =  37.14082023050928   and Maximum Cost =  47.24668483967206\n",
      "42  Stagnation Found at : 20   Reinitialization Innitaited\n",
      "Evolution  45  Elite Cost =  31.56696162617908  Minimum Cost =  35.69382808452399   and Maximum Cost =  48.974241412327046\n",
      "Evolution  50  Elite Cost =  31.56696162617908  Minimum Cost =  37.3469620956978   and Maximum Cost =  46.611887421014075\n",
      "Evolution  55  Elite Cost =  31.56696162617908  Minimum Cost =  36.967487840251145   and Maximum Cost =  53.371067178533615\n",
      "Evolution  60  Elite Cost =  31.56696162617908  Minimum Cost =  32.504241715378974   and Maximum Cost =  44.89837305648572\n",
      "62  Stagnation Found at : 20   Reinitialization Innitaited\n",
      "Evolution  65  Elite Cost =  31.56696162617908  Minimum Cost =  37.051526045032205   and Maximum Cost =  46.78498314072461\n",
      "Evolution  70  Elite Cost =  31.56696162617908  Minimum Cost =  36.035559696330786   and Maximum Cost =  49.535110259385625\n",
      "Evolution  75  Elite Cost =  31.56696162617908  Minimum Cost =  36.282221250571816   and Maximum Cost =  47.31513580886608\n",
      "Evolution  80  Elite Cost =  31.56696162617908  Minimum Cost =  35.50533491789135   and Maximum Cost =  49.816952113635246\n",
      "82  Stagnation Found at : 20   Reinitialization Innitaited\n",
      "Evolution  85  Elite Cost =  31.56696162617908  Minimum Cost =  36.50680010089403   and Maximum Cost =  47.47585124187528\n",
      "Evolution  90  Elite Cost =  31.56696162617908  Minimum Cost =  37.103744085296256   and Maximum Cost =  48.75878664298324\n",
      "Evolution  95  Elite Cost =  31.56696162617908  Minimum Cost =  31.883795530288864   and Maximum Cost =  45.187316553855766\n",
      "Minimum Cost Found =  34.242085422439025 Maximum Cost Found =  47.00389069594705\n"
     ]
    },
    {
     "data": {
      "text/plain": [
       "(array([[12,  6,  5, 11, 13,  2,  3,  0,  7,  1,  9,  8, 10,  4],\n",
       "        [12,  6,  7,  0, 10,  8,  9, 11,  5,  4,  3,  2, 13,  1],\n",
       "        [12,  6,  5, 11,  3, 13,  2,  7, 10,  8,  9,  0,  1,  4],\n",
       "        [12,  6, 13,  2,  8, 10,  9,  0,  7,  1, 11,  5,  3,  4],\n",
       "        [12,  6, 10,  8,  7,  0,  5, 11, 13,  1,  2,  3,  4,  9],\n",
       "        [12,  5, 11, 13,  8, 10,  0,  7,  6,  2,  3,  4,  1,  9],\n",
       "        [12,  5, 11,  6, 10,  8,  0,  7, 13,  2,  3,  4,  9,  1],\n",
       "        [12,  6, 11,  5, 13,  1, 10,  8,  7,  0,  2,  3,  4,  9],\n",
       "        [12,  6,  5, 11, 10,  8,  0,  1,  7, 13,  2,  3,  4,  9],\n",
       "        [12,  6, 11,  5, 13,  2,  3,  4,  7,  0, 10,  8,  9,  1],\n",
       "        [12,  6, 11,  5,  2,  3, 13,  1,  0,  7, 10,  8,  9,  4],\n",
       "        [12,  6,  5, 11, 13,  3,  2,  9, 10,  8,  0,  7,  1,  4],\n",
       "        [12,  6, 11,  5, 13,  2,  1,  0,  7, 10,  8,  9,  3,  4],\n",
       "        [12,  6, 11,  5,  4,  3, 13,  2,  1,  8, 10,  7,  0,  9]]),\n",
       " 34.242085422439025)"
      ]
     },
     "execution_count": 32,
     "metadata": {},
     "output_type": "execute_result"
    }
   ],
   "source": [
    "# burma14\n",
    "\n",
    "import RouteMatrix as RM\n",
    "path = './Data/burma14.txt'\n",
    "graph = RM.TSRM(path)\n",
    "\n",
    "\n",
    "ants = len(graph)\n",
    "alpha = 1\n",
    "beta = 3\n",
    "rho = 0.02\n",
    "a = len(graph)\n",
    "runs = 100\n",
    "counts = int(runs/5)\n",
    "\n",
    "AS(graph, ants, alpha, beta, rho, a, counts, runs)"
   ]
  },
  {
   "cell_type": "code",
   "execution_count": null,
   "metadata": {},
   "outputs": [],
   "source": []
  },
  {
   "cell_type": "code",
   "execution_count": null,
   "metadata": {},
   "outputs": [],
   "source": []
  }
 ],
 "metadata": {
  "kernelspec": {
   "display_name": "Python [default]",
   "language": "python",
   "name": "python3"
  },
  "language_info": {
   "codemirror_mode": {
    "name": "ipython",
    "version": 3
   },
   "file_extension": ".py",
   "mimetype": "text/x-python",
   "name": "python",
   "nbconvert_exporter": "python",
   "pygments_lexer": "ipython3",
   "version": "3.5.6"
  }
 },
 "nbformat": 4,
 "nbformat_minor": 2
}
