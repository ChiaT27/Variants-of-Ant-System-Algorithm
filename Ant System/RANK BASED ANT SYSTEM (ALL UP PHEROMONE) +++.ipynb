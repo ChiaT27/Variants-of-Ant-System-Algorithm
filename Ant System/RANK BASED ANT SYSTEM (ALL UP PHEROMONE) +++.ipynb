{
 "cells": [
  {
   "cell_type": "markdown",
   "metadata": {},
   "source": [
    "# The Elite Ant System Algorithm For The Travelling Salesman Problem\n",
    "\n",
    "Algorithm from the Book **Ant Colony Optimization by Marco Dorigo and Thomas Stützle**"
   ]
  },
  {
   "cell_type": "code",
   "execution_count": 2,
   "metadata": {},
   "outputs": [],
   "source": [
    "#----------------------------------------\n",
    "# Chia E. Tungom\n",
    "# chemago99@yahoo.com\n",
    "# July 30th 2020\n",
    "# Shenzhen China\n",
    "#----------------------------------------"
   ]
  },
  {
   "cell_type": "code",
   "execution_count": 3,
   "metadata": {},
   "outputs": [],
   "source": [
    "# import libraries\n",
    "\n",
    "import numpy as np\n",
    "import math\n",
    "import random"
   ]
  },
  {
   "cell_type": "markdown",
   "metadata": {},
   "source": [
    "# Roulette Wheel for Probability"
   ]
  },
  {
   "cell_type": "code",
   "execution_count": 68,
   "metadata": {},
   "outputs": [],
   "source": [
    "# probability and selection using roulette wheel \n",
    "\n",
    "# Calculate cumulative sum for roulette wheel \n",
    "def PPi(pi):\n",
    "    \"\"\" pi: list with probability values\n",
    "        return roulette proportions\"\"\"\n",
    "    n = len(pi)\n",
    "    ans = []\n",
    "    \n",
    "    for i in range(n):\n",
    "        ans.append( sum([i for i in pi[:i+1]]) )\n",
    "    return ans \n",
    "\n",
    "# Roulette Wheel \n",
    "def Roulette(ppi, Pop):\n",
    "    \"\"\" ppi: list of roulette proportions\n",
    "        Pop: list of corresponding item   [item1, ... , itemN] \"\"\"\n",
    "    \n",
    "    n = len(ppi)\n",
    "    ra = random.random()\n",
    "    \n",
    "    for i in range(n):\n",
    "        if i == 0 :\n",
    "            if ra > 0 and ra < ppi[i]:\n",
    "                return Pop[i]\n",
    "        else:\n",
    "            if ra > ppi[i-1] and ra < ppi[i]:\n",
    "                return Pop[i]"
   ]
  },
  {
   "cell_type": "markdown",
   "metadata": {},
   "source": [
    "# Calculate Route Cost and Rank Ants"
   ]
  },
  {
   "cell_type": "code",
   "execution_count": 88,
   "metadata": {},
   "outputs": [],
   "source": [
    "# calculate cost of each route\n",
    "def Cost(Pop, graph):\n",
    "    \"\"\" Pop: List of All Items in the e.g [[item1], ... , [itemN]]\n",
    "    graph: cost matrix or graph \n",
    "    returns a cost vector for corresponding item \"\"\"\n",
    "    \n",
    "    Cvector = []\n",
    "    \n",
    "    for i in range(len(Pop)):\n",
    "        route = Pop[i]\n",
    "        cost = 0\n",
    "        \n",
    "        for j in range(len(route)-1):\n",
    "            cost += graph[route[j]][route[j+1]]\n",
    "        cost += graph[route[0]][route[len(route)-1]]   \n",
    "        Cvector.append(cost)\n",
    "        \n",
    "    return Cvector\n",
    "\n",
    "# Sort Chromosomes from Best to Worst\n",
    "def Rank(Pop, graph):\n",
    "    \"\"\" returns sorted Ants \"\"\"\n",
    "    cost = Cost(Pop, graph)\n",
    "    ans = [ x for _,x in sorted(zip(cost, Pop))]\n",
    "    #cost = [ _ for _,x in sorted(zip(cost, Pop))]  # need to use the true cost\n",
    "    return ans\n",
    "\n",
    "# fitness function 1\n",
    "def F1(sortedpop):\n",
    "    bb= 0.3\n",
    "    \n",
    "    F = []   \n",
    "    for i in range(1,len(sortedpop)+1):\n",
    "        F.append( bb * ( (1-bb)**(i-1) ) )\n",
    "        \n",
    "    return F\n",
    "\n",
    "# fitness function 1\n",
    "def F2(sortedpop):\n",
    "    n = len(sortedpop)\n",
    "    \n",
    "    F = []\n",
    "    for i in range(1,n+1):\n",
    "        F.append( (n-i+1)/n )\n",
    "        \n",
    "    return F"
   ]
  },
  {
   "cell_type": "markdown",
   "metadata": {},
   "source": [
    "# Initialize Pheromone "
   ]
  },
  {
   "cell_type": "code",
   "execution_count": 89,
   "metadata": {},
   "outputs": [],
   "source": [
    "# AS initialization\n",
    "def TSPher(graph):\n",
    "    \n",
    "    n = len(graph)\n",
    "    route = [i for i in range(n)]\n",
    "    random.shuffle(route)\n",
    "    \n",
    "    cost = Cost([route], graph)[0]\n",
    "    pher = [[cost for i in range(n)] for j in range(n)]\n",
    "    \n",
    "    return pher\n",
    "\n",
    "# EAS initialization\n",
    "def EASTSPher(graph, e, m, rho):\n",
    "    \n",
    "    n = len(graph)\n",
    "    route = [i for i in range(n)]\n",
    "    random.shuffle(route)\n",
    "    \n",
    "    cost = Cost([route], graph)[0]\n",
    "    \n",
    "    numer = e + m\n",
    "    den = rho*cost\n",
    "    pher = [[numer/den for i in range(n)] for j in range(n)]\n",
    "    \n",
    "    return pher"
   ]
  },
  {
   "cell_type": "markdown",
   "metadata": {},
   "source": [
    "# Calculate Transition Probability"
   ]
  },
  {
   "cell_type": "code",
   "execution_count": 90,
   "metadata": {},
   "outputs": [],
   "source": [
    "# Transition Probability\n",
    "def TransitionP(connections, alpha, beta):\n",
    "    \"\"\" Takes a list of tuples [(pheromone, distance, hob), ... , (pheromone, distance, hob)]\n",
    "        return trasition probability for each hob [(probability, hob), ... , (probability, hob)]\"\"\"\n",
    "    \n",
    "    total = sum( [ (i[0]**alpha)*(i[1]**beta) for i in connections])    # sum heuristic and pheromone info\n",
    "    prob = [( (((i**alpha)*(j**beta))/total) , k) for i,j,k in connections ]  # probability of each hob\n",
    "    \n",
    "    return prob\n",
    "\n",
    "# pheromone, distance and hob information\n",
    "def DPH(phermatrix, graph, connections, preshob):\n",
    "    \"\"\" DPH(Distance Pheromone hob)\n",
    "        takes a pheromone matrix\n",
    "        graph matrix \n",
    "        connections in graph to use \n",
    "        present hob in graph\n",
    "        and return the pheromone, distance and hob [(pheromone, distance, hob), ... , (pheromone, distance, hob)]\"\"\"\n",
    "    \n",
    "    dph = []\n",
    "    for i in range(len(connections)):\n",
    "        if connections[i] > 0:\n",
    "            dph.append( (phermatrix[preshob][i], 1/graph[preshob][i], i) )\n",
    "            \n",
    "    #dph = [(phermatrix[preshob][i], graph[preshob][i], i) for i in range(len(connections)) if connections[i] > 0 ]\n",
    "    \n",
    "    return dph\n",
    "\n",
    "def Disconnect(visited, connections):\n",
    "    \"\"\" Disconnects already visited hobs\n",
    "    visited: already visited hobs\n",
    "    connections: connection vector with 0: no connection x: length of connection\"\"\"\n",
    "    \n",
    "    for i in visited:\n",
    "        connections[i] = 0\n",
    "        \n",
    "    return connections"
   ]
  },
  {
   "cell_type": "markdown",
   "metadata": {},
   "source": [
    "# Find Path "
   ]
  },
  {
   "cell_type": "code",
   "execution_count": 91,
   "metadata": {},
   "outputs": [],
   "source": [
    "def FindPath(phermatrix, graph, takeoff, alpha = 2, beta = 2):\n",
    "    \n",
    "    path = []\n",
    "    path.append(takeoff)\n",
    "    \n",
    "    while len(path) != len(graph):\n",
    "        Cons = graph[takeoff].copy()\n",
    "        tabu = path.copy()\n",
    "        Cons = Disconnect(tabu, Cons)\n",
    "        HP = DPH(phermatrix, graph, Cons, takeoff)\n",
    "        prob = TransitionP(HP, alpha, beta)\n",
    "        takeoff = Roulette(PPi([i[0] for i in prob]), [i[1] for i in prob])\n",
    "        \n",
    "        path.append(takeoff)\n",
    " \n",
    "    return path"
   ]
  },
  {
   "cell_type": "markdown",
   "metadata": {},
   "source": [
    "# Get Elite Route and Connections"
   ]
  },
  {
   "cell_type": "code",
   "execution_count": 92,
   "metadata": {},
   "outputs": [],
   "source": [
    "def Elite(Elite, ant, graph):\n",
    "    \n",
    "    if Cost([ant], graph)[0] < Cost([Elite], graph)[0]:\n",
    "        return ant\n",
    "    else:\n",
    "        return Elite\n",
    "\n",
    "def connections(L):\n",
    "    \"\"\"L is a list\n",
    "    one way connection \"\"\"\n",
    "    \n",
    "    cons = []\n",
    "    for i in range(1,len(L)):\n",
    "        cons.append( (L[i-1], L[i]) )\n",
    "    \n",
    "    cons.append((L[-1], L[0]))\n",
    "    \n",
    "    return cons\n",
    "\n",
    "def connectionsE(L):\n",
    "    \"\"\"L is a list\n",
    "    Two way connection \"\"\"\n",
    "    \n",
    "    cons = []\n",
    "    for i in range(1,len(L)):\n",
    "        cons.append( (L[i-1], L[i]) )\n",
    "        cons.append( (L[i], L[i-1]) )\n",
    "    \n",
    "    cons.append((L[-1], L[0]))\n",
    "    cons.append((L[0], L[1]))\n",
    "    \n",
    "    return cons"
   ]
  },
  {
   "cell_type": "markdown",
   "metadata": {},
   "source": [
    "# Update Pheromone "
   ]
  },
  {
   "cell_type": "code",
   "execution_count": 93,
   "metadata": {},
   "outputs": [],
   "source": [
    "# Update Pheromone in visited arcs\n",
    "\n",
    "def UpPheromone(route, matrix):\n",
    "    \"\"\"route : route taken\n",
    "    matrix: pheromone matrix\"\"\"\n",
    "    \n",
    "    tau = 1/Cost([route], matrix)[0]\n",
    "    #tau = 1\n",
    "    \n",
    "    for i in range(len(route)-1):\n",
    "        \n",
    "        matrix[route[i]][route[i+1]] += tau\n",
    "        matrix[route[i+1]][route[i]] += tau\n",
    "    \n",
    "    # add pheromone to last and first route for TSP\n",
    "    matrix[route[-1]][route[0]] += tau\n",
    "    matrix[route[0]][route[-1]] += tau\n",
    "\n",
    "    return matrix\n",
    "\n",
    "# Rank Based Ant System\n",
    "def RBASUpPheromone(route, EliteRoute, matrix, e, w, r):  # problematic when multiplied by (w-r)\n",
    "    \"\"\"route : route taken\n",
    "    EliteRoute: Best Route found thus far\n",
    "    matrix: pheromone matrix\n",
    "    e: weighting factor for elite pheromone\"\"\"\n",
    "    \n",
    "    Tbs = connectionsE(EliteRoute)\n",
    "    n = len(Tbs)\n",
    "    bb = 0.3\n",
    "    \n",
    "    bstau = 1/Cost([EliteRoute], matrix)[0]\n",
    "    #tau = 1/Cost([route], matrix)[0]\n",
    "    #tau = 1\n",
    "    tau = bb * ( (1-bb)**(r-1) )\n",
    "    #tau = (n-r+1)/n\n",
    "    \n",
    "    #print(bstau, tau)\n",
    "    \n",
    "    for i in range(len(route)-1):\n",
    "        \n",
    "        if (route[i], route[i+1]) in Tbs:\n",
    "            matrix[route[i]][route[i+1]] = matrix[route[i]][route[i+1]] + (w-r)*tau + (e*bstau)\n",
    "            matrix[route[i+1]][route[i]] = matrix[route[i+1]][route[i]] + (w-r)*tau + (e*bstau)\n",
    "        else:\n",
    "            matrix[route[i]][route[i+1]] = matrix[route[i]][route[i+1]] + (w-r)*tau\n",
    "            matrix[route[i+1]][route[i]] = matrix[route[i+1]][route[i]] + (w-r)*tau\n",
    "    \n",
    "    # add pheromone to last and first route for TSP\n",
    "    if (route[-1], route[0]) in Tbs:\n",
    "        matrix[route[-1]][route[0]] = matrix[route[-1]][route[0]] + (w-r)*tau + (e*bstau)\n",
    "        matrix[route[0]][route[-1]] = matrix[route[0]][route[-1]] + (w-r)*tau + (e*bstau)\n",
    "    else:\n",
    "        matrix[route[-1]][route[0]] = matrix[route[-1]][route[0]] + (w-r)*tau\n",
    "        matrix[route[0]][route[-1]] = matrix[route[0]][route[-1]] + (w-r)*tau\n",
    "\n",
    "    return matrix\n",
    "\n",
    "# Elite based Ant System\n",
    "def EASUpPheromone(route, EliteRoute, matrix, e):\n",
    "    \"\"\"route : route taken\n",
    "    EliteRoute: Best Route found thus far\n",
    "    matrix: pheromone matrix\n",
    "    e: weighting factor for elite pheromone\n",
    "    r: rank of ant\n",
    "    w: number of top ants used \"\"\"\n",
    "    \n",
    "    Tbs = connectionsE(EliteRoute)\n",
    "    \n",
    "    bstau = 1/Cost([EliteRoute], matrix)[0]\n",
    "    tau = 1/Cost([route], matrix)[0]\n",
    "    #tau = 1\n",
    "    \n",
    "    for i in range(len(route)-1):\n",
    "        \n",
    "        if (route[i], route[i+1]) in Tbs:\n",
    "            matrix[route[i]][route[i+1]] = matrix[route[i]][route[i+1]] + tau + (e*bstau)\n",
    "            matrix[route[i+1]][route[i]] = matrix[route[i+1]][route[i]] + tau + (e*bstau)\n",
    "        else:\n",
    "            matrix[route[i]][route[i+1]] += tau\n",
    "            matrix[route[i+1]][route[i]] += tau\n",
    "    \n",
    "    # add pheromone to last and first route for TSP\n",
    "    if (route[-1], route[0]) in Tbs:\n",
    "        matrix[route[-1]][route[0]] = matrix[route[-1]][route[0]] + tau + (e*bstau)\n",
    "        matrix[route[0]][route[-1]] = matrix[route[0]][route[-1]] + tau + (e*bstau)\n",
    "    else:\n",
    "        matrix[route[-1]][route[0]] += tau\n",
    "        matrix[route[0]][route[-1]] += tau\n",
    "\n",
    "    return matrix"
   ]
  },
  {
   "cell_type": "markdown",
   "metadata": {},
   "source": [
    "# Evaporate Pheromone "
   ]
  },
  {
   "cell_type": "code",
   "execution_count": 94,
   "metadata": {},
   "outputs": [],
   "source": [
    "def EvPheromone(matrix, rho):\n",
    "    \n",
    "    for i in range(len(matrix)):\n",
    "        for j in range(len(matrix)):\n",
    "            if matrix[i][j] > 0:\n",
    "                matrix[i][j] = (1-rho)*matrix[i][j]\n",
    "            else:\n",
    "                matrix[i][j] = math.exp(-5)\n",
    "    return matrix\n",
    "\n",
    "def EvPheromoneNeg(matrix, rho):\n",
    "    \n",
    "    for i in range(len(matrix)):\n",
    "        for j in range(len(matrix)):\n",
    "            matrix[i][j] = (1-rho)*matrix[i][j]\n",
    "        \n",
    "    return matrix"
   ]
  },
  {
   "cell_type": "markdown",
   "metadata": {},
   "source": [
    "# Generate a Toy Symmetric TSP Problem "
   ]
  },
  {
   "cell_type": "code",
   "execution_count": 95,
   "metadata": {},
   "outputs": [],
   "source": [
    "# A random graph\n",
    "def Graph(dim, bounds):\n",
    "    b = [(i, str(i)) for i in range(dim)]   \n",
    "    matrix = []\n",
    "    \n",
    "    for i,j in b:\n",
    "        j=[]\n",
    "        if i == 0:\n",
    "            j.append(0)\n",
    "            matrix.append(j)\n",
    "        else:\n",
    "            for k in range(i+1):\n",
    "                if k == i:\n",
    "                    j.append(0)\n",
    "                else:\n",
    "                    j.append(random.choice([random.randint(bounds[0], bounds[1])]))  # route length\n",
    "            matrix.append(j)\n",
    "            \n",
    "    M = matrix        \n",
    "    for i in range(len(M)):\n",
    "        \n",
    "        for j in range(1,len(M)-len(M[i])+1):\n",
    "            M[i].append(M[i+j][i]) \n",
    "            \n",
    "    return M"
   ]
  },
  {
   "cell_type": "markdown",
   "metadata": {},
   "source": [
    "# Ant System Algorithm"
   ]
  },
  {
   "cell_type": "code",
   "execution_count": 100,
   "metadata": {},
   "outputs": [],
   "source": [
    "def AS(Ngraph, ants, alpha = 1, beta = 3, rho = 0.5, e = 100, w = 5 , runs = 50, Pher = None):\n",
    "    \n",
    "    if Pher == None:\n",
    "        #Pher = TSPher(Ngraph)\n",
    "        Pher = EASTSPher(Ngraph, e, ants, rho)\n",
    "        \n",
    "    starthob = random.choice([i for i in range(len(Ngraph))])\n",
    "\n",
    "    GOAT = [i for i in range(len(Ngraph))]  # initial best ant\n",
    "    \n",
    "    i = 0\n",
    "    while i < runs:\n",
    "        Ants = []\n",
    "        #starthob = random.choice([i for i in range(len(Ngraph))])\n",
    "        \n",
    "        for j in range(ants):\n",
    "            stof = FindPath(Pher, Ngraph, starthob, alpha, beta)\n",
    "            Ants.append(stof)\n",
    "            GOAT = Elite(GOAT, stof, Ngraph)\n",
    "            \n",
    "        # Rank Ants by sorting\n",
    "        Ranked = Rank(Ants, graph)[:w-1]\n",
    "        \n",
    "        #Pheromone update\n",
    "        for r,j in enumerate(Ranked):\n",
    "            r += 1\n",
    "            RBASUpPheromone(j, GOAT, Pher, e, w, r)\n",
    "            #EASUpPheromone(j, GOAT, Pher, e)\n",
    "            \n",
    "        #Pheromone update  \n",
    "        #EvPheromone(Pher, rho)\n",
    "        EvPheromoneNeg(Pher, rho)\n",
    "        \n",
    "        if i%int(runs*0.05) == 0:\n",
    "            C = Cost(Ants, Ngraph)\n",
    "            E = Cost([GOAT], Ngraph)[0]\n",
    "            print(\"Evolution \", i, \" Elite Cost = \", E,  \" Minimum Cost = \", min(C), \"  and Maximum Cost = \", max(C))\n",
    "            #print(\"<<<<<<<<  The Best Route IS  >>>>>>>> \", GOAT)\n",
    "        i += 1 \n",
    "\n",
    "    C = Cost(Ants, Ngraph)    \n",
    "    print(\"Minimum Cost Found = \", min(C), \"Maximum Cost Found = \", max(C))\n",
    "    return np.array(Ants), min(C) #, np.array(Pher)"
   ]
  },
  {
   "cell_type": "markdown",
   "metadata": {},
   "source": [
    "# Example on the Toy Problem"
   ]
  },
  {
   "cell_type": "code",
   "execution_count": 101,
   "metadata": {},
   "outputs": [],
   "source": [
    "# Toy Network graph \n",
    "D = 10\n",
    "bounds = (2,10)\n",
    "random.seed(10)\n",
    "graph = Graph(D, bounds)\n"
   ]
  },
  {
   "cell_type": "code",
   "execution_count": 102,
   "metadata": {},
   "outputs": [
    {
     "name": "stdout",
     "output_type": "stream",
     "text": [
      "Evolution  0  Elite Cost =  34  Minimum Cost =  34   and Maximum Cost =  47\n",
      "Evolution  10  Elite Cost =  33  Minimum Cost =  34   and Maximum Cost =  39\n",
      "Evolution  20  Elite Cost =  33  Minimum Cost =  33   and Maximum Cost =  41\n",
      "Evolution  30  Elite Cost =  33  Minimum Cost =  33   and Maximum Cost =  37\n",
      "Evolution  40  Elite Cost =  33  Minimum Cost =  33   and Maximum Cost =  40\n",
      "Evolution  50  Elite Cost =  33  Minimum Cost =  33   and Maximum Cost =  33\n",
      "Evolution  60  Elite Cost =  33  Minimum Cost =  33   and Maximum Cost =  33\n",
      "Evolution  70  Elite Cost =  33  Minimum Cost =  33   and Maximum Cost =  33\n",
      "Evolution  80  Elite Cost =  33  Minimum Cost =  33   and Maximum Cost =  33\n",
      "Evolution  90  Elite Cost =  33  Minimum Cost =  33   and Maximum Cost =  33\n",
      "Evolution  100  Elite Cost =  33  Minimum Cost =  33   and Maximum Cost =  33\n",
      "Evolution  110  Elite Cost =  33  Minimum Cost =  33   and Maximum Cost =  33\n",
      "Evolution  120  Elite Cost =  33  Minimum Cost =  33   and Maximum Cost =  33\n",
      "Evolution  130  Elite Cost =  33  Minimum Cost =  33   and Maximum Cost =  33\n",
      "Evolution  140  Elite Cost =  33  Minimum Cost =  33   and Maximum Cost =  33\n",
      "Evolution  150  Elite Cost =  33  Minimum Cost =  33   and Maximum Cost =  33\n",
      "Evolution  160  Elite Cost =  33  Minimum Cost =  33   and Maximum Cost =  33\n",
      "Evolution  170  Elite Cost =  33  Minimum Cost =  33   and Maximum Cost =  33\n",
      "Evolution  180  Elite Cost =  33  Minimum Cost =  33   and Maximum Cost =  33\n",
      "Evolution  190  Elite Cost =  33  Minimum Cost =  33   and Maximum Cost =  33\n",
      "Minimum Cost Found =  33 Maximum Cost Found =  33\n"
     ]
    },
    {
     "data": {
      "text/plain": [
       "(array([[6, 7, 5, 9, 3, 1, 0, 8, 4, 2],\n",
       "        [6, 7, 5, 9, 3, 1, 0, 8, 4, 2],\n",
       "        [6, 2, 4, 8, 0, 1, 3, 9, 5, 7],\n",
       "        [6, 7, 5, 9, 3, 1, 0, 8, 4, 2],\n",
       "        [6, 7, 5, 9, 3, 1, 0, 8, 4, 2],\n",
       "        [6, 2, 4, 8, 0, 1, 3, 9, 5, 7],\n",
       "        [6, 2, 4, 8, 0, 1, 3, 9, 5, 7],\n",
       "        [6, 7, 5, 9, 3, 1, 0, 8, 4, 2],\n",
       "        [6, 7, 5, 9, 3, 1, 0, 8, 4, 2],\n",
       "        [6, 7, 5, 9, 3, 1, 0, 8, 4, 2]]), 33)"
      ]
     },
     "execution_count": 102,
     "metadata": {},
     "output_type": "execute_result"
    }
   ],
   "source": [
    "# Find Shortest Path with the Algorithm\n",
    "\n",
    "ants = len(graph)\n",
    "alpha = 1\n",
    "beta = 3\n",
    "rho = 0.1\n",
    "e = len(graph)\n",
    "runs = 200\n",
    "w = int(ants/2)\n",
    "AS(graph, ants, alpha, beta, rho, e, w, runs)"
   ]
  },
  {
   "cell_type": "markdown",
   "metadata": {},
   "source": [
    "# Soving Real TSP problems "
   ]
  },
  {
   "cell_type": "code",
   "execution_count": 115,
   "metadata": {},
   "outputs": [
    {
     "name": "stdout",
     "output_type": "stream",
     "text": [
      "Evolution  0  Elite Cost =  36967.64856099629  Minimum Cost =  36967.64856099629   and Maximum Cost =  52878.715681279704\n",
      "Evolution  5  Elite Cost =  35221.52183745305  Minimum Cost =  35221.52183745305   and Maximum Cost =  40813.07913553732\n",
      "Evolution  10  Elite Cost =  35221.52183745305  Minimum Cost =  35221.52183745305   and Maximum Cost =  36693.04624410994\n",
      "Evolution  15  Elite Cost =  35221.52183745305  Minimum Cost =  35221.52183745305   and Maximum Cost =  39158.334619219844\n",
      "Evolution  20  Elite Cost =  34684.74508635927  Minimum Cost =  35221.52183745305   and Maximum Cost =  36421.50245911037\n",
      "Evolution  25  Elite Cost =  34684.74508635926  Minimum Cost =  34684.74508635927   and Maximum Cost =  35221.52183745305\n",
      "Evolution  30  Elite Cost =  34684.74508635926  Minimum Cost =  34684.74508635927   and Maximum Cost =  35842.84432598294\n",
      "Evolution  35  Elite Cost =  34684.74508635926  Minimum Cost =  35221.52183745305   and Maximum Cost =  37056.22789122697\n",
      "Evolution  40  Elite Cost =  34684.74508635926  Minimum Cost =  34684.74508635927   and Maximum Cost =  35842.84432598294\n",
      "Evolution  45  Elite Cost =  34684.74508635926  Minimum Cost =  35221.52183745305   and Maximum Cost =  35842.84432598294\n",
      "Evolution  50  Elite Cost =  34684.74508635926  Minimum Cost =  35221.52183745305   and Maximum Cost =  35842.84432598294\n",
      "Evolution  55  Elite Cost =  34684.74508635926  Minimum Cost =  35221.52183745305   and Maximum Cost =  36421.50245911037\n",
      "Evolution  60  Elite Cost =  34684.74508635926  Minimum Cost =  35221.52183745305   and Maximum Cost =  36421.50245911037\n",
      "Evolution  65  Elite Cost =  34684.74508635926  Minimum Cost =  35221.52183745305   and Maximum Cost =  35221.52183745305\n",
      "Evolution  70  Elite Cost =  34684.74508635926  Minimum Cost =  35221.52183745305   and Maximum Cost =  35221.52183745305\n",
      "Evolution  75  Elite Cost =  34684.74508635926  Minimum Cost =  35221.52183745305   and Maximum Cost =  35221.52183745305\n",
      "Evolution  80  Elite Cost =  34684.74508635926  Minimum Cost =  35221.52183745305   and Maximum Cost =  35221.52183745305\n",
      "Evolution  85  Elite Cost =  34684.74508635926  Minimum Cost =  35221.52183745305   and Maximum Cost =  35221.52183745305\n",
      "Evolution  90  Elite Cost =  34684.74508635926  Minimum Cost =  35221.52183745305   and Maximum Cost =  35221.52183745305\n",
      "Evolution  95  Elite Cost =  34684.74508635926  Minimum Cost =  35221.52183745305   and Maximum Cost =  37056.22789122697\n",
      "Minimum Cost Found =  35221.52183745305 Maximum Cost Found =  35221.52183745305\n"
     ]
    },
    {
     "data": {
      "text/plain": [
       "(array([[21, 15,  2, ...,  1, 28, 40],\n",
       "        [21, 15,  2, ...,  1, 28, 40],\n",
       "        [21, 15,  2, ...,  1, 28, 40],\n",
       "        ...,\n",
       "        [21, 15,  2, ...,  1, 28, 40],\n",
       "        [21, 15,  2, ...,  1, 28, 40],\n",
       "        [21, 15,  2, ...,  1, 28, 40]]), 35221.52183745305)"
      ]
     },
     "execution_count": 115,
     "metadata": {},
     "output_type": "execute_result"
    }
   ],
   "source": [
    "# att48\n",
    "\n",
    "import RouteMatrix as RM\n",
    "path = './Data/att48.txt'\n",
    "graph = RM.TSRM(path)\n",
    "\n",
    "\n",
    "ants = len(graph)\n",
    "alpha = 2\n",
    "beta = 5\n",
    "rho = 0.01\n",
    "e = len(graph)\n",
    "w = int(ants)\n",
    "runs = 100\n",
    "\n",
    "AS(graph, ants, alpha, beta, rho, e, w, runs)"
   ]
  },
  {
   "cell_type": "code",
   "execution_count": 116,
   "metadata": {},
   "outputs": [
    {
     "name": "stdout",
     "output_type": "stream",
     "text": [
      "Evolution  0  Elite Cost =  36.50430528972049  Minimum Cost =  36.50430528972049   and Maximum Cost =  49.020072414227826\n",
      "Evolution  50  Elite Cost =  32.176728737294084  Minimum Cost =  35.394607129332805   and Maximum Cost =  43.59428246687915\n",
      "Evolution  100  Elite Cost =  31.882529491055873  Minimum Cost =  34.726251177601064   and Maximum Cost =  36.50430528972049\n",
      "Evolution  150  Elite Cost =  31.882529491055873  Minimum Cost =  35.16528840113981   and Maximum Cost =  36.50430528972049\n",
      "Evolution  200  Elite Cost =  31.882529491055873  Minimum Cost =  35.16528840113981   and Maximum Cost =  36.50430528972049\n",
      "Evolution  250  Elite Cost =  31.882529491055873  Minimum Cost =  33.70710214662715   and Maximum Cost =  40.595568880377215\n",
      "Evolution  300  Elite Cost =  31.882529491055873  Minimum Cost =  33.70710214662715   and Maximum Cost =  36.50430528972049\n",
      "Evolution  350  Elite Cost =  31.882529491055873  Minimum Cost =  33.36667475194933   and Maximum Cost =  35.16528840113981\n",
      "Evolution  400  Elite Cost =  31.882529491055873  Minimum Cost =  32.176728737294084   and Maximum Cost =  35.16528840113981\n",
      "Evolution  450  Elite Cost =  31.882529491055873  Minimum Cost =  32.176728737294084   and Maximum Cost =  33.70710214662715\n",
      "Evolution  500  Elite Cost =  31.882529491055873  Minimum Cost =  32.176728737294084   and Maximum Cost =  32.176728737294084\n",
      "Evolution  550  Elite Cost =  31.882529491055873  Minimum Cost =  32.176728737294084   and Maximum Cost =  32.17672873729409\n",
      "Evolution  600  Elite Cost =  31.882529491055873  Minimum Cost =  32.176728737294084   and Maximum Cost =  32.176728737294084\n",
      "Evolution  650  Elite Cost =  31.882529491055873  Minimum Cost =  32.176728737294084   and Maximum Cost =  32.17672873729409\n",
      "Evolution  700  Elite Cost =  31.882529491055873  Minimum Cost =  32.176728737294084   and Maximum Cost =  32.176728737294084\n",
      "Evolution  750  Elite Cost =  31.882529491055873  Minimum Cost =  32.176728737294084   and Maximum Cost =  32.176728737294084\n",
      "Evolution  800  Elite Cost =  31.882529491055873  Minimum Cost =  32.176728737294084   and Maximum Cost =  32.17672873729409\n",
      "Evolution  850  Elite Cost =  31.882529491055873  Minimum Cost =  32.176728737294084   and Maximum Cost =  32.17672873729409\n",
      "Evolution  900  Elite Cost =  31.882529491055873  Minimum Cost =  32.176728737294084   and Maximum Cost =  32.17672873729409\n",
      "Evolution  950  Elite Cost =  31.882529491055873  Minimum Cost =  32.176728737294084   and Maximum Cost =  32.17672873729409\n",
      "Minimum Cost Found =  32.176728737294084 Maximum Cost Found =  32.176728737294084\n"
     ]
    },
    {
     "data": {
      "text/plain": [
       "(array([[ 2,  3,  4,  5, 11, 13,  6, 12,  7,  0, 10,  8,  9,  1],\n",
       "        [ 2,  3,  4,  5, 11, 13,  6, 12,  7,  0, 10,  8,  9,  1],\n",
       "        [ 2,  3,  4,  5, 11, 13,  6, 12,  7,  0, 10,  8,  9,  1],\n",
       "        [ 2,  3,  4,  5, 11, 13,  6, 12,  7,  0, 10,  8,  9,  1],\n",
       "        [ 2,  3,  4,  5, 11, 13,  6, 12,  7,  0, 10,  8,  9,  1],\n",
       "        [ 2,  3,  4,  5, 11, 13,  6, 12,  7,  0, 10,  8,  9,  1],\n",
       "        [ 2,  3,  4,  5, 11, 13,  6, 12,  7,  0, 10,  8,  9,  1],\n",
       "        [ 2,  3,  4,  5, 11, 13,  6, 12,  7,  0, 10,  8,  9,  1],\n",
       "        [ 2,  3,  4,  5, 11, 13,  6, 12,  7,  0, 10,  8,  9,  1],\n",
       "        [ 2,  3,  4,  5, 11, 13,  6, 12,  7,  0, 10,  8,  9,  1],\n",
       "        [ 2,  3,  4,  5, 11, 13,  6, 12,  7,  0, 10,  8,  9,  1],\n",
       "        [ 2,  3,  4,  5, 11, 13,  6, 12,  7,  0, 10,  8,  9,  1],\n",
       "        [ 2,  3,  4,  5, 11, 13,  6, 12,  7,  0, 10,  8,  9,  1],\n",
       "        [ 2,  3,  4,  5, 11, 13,  6, 12,  7,  0, 10,  8,  9,  1]]),\n",
       " 32.176728737294084)"
      ]
     },
     "execution_count": 116,
     "metadata": {},
     "output_type": "execute_result"
    }
   ],
   "source": [
    "# burma14\n",
    "\n",
    "import RouteMatrix as RM\n",
    "path = './Data/burma14.txt'\n",
    "graph = RM.TSRM(path)\n",
    "\n",
    "\n",
    "ants = len(graph) \n",
    "alpha = 2\n",
    "beta = 5\n",
    "rho = 0.01\n",
    "e = len(graph)\n",
    "w = int(ants/2)\n",
    "runs = 1000\n",
    "\n",
    "AS(graph, ants, alpha, beta, rho, e, w, runs)"
   ]
  },
  {
   "cell_type": "code",
   "execution_count": null,
   "metadata": {},
   "outputs": [],
   "source": []
  },
  {
   "cell_type": "code",
   "execution_count": null,
   "metadata": {},
   "outputs": [],
   "source": []
  },
  {
   "cell_type": "code",
   "execution_count": null,
   "metadata": {},
   "outputs": [],
   "source": []
  }
 ],
 "metadata": {
  "kernelspec": {
   "display_name": "Python [default]",
   "language": "python",
   "name": "python3"
  },
  "language_info": {
   "codemirror_mode": {
    "name": "ipython",
    "version": 3
   },
   "file_extension": ".py",
   "mimetype": "text/x-python",
   "name": "python",
   "nbconvert_exporter": "python",
   "pygments_lexer": "ipython3",
   "version": "3.5.6"
  }
 },
 "nbformat": 4,
 "nbformat_minor": 2
}
