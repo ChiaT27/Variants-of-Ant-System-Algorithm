{
 "cells": [
  {
   "cell_type": "markdown",
   "metadata": {},
   "source": [
    "# The Ant System Algorithm For The Travelling Salesman Problem\n",
    "\n",
    "Algorithm from the Book **Ant Colony Optimization by Marco Dorigo and Thomas Stützle**"
   ]
  },
  {
   "cell_type": "code",
   "execution_count": 2,
   "metadata": {},
   "outputs": [],
   "source": [
    "#----------------------------------------\n",
    "# Chia E. Tungom\n",
    "# chemago99@yahoo.com\n",
    "# July 30th 2020\n",
    "# Shenzhen China\n",
    "#----------------------------------------"
   ]
  },
  {
   "cell_type": "code",
   "execution_count": 3,
   "metadata": {},
   "outputs": [],
   "source": [
    "# import libraries\n",
    "\n",
    "import numpy as np\n",
    "import math\n",
    "import random"
   ]
  },
  {
   "cell_type": "markdown",
   "metadata": {},
   "source": [
    "# Roulette Wheel for Probability"
   ]
  },
  {
   "cell_type": "code",
   "execution_count": 4,
   "metadata": {},
   "outputs": [],
   "source": [
    "# probability and selection using roulette wheel \n",
    "\n",
    "# Calculate cumulative sum for roulette wheel \n",
    "def PPi(pi):\n",
    "    n = len(pi)\n",
    "    ans = []\n",
    "    \n",
    "    for i in range(n):\n",
    "        ans.append( sum([i for i in pi[:i+1]]) )\n",
    "    return ans \n",
    "\n",
    "# Roulette Wheel \n",
    "def Roulette(ppi, Pop):\n",
    "    n = len(ppi)\n",
    "    ra = random.random()\n",
    "    \n",
    "    for i in range(n):\n",
    "        if i == 0 :\n",
    "            if ra > 0 and ra < ppi[i]:\n",
    "                return Pop[i]\n",
    "        else:\n",
    "            if ra > ppi[i-1] and ra < ppi[i]:\n",
    "                return Pop[i]"
   ]
  },
  {
   "cell_type": "markdown",
   "metadata": {},
   "source": [
    "# Calculate Route Cost"
   ]
  },
  {
   "cell_type": "code",
   "execution_count": 5,
   "metadata": {},
   "outputs": [],
   "source": [
    "# calculate cost of each route\n",
    "def Cost(Pop, Cmatrix):\n",
    "    Cvector = []\n",
    "    \n",
    "    for i in range(len(Pop)):\n",
    "        route = Pop[i]\n",
    "        cost = 0\n",
    "        \n",
    "        for j in range(len(route)-1):\n",
    "            cost += Cmatrix[route[j]][route[j+1]]\n",
    "        cost += Cmatrix[route[0]][route[len(route)-1]]   \n",
    "        Cvector.append(cost)\n",
    "        \n",
    "    return Cvector"
   ]
  },
  {
   "cell_type": "markdown",
   "metadata": {},
   "source": [
    "# Initialize Pheromone "
   ]
  },
  {
   "cell_type": "code",
   "execution_count": 6,
   "metadata": {},
   "outputs": [],
   "source": [
    "\n",
    "def TSPher(graph):\n",
    "    \n",
    "    n = len(graph)\n",
    "    route = [i for i in range(n)]\n",
    "    random.shuffle(route)\n",
    "    \n",
    "    cost = Cost([route], graph)[0]\n",
    "    pher = [[cost for i in range(n)] for j in range(n)]\n",
    "    \n",
    "    return pher"
   ]
  },
  {
   "cell_type": "markdown",
   "metadata": {},
   "source": [
    "# Calculate Transition Probability"
   ]
  },
  {
   "cell_type": "code",
   "execution_count": 48,
   "metadata": {},
   "outputs": [],
   "source": [
    "# Transition Probability\n",
    "def TransitionP(connections, eps):\n",
    "    \"\"\" Takes a list of tuples [(pheromone, distance, hob), ... , (pheromone, distance, hob)]\n",
    "        return trasition probability for each hob [(probability, hob), ... , (probability, hob)]\"\"\"\n",
    "    \n",
    "    total = sum( [ (i[0]*eps)*(i[1]*(1-eps)) for i in connections])    # sum heuristic and pheromone info\n",
    "    prob = [( ((i*eps)*(j*(1-eps))/total) , k) for i,j,k in connections ]  # probability of each hob\n",
    "    \n",
    "    return prob\n",
    "\n",
    "# pheromone, distance and hob information\n",
    "def DPH(phermatrix, graph, connections, preshob):\n",
    "    \"\"\" DPH(Distance Pheromone hob)\n",
    "        takes a pheromone matrix\n",
    "        graph matrix \n",
    "        connections in graph to use \n",
    "        present hob in graph\n",
    "        and return the pheromone, distance and hob [(pheromone, distance, hob), ... , (pheromone, distance, hob)]\"\"\"\n",
    "    \n",
    "    dph = []\n",
    "    for i in range(len(connections)):\n",
    "        if connections[i] > 0:\n",
    "            dph.append( (phermatrix[preshob][i], 1/graph[preshob][i], i) )\n",
    "            \n",
    "    #dph = [(phermatrix[preshob][i], graph[preshob][i], i) for i in range(len(connections)) if connections[i] > 0 ]\n",
    "    \n",
    "    return dph\n",
    "\n",
    "def Disconnect(visited, connections):\n",
    "    \"\"\" Disconnects already visited hobs\n",
    "    visited: already visited hobs\n",
    "    connections: connection vector with 0: no connection x: length of connection\"\"\"\n",
    "    \n",
    "    for i in visited:\n",
    "        connections[i] = 0\n",
    "        #print(i, visited, connections)\n",
    "    #print(\"DONE++++++++++++++++++++++++++++++++++++++++++++++++++++++++++++++++++++++++++++++++++++++++++++++DONE\")\n",
    "    return connections"
   ]
  },
  {
   "cell_type": "markdown",
   "metadata": {},
   "source": [
    "# Find Path "
   ]
  },
  {
   "cell_type": "code",
   "execution_count": 49,
   "metadata": {},
   "outputs": [],
   "source": [
    "def FindPath(phermatrix, graph, takeoff, eps = 0.5):\n",
    "    \n",
    "    path = []\n",
    "    path.append(takeoff)\n",
    "    \n",
    "    while len(path) != len(graph):\n",
    "        \n",
    "        Cons = graph[takeoff].copy()\n",
    "        tabu = path.copy()\n",
    "        Cons = Disconnect(tabu, Cons)\n",
    "        HP = DPH(phermatrix, graph, Cons, takeoff)\n",
    "        prob = TransitionP(HP, eps)\n",
    "        takeoff = Roulette(PPi([i[0] for i in prob]), [i[1] for i in prob])\n",
    "        \n",
    "        path.append(takeoff)\n",
    " \n",
    "    return path"
   ]
  },
  {
   "cell_type": "markdown",
   "metadata": {},
   "source": [
    "# Update Pheromone "
   ]
  },
  {
   "cell_type": "code",
   "execution_count": 112,
   "metadata": {},
   "outputs": [],
   "source": [
    "# Update Pheromone in visited arcs\n",
    "\n",
    "def UpPheromone(route, matrix):\n",
    "    \"\"\"route : route taken\n",
    "    matrix: pheromone matrix\"\"\"\n",
    "    \n",
    "    tau = 1/Cost([route], matrix)[0]\n",
    "    #tau = 1\n",
    "    \n",
    "    for i in range(len(route)-1):\n",
    "        \n",
    "        matrix[route[i]][route[i+1]] += tau\n",
    "        matrix[route[i+1]][route[i]] += tau\n",
    "    \n",
    "    # add pheromone to last and first route for TSP\n",
    "    matrix[route[-1]][route[0]] += tau\n",
    "    matrix[route[0]][route[-1]] += tau\n",
    "\n",
    "    return matrix\n",
    "\n",
    "\n",
    "# Ant Cycle\n",
    "def UpPheromoneANTC(route, matrix, Q = 1):\n",
    "    \"\"\"route : route taken\n",
    "    matrix: pheromone matrix\n",
    "    Q: a constant \"\"\"\n",
    "    \n",
    "    tau = Q/Cost([route], matrix)[0]\n",
    "    #tau = 1\n",
    "    \n",
    "    for i in range(len(route)-1):\n",
    "        \n",
    "        matrix[route[i]][route[i+1]] += tau\n",
    "        matrix[route[i+1]][route[i]] += tau\n",
    "    \n",
    "    # add pheromone to last and first route for TSP\n",
    "    matrix[route[-1]][route[0]] += tau\n",
    "    matrix[route[0]][route[-1]] += tau\n",
    "\n",
    "    return matrix\n",
    "\n",
    "# Ant Density\n",
    "def UpPheromoneANTD(route, matrix, Q = 1):\n",
    "    \"\"\"route : route taken\n",
    "    matrix: pheromone matrix\n",
    "    Q: a constant \"\"\"\n",
    "   \n",
    "    for i in range(len(route)-1):\n",
    "        \n",
    "        matrix[route[i]][route[i+1]] += Q\n",
    "        matrix[route[i+1]][route[i]] += Q\n",
    "    \n",
    "    # add pheromone to last and first route for TSP\n",
    "    matrix[route[-1]][route[0]] += Q\n",
    "    matrix[route[0]][route[-1]] += Q\n",
    "\n",
    "    return matrix\n",
    "\n",
    "# Ant Quantity\n",
    "def UpPheromoneANTQ(route, matrix, Q = 1):\n",
    "    \"\"\"route : route taken\n",
    "    matrix: pheromone matrix\n",
    "    Q: a constant \"\"\"\n",
    "   \n",
    "    for i in range(len(route)-1):\n",
    "        \n",
    "        tau = Q/matrix[route[i]][route[i+1]]\n",
    "        matrix[route[i]][route[i+1]] += tau\n",
    "        matrix[route[i+1]][route[i]] += tau\n",
    "    \n",
    "    # add pheromone to last and first route for TSP\n",
    "    tau = Q/matrix[route[-1]][route[0]]\n",
    "    matrix[route[-1]][route[0]] += tau\n",
    "    matrix[route[0]][route[-1]] += tau\n",
    "\n",
    "    return matrix\n",
    "\n",
    "\n",
    "\n",
    "# ANTS\n",
    "def UpPheromoneANTS(route, matrix, Lavg, LB, V = 0.1):\n",
    "    \"\"\"route : route taken\n",
    "    matrix: pheromone matrix\n",
    "    Q: a constant \"\"\"\n",
    "    \n",
    "    numer = Cost([route], matrix)[0] - LB\n",
    "    den = Lavg - LB + 0.001\n",
    "    \n",
    "    tau = V*( 1 - (numer/den))\n",
    "    #tau = 1\n",
    "    \n",
    "    for i in range(len(route)-1):\n",
    "        \n",
    "        matrix[route[i]][route[i+1]] += tau\n",
    "        matrix[route[i+1]][route[i]] += tau\n",
    "    \n",
    "    # add pheromone to last and first route for TSP\n",
    "    matrix[route[-1]][route[0]] += tau\n",
    "    matrix[route[0]][route[-1]] += tau\n",
    "\n",
    "    return matrix"
   ]
  },
  {
   "cell_type": "markdown",
   "metadata": {},
   "source": [
    "# Evaporate Pheromone "
   ]
  },
  {
   "cell_type": "code",
   "execution_count": 113,
   "metadata": {},
   "outputs": [],
   "source": [
    "def EvPheromone(matrix, rho):\n",
    "    \n",
    "    for i in range(len(matrix)):\n",
    "        for j in range(len(matrix)):\n",
    "            if matrix[i][j] > 0:\n",
    "                matrix[i][j] = (1-rho)*matrix[i][j]\n",
    "            else:\n",
    "                matrix[i][j] = math.exp(-5)\n",
    "    return matrix\n",
    "\n",
    "def EvPheromoneNeg(matrix, rho):\n",
    "    \n",
    "    for i in range(len(matrix)):\n",
    "        for j in range(len(matrix)):\n",
    "            matrix[i][j] = (1-rho)*matrix[i][j]\n",
    "        \n",
    "    return matrix"
   ]
  },
  {
   "cell_type": "markdown",
   "metadata": {},
   "source": [
    "# Generate a Toy Symmetric TSP Problem "
   ]
  },
  {
   "cell_type": "code",
   "execution_count": 114,
   "metadata": {},
   "outputs": [],
   "source": [
    "# A random graph\n",
    "def Graph(dim, bounds):\n",
    "    b = [(i, str(i)) for i in range(dim)]   \n",
    "    matrix = []\n",
    "    \n",
    "    for i,j in b:\n",
    "        j=[]\n",
    "        if i == 0:\n",
    "            j.append(0)\n",
    "            matrix.append(j)\n",
    "        else:\n",
    "            for k in range(i+1):\n",
    "                if k == i:\n",
    "                    j.append(0)\n",
    "                else:\n",
    "                    j.append(random.choice([random.randint(bounds[0], bounds[1])]))  # route length\n",
    "            matrix.append(j)\n",
    "            \n",
    "    M = matrix        \n",
    "    for i in range(len(M)):\n",
    "        \n",
    "        for j in range(1,len(M)-len(M[i])+1):\n",
    "            M[i].append(M[i+j][i]) \n",
    "            \n",
    "    return M"
   ]
  },
  {
   "cell_type": "markdown",
   "metadata": {},
   "source": [
    "# Ant System Algorithm"
   ]
  },
  {
   "cell_type": "code",
   "execution_count": 120,
   "metadata": {},
   "outputs": [],
   "source": [
    "def AS(Ngraph, ants, eps = 0.5, rho = 0.5, runs = 50, Pher = None):\n",
    "    \n",
    "    if Pher == None:\n",
    "        Pher = TSPher(Ngraph) \n",
    "        \n",
    "    starthob = random.choice([i for i in range(len(Ngraph))])\n",
    "    i = 0\n",
    "    while i < runs:\n",
    "        Ants = []\n",
    "        #starthob = random.choice([i for i in range(len(Ngraph))])\n",
    "        \n",
    "        for j in range(ants):\n",
    "            stof = FindPath(Pher, Ngraph, starthob, eps)\n",
    "            Ants.append(stof)\n",
    "        \n",
    "        # get Lavg and LB which are needed for Pheromone Update\n",
    "        TCost = Cost(Ants, Ngraph)\n",
    "        Lavg, LB = sum(TCost)/len(Ants), min(TCost) \n",
    "   \n",
    "        #Pheromone update\n",
    "        for j in Ants:\n",
    "            Pher = UpPheromone(j, Pher)\n",
    "            #UpPheromoneANTS(j, Pher, Lavg, LB, V = 1)  # ant cycle\n",
    "            #UpPheromoneANTD(j, Pher, 1)  # ant density\n",
    "            #UpPheromoneANTQ(j, Pher, 1)  # Ant Quantity\n",
    "            \n",
    "        #Pheromone update  \n",
    "        #EvPheromone(Pher, rho)\n",
    "        EvPheromoneNeg(Pher, rho)\n",
    "        \n",
    "        if i%int(runs*0.05) == 0:\n",
    "            C = Cost(Ants, Ngraph)\n",
    "            print(\"In Generation \", i, \" The Minimum Cost Found is = \", min(C), \"  and the Maximum Cost Found is = \", max(C))\n",
    "            \n",
    "        i += 1 \n",
    "\n",
    "    C = Cost(Ants, Ngraph)    \n",
    "    print(\"Minimum Cost Found = \", min(C), \"Maximum Cost Found = \", max(C))\n",
    "    return np.array(Ants), min(C) #, np.array(Pher)"
   ]
  },
  {
   "cell_type": "markdown",
   "metadata": {},
   "source": [
    "# Example on the Toy Problem"
   ]
  },
  {
   "cell_type": "code",
   "execution_count": 121,
   "metadata": {},
   "outputs": [
    {
     "data": {
      "text/plain": [
       "array([[ 0,  2,  9,  9,  7,  8,  5, 10,  6,  9],\n",
       "       [ 2,  0,  5,  4,  5,  6,  8,  8, 10,  6],\n",
       "       [ 9,  5,  0, 10,  2,  9,  2,  3,  4, 10],\n",
       "       [ 9,  4, 10,  0,  4,  6,  4, 10,  7,  3],\n",
       "       [ 7,  5,  2,  4,  0,  4,  6,  5,  3,  9],\n",
       "       [ 8,  6,  9,  6,  4,  0,  5,  5,  9,  4],\n",
       "       [ 5,  8,  2,  4,  6,  5,  0,  2,  5,  4],\n",
       "       [10,  8,  3, 10,  5,  5,  2,  0,  8,  7],\n",
       "       [ 6, 10,  4,  7,  3,  9,  5,  8,  0,  8],\n",
       "       [ 9,  6, 10,  3,  9,  4,  4,  7,  8,  0]])"
      ]
     },
     "execution_count": 121,
     "metadata": {},
     "output_type": "execute_result"
    }
   ],
   "source": [
    "# Toy Network graph \n",
    "D = 10\n",
    "bounds = (2,10)\n",
    "random.seed(10)\n",
    "graph = Graph(D, bounds)\n",
    "\n",
    "np.array(graph)"
   ]
  },
  {
   "cell_type": "code",
   "execution_count": 122,
   "metadata": {},
   "outputs": [
    {
     "name": "stdout",
     "output_type": "stream",
     "text": [
      "In Generation  0  The Minimum Cost Found is =  48   and the Maximum Cost Found is =  61\n",
      "In Generation  10  The Minimum Cost Found is =  34   and the Maximum Cost Found is =  56\n",
      "In Generation  20  The Minimum Cost Found is =  34   and the Maximum Cost Found is =  60\n",
      "In Generation  30  The Minimum Cost Found is =  33   and the Maximum Cost Found is =  46\n",
      "In Generation  40  The Minimum Cost Found is =  34   and the Maximum Cost Found is =  51\n",
      "In Generation  50  The Minimum Cost Found is =  33   and the Maximum Cost Found is =  57\n",
      "In Generation  60  The Minimum Cost Found is =  33   and the Maximum Cost Found is =  38\n",
      "In Generation  70  The Minimum Cost Found is =  33   and the Maximum Cost Found is =  53\n",
      "In Generation  80  The Minimum Cost Found is =  33   and the Maximum Cost Found is =  46\n",
      "In Generation  90  The Minimum Cost Found is =  33   and the Maximum Cost Found is =  58\n",
      "In Generation  100  The Minimum Cost Found is =  37   and the Maximum Cost Found is =  57\n",
      "In Generation  110  The Minimum Cost Found is =  36   and the Maximum Cost Found is =  50\n",
      "In Generation  120  The Minimum Cost Found is =  33   and the Maximum Cost Found is =  46\n",
      "In Generation  130  The Minimum Cost Found is =  33   and the Maximum Cost Found is =  56\n",
      "In Generation  140  The Minimum Cost Found is =  37   and the Maximum Cost Found is =  47\n",
      "In Generation  150  The Minimum Cost Found is =  34   and the Maximum Cost Found is =  51\n",
      "In Generation  160  The Minimum Cost Found is =  33   and the Maximum Cost Found is =  47\n",
      "In Generation  170  The Minimum Cost Found is =  34   and the Maximum Cost Found is =  46\n",
      "In Generation  180  The Minimum Cost Found is =  34   and the Maximum Cost Found is =  54\n",
      "In Generation  190  The Minimum Cost Found is =  33   and the Maximum Cost Found is =  51\n",
      "Minimum Cost Found =  36 Maximum Cost Found =  48\n"
     ]
    },
    {
     "data": {
      "text/plain": [
       "(array([[6, 9, 3, 1, 0, 8, 2, 4, 5, 7],\n",
       "        [6, 7, 3, 1, 0, 8, 4, 2, 9, 5],\n",
       "        [6, 2, 7, 5, 9, 3, 4, 8, 0, 1],\n",
       "        [6, 7, 8, 2, 4, 3, 1, 0, 9, 5],\n",
       "        [6, 7, 2, 4, 3, 9, 5, 1, 0, 8],\n",
       "        [6, 2, 7, 5, 1, 0, 8, 4, 3, 9],\n",
       "        [6, 2, 4, 8, 7, 5, 1, 0, 9, 3],\n",
       "        [6, 3, 9, 8, 0, 1, 5, 7, 2, 4],\n",
       "        [6, 2, 4, 3, 1, 0, 8, 9, 5, 7],\n",
       "        [6, 7, 5, 9, 3, 4, 2, 8, 0, 1]]), 36)"
      ]
     },
     "execution_count": 122,
     "metadata": {},
     "output_type": "execute_result"
    }
   ],
   "source": [
    "# Find Shortest Path with the Algorithm\n",
    "\n",
    "ants = len(graph)\n",
    "eps = 0.5\n",
    "rho = 0.5\n",
    "runs = 200\n",
    "\n",
    "AS(graph, ants, eps, rho, runs)"
   ]
  },
  {
   "cell_type": "markdown",
   "metadata": {},
   "source": [
    "# Soving Real TSP problems "
   ]
  },
  {
   "cell_type": "code",
   "execution_count": 123,
   "metadata": {},
   "outputs": [
    {
     "name": "stdout",
     "output_type": "stream",
     "text": [
      "In Generation  0  The Minimum Cost Found is =  83655.31673029058   and the Maximum Cost Found is =  143681.68562239333\n",
      "In Generation  10  The Minimum Cost Found is =  91043.505984267   and the Maximum Cost Found is =  129572.73498254821\n",
      "In Generation  20  The Minimum Cost Found is =  64339.97557763282   and the Maximum Cost Found is =  111595.28336183216\n",
      "In Generation  30  The Minimum Cost Found is =  45123.56090683419   and the Maximum Cost Found is =  64907.87376234885\n",
      "In Generation  40  The Minimum Cost Found is =  43046.28201670407   and the Maximum Cost Found is =  69379.7140268021\n",
      "In Generation  50  The Minimum Cost Found is =  42369.94425606348   and the Maximum Cost Found is =  69459.00523668612\n",
      "In Generation  60  The Minimum Cost Found is =  42005.0284422563   and the Maximum Cost Found is =  66900.73930467971\n",
      "In Generation  70  The Minimum Cost Found is =  41984.94871264177   and the Maximum Cost Found is =  63822.97112579675\n",
      "In Generation  80  The Minimum Cost Found is =  43521.90455714432   and the Maximum Cost Found is =  66555.48732509474\n",
      "In Generation  90  The Minimum Cost Found is =  40935.96569394929   and the Maximum Cost Found is =  64239.30928941991\n",
      "In Generation  100  The Minimum Cost Found is =  43452.59111214107   and the Maximum Cost Found is =  65892.53002962121\n",
      "In Generation  110  The Minimum Cost Found is =  43004.64178161859   and the Maximum Cost Found is =  70310.97674782912\n",
      "In Generation  120  The Minimum Cost Found is =  41375.366451801456   and the Maximum Cost Found is =  67008.81415791438\n",
      "In Generation  130  The Minimum Cost Found is =  39533.72780239982   and the Maximum Cost Found is =  67867.58298922516\n",
      "In Generation  140  The Minimum Cost Found is =  42824.296493880494   and the Maximum Cost Found is =  64716.97492573686\n",
      "In Generation  150  The Minimum Cost Found is =  40350.452877678676   and the Maximum Cost Found is =  66456.18407962099\n",
      "In Generation  160  The Minimum Cost Found is =  42512.872380802095   and the Maximum Cost Found is =  68421.56528140855\n",
      "In Generation  170  The Minimum Cost Found is =  41425.22433554948   and the Maximum Cost Found is =  70378.22296382171\n",
      "In Generation  180  The Minimum Cost Found is =  41421.762422024185   and the Maximum Cost Found is =  62001.60302805152\n",
      "In Generation  190  The Minimum Cost Found is =  40576.14378314969   and the Maximum Cost Found is =  68884.43944757743\n",
      "Minimum Cost Found =  36535.86051220195 Maximum Cost Found =  65700.02113866374\n"
     ]
    },
    {
     "data": {
      "text/plain": [
       "(array([[13, 12, 20, ..., 32,  6, 17],\n",
       "        [13, 24, 12, ..., 28, 47, 38],\n",
       "        [13, 12, 46, ..., 20, 40, 23],\n",
       "        ...,\n",
       "        [13, 24, 12, ..., 25,  3, 34],\n",
       "        [13, 24, 12, ..., 31, 43,  1],\n",
       "        [13, 24, 12, ..., 33,  2, 21]]), 36535.86051220195)"
      ]
     },
     "execution_count": 123,
     "metadata": {},
     "output_type": "execute_result"
    }
   ],
   "source": [
    "# att48\n",
    "\n",
    "import RouteMatrix as RM\n",
    "path = './Data/att48.txt'\n",
    "graph = RM.TSRM(path)\n",
    "\n",
    "\n",
    "ants = len(graph)\n",
    "eps = 0.5\n",
    "rho = 0.5\n",
    "runs = 200\n",
    "\n",
    "AS(graph, ants, eps, rho, runs)"
   ]
  },
  {
   "cell_type": "code",
   "execution_count": 119,
   "metadata": {},
   "outputs": [
    {
     "name": "stdout",
     "output_type": "stream",
     "text": [
      "In Generation  0  The Minimum Cost Found is =  43.81822220716433   and the Maximum Cost Found is =  58.45893117647654\n"
     ]
    },
    {
     "ename": "TypeError",
     "evalue": "list indices must be integers or slices, not NoneType",
     "output_type": "error",
     "traceback": [
      "\u001b[1;31m---------------------------------------------------------------------------\u001b[0m",
      "\u001b[1;31mTypeError\u001b[0m                                 Traceback (most recent call last)",
      "\u001b[1;32m<ipython-input-119-731b8905f8e4>\u001b[0m in \u001b[0;36m<module>\u001b[1;34m()\u001b[0m\n\u001b[0;32m     10\u001b[0m \u001b[0mruns\u001b[0m \u001b[1;33m=\u001b[0m \u001b[1;36m1000\u001b[0m\u001b[1;33m\u001b[0m\u001b[0m\n\u001b[0;32m     11\u001b[0m \u001b[1;33m\u001b[0m\u001b[0m\n\u001b[1;32m---> 12\u001b[1;33m \u001b[0mAS\u001b[0m\u001b[1;33m(\u001b[0m\u001b[0mgraph\u001b[0m\u001b[1;33m,\u001b[0m \u001b[0mants\u001b[0m\u001b[1;33m,\u001b[0m \u001b[0meps\u001b[0m\u001b[1;33m,\u001b[0m \u001b[0mrho\u001b[0m\u001b[1;33m,\u001b[0m \u001b[0mruns\u001b[0m\u001b[1;33m)\u001b[0m\u001b[1;33m\u001b[0m\u001b[0m\n\u001b[0m",
      "\u001b[1;32m<ipython-input-115-509924404ff7>\u001b[0m in \u001b[0;36mAS\u001b[1;34m(Ngraph, ants, eps, rho, runs, Pher)\u001b[0m\n\u001b[0;32m     11\u001b[0m \u001b[1;33m\u001b[0m\u001b[0m\n\u001b[0;32m     12\u001b[0m         \u001b[1;32mfor\u001b[0m \u001b[0mj\u001b[0m \u001b[1;32min\u001b[0m \u001b[0mrange\u001b[0m\u001b[1;33m(\u001b[0m\u001b[0mants\u001b[0m\u001b[1;33m)\u001b[0m\u001b[1;33m:\u001b[0m\u001b[1;33m\u001b[0m\u001b[0m\n\u001b[1;32m---> 13\u001b[1;33m             \u001b[0mstof\u001b[0m \u001b[1;33m=\u001b[0m \u001b[0mFindPath\u001b[0m\u001b[1;33m(\u001b[0m\u001b[0mPher\u001b[0m\u001b[1;33m,\u001b[0m \u001b[0mNgraph\u001b[0m\u001b[1;33m,\u001b[0m \u001b[0mstarthob\u001b[0m\u001b[1;33m,\u001b[0m \u001b[0meps\u001b[0m\u001b[1;33m)\u001b[0m\u001b[1;33m\u001b[0m\u001b[0m\n\u001b[0m\u001b[0;32m     14\u001b[0m             \u001b[0mAnts\u001b[0m\u001b[1;33m.\u001b[0m\u001b[0mappend\u001b[0m\u001b[1;33m(\u001b[0m\u001b[0mstof\u001b[0m\u001b[1;33m)\u001b[0m\u001b[1;33m\u001b[0m\u001b[0m\n\u001b[0;32m     15\u001b[0m \u001b[1;33m\u001b[0m\u001b[0m\n",
      "\u001b[1;32m<ipython-input-49-af0f3f15f6b9>\u001b[0m in \u001b[0;36mFindPath\u001b[1;34m(phermatrix, graph, takeoff, eps)\u001b[0m\n\u001b[0;32m      6\u001b[0m     \u001b[1;32mwhile\u001b[0m \u001b[0mlen\u001b[0m\u001b[1;33m(\u001b[0m\u001b[0mpath\u001b[0m\u001b[1;33m)\u001b[0m \u001b[1;33m!=\u001b[0m \u001b[0mlen\u001b[0m\u001b[1;33m(\u001b[0m\u001b[0mgraph\u001b[0m\u001b[1;33m)\u001b[0m\u001b[1;33m:\u001b[0m\u001b[1;33m\u001b[0m\u001b[0m\n\u001b[0;32m      7\u001b[0m \u001b[1;33m\u001b[0m\u001b[0m\n\u001b[1;32m----> 8\u001b[1;33m         \u001b[0mCons\u001b[0m \u001b[1;33m=\u001b[0m \u001b[0mgraph\u001b[0m\u001b[1;33m[\u001b[0m\u001b[0mtakeoff\u001b[0m\u001b[1;33m]\u001b[0m\u001b[1;33m.\u001b[0m\u001b[0mcopy\u001b[0m\u001b[1;33m(\u001b[0m\u001b[1;33m)\u001b[0m\u001b[1;33m\u001b[0m\u001b[0m\n\u001b[0m\u001b[0;32m      9\u001b[0m         \u001b[0mtabu\u001b[0m \u001b[1;33m=\u001b[0m \u001b[0mpath\u001b[0m\u001b[1;33m.\u001b[0m\u001b[0mcopy\u001b[0m\u001b[1;33m(\u001b[0m\u001b[1;33m)\u001b[0m\u001b[1;33m\u001b[0m\u001b[0m\n\u001b[0;32m     10\u001b[0m         \u001b[0mCons\u001b[0m \u001b[1;33m=\u001b[0m \u001b[0mDisconnect\u001b[0m\u001b[1;33m(\u001b[0m\u001b[0mtabu\u001b[0m\u001b[1;33m,\u001b[0m \u001b[0mCons\u001b[0m\u001b[1;33m)\u001b[0m\u001b[1;33m\u001b[0m\u001b[0m\n",
      "\u001b[1;31mTypeError\u001b[0m: list indices must be integers or slices, not NoneType"
     ]
    }
   ],
   "source": [
    "import RouteMatrix as RM\n",
    "path = './Data/burma14.txt'\n",
    "graph = RM.TSRM(path)\n",
    "\n",
    "\n",
    "ants = len(graph)\n",
    "#ants = 100\n",
    "eps = 0.5\n",
    "rho = 0.5\n",
    "runs = 1000\n",
    "\n",
    "AS(graph, ants, eps, rho, runs)"
   ]
  },
  {
   "cell_type": "code",
   "execution_count": null,
   "metadata": {},
   "outputs": [],
   "source": []
  }
 ],
 "metadata": {
  "kernelspec": {
   "display_name": "Python [default]",
   "language": "python",
   "name": "python3"
  },
  "language_info": {
   "codemirror_mode": {
    "name": "ipython",
    "version": 3
   },
   "file_extension": ".py",
   "mimetype": "text/x-python",
   "name": "python",
   "nbconvert_exporter": "python",
   "pygments_lexer": "ipython3",
   "version": "3.5.6"
  }
 },
 "nbformat": 4,
 "nbformat_minor": 2
}
