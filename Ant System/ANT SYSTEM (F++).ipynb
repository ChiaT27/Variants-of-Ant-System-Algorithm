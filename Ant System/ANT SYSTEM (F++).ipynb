{
 "cells": [
  {
   "cell_type": "markdown",
   "metadata": {},
   "source": [
    "# The Ant System Algorithm For The Travelling Salesman Problem\n",
    "\n",
    "Algorithm from the Book **Ant Colony Optimization by Marco Dorigo and Thomas Stützle**"
   ]
  },
  {
   "cell_type": "code",
   "execution_count": 89,
   "metadata": {},
   "outputs": [],
   "source": [
    "#----------------------------------------\n",
    "# Chia E. Tungom\n",
    "# chemago99@yahoo.com\n",
    "# July 30th 2020\n",
    "# Shenzhen China\n",
    "#----------------------------------------"
   ]
  },
  {
   "cell_type": "code",
   "execution_count": 90,
   "metadata": {},
   "outputs": [],
   "source": [
    "# import libraries\n",
    "\n",
    "import numpy as np\n",
    "import math\n",
    "import random"
   ]
  },
  {
   "cell_type": "markdown",
   "metadata": {},
   "source": [
    "# Roulette Wheel for Probability"
   ]
  },
  {
   "cell_type": "code",
   "execution_count": 91,
   "metadata": {},
   "outputs": [],
   "source": [
    "# probability and selection using roulette wheel \n",
    "\n",
    "# Calculate cumulative sum for roulette wheel \n",
    "def PPi(pi):\n",
    "    n = len(pi)\n",
    "    ans = []\n",
    "    \n",
    "    for i in range(n):\n",
    "        ans.append( sum([i for i in pi[:i+1]]) )\n",
    "    return ans \n",
    "\n",
    "# Roulette Wheel \n",
    "def Roulette(ppi, Pop):\n",
    "    n = len(ppi)\n",
    "    ra = random.random()\n",
    "    \n",
    "    for i in range(n):\n",
    "        if i == 0 :\n",
    "            if ra > 0 and ra < ppi[i]:\n",
    "                return Pop[i]\n",
    "        else:\n",
    "            if ra > ppi[i-1] and ra < ppi[i]:\n",
    "                return Pop[i]"
   ]
  },
  {
   "cell_type": "markdown",
   "metadata": {},
   "source": [
    "# Calculate Route Cost"
   ]
  },
  {
   "cell_type": "code",
   "execution_count": 92,
   "metadata": {},
   "outputs": [],
   "source": [
    "# calculate cost of each route\n",
    "def Cost(Pop, Cmatrix):\n",
    "    Cvector = []\n",
    "    \n",
    "    for i in range(len(Pop)):\n",
    "        route = Pop[i]\n",
    "        cost = 0\n",
    "        \n",
    "        for j in range(len(route)-1):\n",
    "            cost += Cmatrix[route[j]][route[j+1]]\n",
    "        cost += Cmatrix[route[0]][route[len(route)-1]]   \n",
    "        Cvector.append(cost)\n",
    "        \n",
    "    return Cvector\n",
    "\n",
    "# Sort Chromosomes from Best to Worst\n",
    "def Rank(Pop, graph):\n",
    "    \"\"\" returns sorted Ants \"\"\"\n",
    "    cost = Cost(Pop, graph)\n",
    "    ans = [ x for _,x in sorted(zip(cost, Pop))]\n",
    "    #cost = [ _ for _,x in sorted(zip(cost, Pop))]  # need to use the true cost\n",
    "    return ans\n",
    "\n",
    "\n",
    "# fitness function 1\n",
    "def F1(sortedpop):\n",
    "    bb= 0.3\n",
    "    F = []   \n",
    "    for i in range(1,len(sortedpop)+1):\n",
    "        F.append( bb * ( (1-bb)**(i-1) ) )\n",
    "        \n",
    "    return F\n",
    "\n",
    "# fitness function 1\n",
    "def F2(sortedpop):\n",
    "    n = len(sortedpop)\n",
    "    F = []\n",
    "    for i in range(1,n+1):\n",
    "        F.append( (n-i+1)/n )\n",
    "        \n",
    "    return F"
   ]
  },
  {
   "cell_type": "markdown",
   "metadata": {},
   "source": [
    "# Initialize Pheromone "
   ]
  },
  {
   "cell_type": "code",
   "execution_count": 93,
   "metadata": {},
   "outputs": [],
   "source": [
    "\n",
    "def TSPher(graph):\n",
    "    \n",
    "    n = len(graph)\n",
    "    route = [i for i in range(n)]\n",
    "    random.shuffle(route)\n",
    "    \n",
    "    cost = Cost([route], graph)[0]\n",
    "    pher = [[cost for i in range(n)] for j in range(n)]\n",
    "    \n",
    "    return pher"
   ]
  },
  {
   "cell_type": "markdown",
   "metadata": {},
   "source": [
    "# Calculate Transition Probability"
   ]
  },
  {
   "cell_type": "code",
   "execution_count": 94,
   "metadata": {},
   "outputs": [],
   "source": [
    "# Transition Probability\n",
    "def TransitionP(connections, alpha, beta):\n",
    "    \"\"\" Takes a list of tuples [(pheromone, distance, hob), ... , (pheromone, distance, hob)]\n",
    "        return trasition probability for each hob [(probability, hob), ... , (probability, hob)]\"\"\"\n",
    "    \n",
    "    total = sum( [ (i[0]**alpha)*(i[1]**beta) for i in connections])    # sum heuristic and pheromone info\n",
    "    prob = [( (((i**alpha)*(j**beta))/total) , k) for i,j,k in connections ]  # probability of each hob\n",
    "    \n",
    "    return prob\n",
    "\n",
    "# pheromone, distance and hob information\n",
    "def DPH(phermatrix, graph, connections, preshob):\n",
    "    \"\"\" DPH(Distance Pheromone hob)\n",
    "        takes a pheromone matrix\n",
    "        graph matrix \n",
    "        connections in graph to use \n",
    "        present hob in graph\n",
    "        and return the pheromone, distance and hob [(pheromone, distance, hob), ... , (pheromone, distance, hob)]\"\"\"\n",
    "    \n",
    "    dph = []\n",
    "    for i in range(len(connections)):\n",
    "        if connections[i] > 0:\n",
    "            dph.append( (phermatrix[preshob][i], 1/graph[preshob][i], i) )\n",
    "            \n",
    "    #dph = [(phermatrix[preshob][i], graph[preshob][i], i) for i in range(len(connections)) if connections[i] > 0 ]\n",
    "    \n",
    "    return dph\n",
    "\n",
    "def Disconnect(visited, connections):\n",
    "    \"\"\" Disconnects already visited hobs\n",
    "    visited: already visited hobs\n",
    "    connections: connection vector with 0: no connection x: length of connection\"\"\"\n",
    "    \n",
    "    for i in visited:\n",
    "        connections[i] = 0\n",
    "        #print(i, visited, connections)\n",
    "    #print(\"DONE++++++++++++++++++++++++++++++++++++++++++++++++++++++++++++++++++++++++++++++++++++++++++++++DONE\")\n",
    "    return connections"
   ]
  },
  {
   "cell_type": "markdown",
   "metadata": {},
   "source": [
    "# Find Path "
   ]
  },
  {
   "cell_type": "code",
   "execution_count": 95,
   "metadata": {},
   "outputs": [],
   "source": [
    "def FindPath(phermatrix, graph, takeoff, alpha = 2, beta = 2):\n",
    "    \n",
    "    path = []\n",
    "    path.append(takeoff)\n",
    "    \n",
    "    while len(path) != len(graph):\n",
    "        \n",
    "        Cons = graph[takeoff].copy()\n",
    "        tabu = path.copy()\n",
    "        Cons = Disconnect(tabu, Cons)\n",
    "        HP = DPH(phermatrix, graph, Cons, takeoff)\n",
    "        prob = TransitionP(HP, alpha, beta)\n",
    "        takeoff = Roulette(PPi([i[0] for i in prob]), [i[1] for i in prob])\n",
    "        \n",
    "        path.append(takeoff)\n",
    " \n",
    "    return path"
   ]
  },
  {
   "cell_type": "markdown",
   "metadata": {},
   "source": [
    "# Update Pheromone "
   ]
  },
  {
   "cell_type": "code",
   "execution_count": 181,
   "metadata": {},
   "outputs": [],
   "source": [
    "# Update Pheromone in visited arcs\n",
    "\n",
    "def UpPheromone(route, matrix):\n",
    "    \"\"\"route : route taken\n",
    "    matrix: pheromone matrix\"\"\"\n",
    "    \n",
    "    tau = 1/Cost([route], matrix)[0]\n",
    "    #tau = 1\n",
    "    \n",
    "    for i in range(len(route)-1):\n",
    "        \n",
    "        matrix[route[i]][route[i+1]] += tau\n",
    "        matrix[route[i+1]][route[i]] += tau\n",
    "    \n",
    "    # add pheromone to last and first route for TSP\n",
    "    matrix[route[-1]][route[0]] += tau\n",
    "    matrix[route[0]][route[-1]] += tau\n",
    "\n",
    "    return matrix\n",
    "\n",
    "\n",
    "# Ant Cycle\n",
    "def UpPheromoneANTC(k, route, matrix, Q = 1):\n",
    "    \"\"\"route : route taken\n",
    "    matrix: pheromone matrix\n",
    "    Q: a constant \"\"\"\n",
    "    \n",
    "    n = len(route)\n",
    "    #tau = Q/Cost([route], matrix)[0]\n",
    "    \n",
    "    tau = (n-k+1)/n\n",
    "    #tau = 1\n",
    "    \n",
    "    for i in range(len(route)-1):\n",
    "        \n",
    "        matrix[route[i]][route[i+1]] += tau\n",
    "        matrix[route[i+1]][route[i]] += tau\n",
    "    \n",
    "    # add pheromone to last and first route for TSP\n",
    "    matrix[route[-1]][route[0]] += tau\n",
    "    matrix[route[0]][route[-1]] += tau\n",
    "\n",
    "    return matrix\n",
    "\n",
    "# Ant Density\n",
    "def UpPheromoneANTD(route, matrix, Q = 1):\n",
    "    \"\"\"route : route taken\n",
    "    matrix: pheromone matrix\n",
    "    Q: a constant \"\"\"\n",
    "   \n",
    "    for i in range(len(route)-1):\n",
    "        \n",
    "        matrix[route[i]][route[i+1]] += Q\n",
    "        matrix[route[i+1]][route[i]] += Q\n",
    "    \n",
    "    # add pheromone to last and first route for TSP\n",
    "    matrix[route[-1]][route[0]] += Q\n",
    "    matrix[route[0]][route[-1]] += Q\n",
    "\n",
    "    return matrix\n",
    "\n",
    "# Ant Quantity\n",
    "def UpPheromoneANTQ(route, matrix, Q = 1):\n",
    "    \"\"\"route : route taken\n",
    "    matrix: pheromone matrix\n",
    "    Q: a constant \"\"\"\n",
    "   \n",
    "    for i in range(len(route)-1):\n",
    "        \n",
    "        tau = Q/matrix[route[i]][route[i+1]]\n",
    "        matrix[route[i]][route[i+1]] += tau\n",
    "        matrix[route[i+1]][route[i]] += tau\n",
    "    \n",
    "    # add pheromone to last and first route for TSP\n",
    "    tau = Q/matrix[route[-1]][route[0]]\n",
    "    matrix[route[-1]][route[0]] += tau\n",
    "    matrix[route[0]][route[-1]] += tau\n",
    "\n",
    "    return matrix"
   ]
  },
  {
   "cell_type": "markdown",
   "metadata": {},
   "source": [
    "# Evaporate Pheromone "
   ]
  },
  {
   "cell_type": "code",
   "execution_count": 182,
   "metadata": {},
   "outputs": [],
   "source": [
    "def EvPheromone(matrix, rho):\n",
    "    \n",
    "    for i in range(len(matrix)):\n",
    "        for j in range(len(matrix)):\n",
    "            if matrix[i][j] > 0:\n",
    "                matrix[i][j] = (1-rho)*matrix[i][j]\n",
    "            else:\n",
    "                matrix[i][j] = math.exp(-5)\n",
    "    return matrix\n",
    "\n",
    "def EvPheromoneNeg(matrix, rho):\n",
    "    \n",
    "    for i in range(len(matrix)):\n",
    "        for j in range(len(matrix)):\n",
    "            matrix[i][j] = (1-rho)*matrix[i][j]\n",
    "        \n",
    "    return matrix"
   ]
  },
  {
   "cell_type": "markdown",
   "metadata": {},
   "source": [
    "# Generate a Toy Symmetric TSP Problem "
   ]
  },
  {
   "cell_type": "code",
   "execution_count": 183,
   "metadata": {},
   "outputs": [],
   "source": [
    "# A random graph\n",
    "def Graph(dim, bounds):\n",
    "    b = [(i, str(i)) for i in range(dim)]   \n",
    "    matrix = []\n",
    "    \n",
    "    for i,j in b:\n",
    "        j=[]\n",
    "        if i == 0:\n",
    "            j.append(0)\n",
    "            matrix.append(j)\n",
    "        else:\n",
    "            for k in range(i+1):\n",
    "                if k == i:\n",
    "                    j.append(0)\n",
    "                else:\n",
    "                    j.append(random.choice([random.randint(bounds[0], bounds[1])]))  # route length\n",
    "            matrix.append(j)\n",
    "            \n",
    "    M = matrix        \n",
    "    for i in range(len(M)):\n",
    "        \n",
    "        for j in range(1,len(M)-len(M[i])+1):\n",
    "            M[i].append(M[i+j][i]) \n",
    "            \n",
    "    return M"
   ]
  },
  {
   "cell_type": "markdown",
   "metadata": {},
   "source": [
    "# Ant System Algorithm"
   ]
  },
  {
   "cell_type": "code",
   "execution_count": 188,
   "metadata": {},
   "outputs": [],
   "source": [
    "def AS(Ngraph, ants, alpha = 1, beta = 3, rho = 0.5, runs = 50, Pher = None):\n",
    "    \n",
    "    if Pher == None:\n",
    "        Pher = TSPher(Ngraph) \n",
    "        \n",
    "    starthob = random.choice([i for i in range(len(Ngraph))])\n",
    "    i = 0\n",
    "    while i < runs:\n",
    "        Ants = []\n",
    "        #starthob = random.choice([i for i in range(len(Ngraph))])\n",
    "        \n",
    "        for j in range(ants):\n",
    "            stof = FindPath(Pher, Ngraph, starthob, alpha, beta)\n",
    "            Ants.append(stof)\n",
    "            \n",
    "        Ranked = Rank(Ants, Ngraph)\n",
    "        \n",
    "        #Pheromone update\n",
    "     \n",
    "        for k, j in enumerate(Ants):\n",
    "            #Pher = UpPheromone(j, Pher)\n",
    "            UpPheromoneANTC(k, j, Pher, 1)  # ant cycle\n",
    "            #UpPheromoneANTD(j, Pher, 1)  # ant density\n",
    "            #UpPheromoneANTQ(j, Pher, 1)  # Ant Quantity\n",
    "            \n",
    "        #Pheromone update  \n",
    "        #EvPheromone(Pher, rho)\n",
    "        EvPheromoneNeg(Pher, rho)\n",
    "        \n",
    "        if i%int(runs*0.05) == 0:\n",
    "            C = Cost(Ants, Ngraph)\n",
    "            print(\"In Generation \", i, \" The Minimum Cost Found is = \", min(C), \"  and the Maximum Cost Found is = \", max(C))\n",
    "            \n",
    "        i += 1 \n",
    "\n",
    "    C = Cost(Ants, Ngraph)    \n",
    "    print(\"Minimum Cost Found = \", min(C), \"Maximum Cost Found = \", max(C))\n",
    "    return np.array(Ants), min(C) #, np.array(Pher)"
   ]
  },
  {
   "cell_type": "markdown",
   "metadata": {},
   "source": [
    "# Example on the Toy Problem"
   ]
  },
  {
   "cell_type": "code",
   "execution_count": 189,
   "metadata": {},
   "outputs": [
    {
     "data": {
      "text/plain": [
       "array([[ 0,  2,  9,  9,  7,  8,  5, 10,  6,  9],\n",
       "       [ 2,  0,  5,  4,  5,  6,  8,  8, 10,  6],\n",
       "       [ 9,  5,  0, 10,  2,  9,  2,  3,  4, 10],\n",
       "       [ 9,  4, 10,  0,  4,  6,  4, 10,  7,  3],\n",
       "       [ 7,  5,  2,  4,  0,  4,  6,  5,  3,  9],\n",
       "       [ 8,  6,  9,  6,  4,  0,  5,  5,  9,  4],\n",
       "       [ 5,  8,  2,  4,  6,  5,  0,  2,  5,  4],\n",
       "       [10,  8,  3, 10,  5,  5,  2,  0,  8,  7],\n",
       "       [ 6, 10,  4,  7,  3,  9,  5,  8,  0,  8],\n",
       "       [ 9,  6, 10,  3,  9,  4,  4,  7,  8,  0]])"
      ]
     },
     "execution_count": 189,
     "metadata": {},
     "output_type": "execute_result"
    }
   ],
   "source": [
    "# Toy Network graph \n",
    "D = 10\n",
    "bounds = (2,10)\n",
    "random.seed(10)\n",
    "graph = Graph(D, bounds)\n",
    "\n",
    "np.array(graph)"
   ]
  },
  {
   "cell_type": "code",
   "execution_count": 190,
   "metadata": {},
   "outputs": [
    {
     "name": "stdout",
     "output_type": "stream",
     "text": [
      "In Generation  0  The Minimum Cost Found is =  34   and the Maximum Cost Found is =  47\n",
      "In Generation  10  The Minimum Cost Found is =  36   and the Maximum Cost Found is =  47\n",
      "In Generation  20  The Minimum Cost Found is =  34   and the Maximum Cost Found is =  46\n",
      "In Generation  30  The Minimum Cost Found is =  33   and the Maximum Cost Found is =  40\n",
      "In Generation  40  The Minimum Cost Found is =  34   and the Maximum Cost Found is =  45\n",
      "In Generation  50  The Minimum Cost Found is =  33   and the Maximum Cost Found is =  38\n",
      "In Generation  60  The Minimum Cost Found is =  33   and the Maximum Cost Found is =  34\n",
      "In Generation  70  The Minimum Cost Found is =  33   and the Maximum Cost Found is =  37\n",
      "In Generation  80  The Minimum Cost Found is =  33   and the Maximum Cost Found is =  34\n",
      "In Generation  90  The Minimum Cost Found is =  33   and the Maximum Cost Found is =  46\n",
      "In Generation  100  The Minimum Cost Found is =  33   and the Maximum Cost Found is =  38\n",
      "In Generation  110  The Minimum Cost Found is =  33   and the Maximum Cost Found is =  38\n",
      "In Generation  120  The Minimum Cost Found is =  33   and the Maximum Cost Found is =  34\n",
      "In Generation  130  The Minimum Cost Found is =  33   and the Maximum Cost Found is =  38\n",
      "In Generation  140  The Minimum Cost Found is =  33   and the Maximum Cost Found is =  34\n",
      "In Generation  150  The Minimum Cost Found is =  33   and the Maximum Cost Found is =  38\n",
      "In Generation  160  The Minimum Cost Found is =  33   and the Maximum Cost Found is =  34\n",
      "In Generation  170  The Minimum Cost Found is =  33   and the Maximum Cost Found is =  34\n",
      "In Generation  180  The Minimum Cost Found is =  33   and the Maximum Cost Found is =  34\n",
      "In Generation  190  The Minimum Cost Found is =  33   and the Maximum Cost Found is =  37\n",
      "Minimum Cost Found =  34 Maximum Cost Found =  37\n"
     ]
    },
    {
     "data": {
      "text/plain": [
       "(array([[6, 7, 2, 4, 8, 0, 1, 3, 9, 5],\n",
       "        [6, 7, 2, 4, 8, 0, 1, 3, 9, 5],\n",
       "        [6, 7, 2, 4, 8, 0, 1, 3, 9, 5],\n",
       "        [6, 7, 2, 4, 8, 0, 1, 3, 9, 5],\n",
       "        [6, 7, 2, 4, 8, 0, 1, 3, 9, 5],\n",
       "        [6, 7, 2, 4, 8, 0, 1, 3, 9, 5],\n",
       "        [6, 5, 7, 2, 4, 8, 0, 1, 3, 9],\n",
       "        [6, 7, 2, 4, 8, 0, 1, 3, 9, 5],\n",
       "        [6, 7, 2, 4, 8, 0, 1, 3, 9, 5],\n",
       "        [6, 7, 2, 4, 8, 0, 1, 3, 9, 5]]), 34)"
      ]
     },
     "execution_count": 190,
     "metadata": {},
     "output_type": "execute_result"
    }
   ],
   "source": [
    "# Find Shortest Path with the Algorithm\n",
    "\n",
    "ants = len(graph)\n",
    "alpha = 1\n",
    "beta = 3\n",
    "rho = 0.1\n",
    "runs = 200\n",
    "\n",
    "AS(graph, ants, alpha, beta, rho, runs)"
   ]
  },
  {
   "cell_type": "markdown",
   "metadata": {},
   "source": [
    "# Soving Real TSP problems "
   ]
  },
  {
   "cell_type": "code",
   "execution_count": null,
   "metadata": {},
   "outputs": [
    {
     "name": "stdout",
     "output_type": "stream",
     "text": [
      "In Generation  0  The Minimum Cost Found is =  48230.83432349601   and the Maximum Cost Found is =  69614.4385166183\n",
      "In Generation  10  The Minimum Cost Found is =  44399.881106471   and the Maximum Cost Found is =  69410.32666101538\n",
      "In Generation  20  The Minimum Cost Found is =  46736.89880696411   and the Maximum Cost Found is =  71961.71856220896\n",
      "In Generation  30  The Minimum Cost Found is =  47793.15731871302   and the Maximum Cost Found is =  66058.87753378235\n",
      "In Generation  40  The Minimum Cost Found is =  46040.71610856766   and the Maximum Cost Found is =  66100.16261297622\n",
      "In Generation  50  The Minimum Cost Found is =  46221.091379700796   and the Maximum Cost Found is =  67814.3197457046\n",
      "In Generation  60  The Minimum Cost Found is =  46897.433414974876   and the Maximum Cost Found is =  66671.17954183005\n"
     ]
    }
   ],
   "source": [
    "# att48\n",
    "\n",
    "import RouteMatrix as RM\n",
    "path = './Data/att48.txt'\n",
    "graph = RM.TSRM(path)\n",
    "\n",
    "\n",
    "ants = len(graph)\n",
    "alpha = 1\n",
    "beta = 3\n",
    "rho = 0.1\n",
    "runs = 200\n",
    "\n",
    "AS(graph, ants, alpha, beta, rho, runs)"
   ]
  },
  {
   "cell_type": "code",
   "execution_count": null,
   "metadata": {},
   "outputs": [],
   "source": [
    "import RouteMatrix as RM\n",
    "path = './Data/burma14.txt'\n",
    "graph = RM.TSRM(path)\n",
    "\n",
    "\n",
    "ants = len(graph)\n",
    "#ants = 100\n",
    "alpha = 1\n",
    "beta = 3\n",
    "rho = 0.1\n",
    "runs = 100\n",
    "\n",
    "AS(graph, ants, alpha, beta, rho, runs)"
   ]
  },
  {
   "cell_type": "code",
   "execution_count": null,
   "metadata": {},
   "outputs": [],
   "source": []
  },
  {
   "cell_type": "code",
   "execution_count": null,
   "metadata": {},
   "outputs": [],
   "source": []
  }
 ],
 "metadata": {
  "kernelspec": {
   "display_name": "Python [default]",
   "language": "python",
   "name": "python3"
  },
  "language_info": {
   "codemirror_mode": {
    "name": "ipython",
    "version": 3
   },
   "file_extension": ".py",
   "mimetype": "text/x-python",
   "name": "python",
   "nbconvert_exporter": "python",
   "pygments_lexer": "ipython3",
   "version": "3.5.6"
  }
 },
 "nbformat": 4,
 "nbformat_minor": 2
}
