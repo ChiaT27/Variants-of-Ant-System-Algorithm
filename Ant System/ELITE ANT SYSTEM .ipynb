{
 "cells": [
  {
   "cell_type": "markdown",
   "metadata": {},
   "source": [
    "# The Elite Ant System Algorithm For The Travelling Salesman Problem\n",
    "\n",
    "Algorithm from the Book **Ant Colony Optimization by Marco Dorigo and Thomas Stützle**"
   ]
  },
  {
   "cell_type": "code",
   "execution_count": 1,
   "metadata": {},
   "outputs": [],
   "source": [
    "#----------------------------------------\n",
    "# Chia E. Tungom\n",
    "# chemago99@yahoo.com\n",
    "# July 30th 2020\n",
    "# Shenzhen China\n",
    "#----------------------------------------"
   ]
  },
  {
   "cell_type": "code",
   "execution_count": 2,
   "metadata": {},
   "outputs": [],
   "source": [
    "# import libraries\n",
    "\n",
    "import numpy as np\n",
    "import math\n",
    "import random"
   ]
  },
  {
   "cell_type": "markdown",
   "metadata": {},
   "source": [
    "# Roulette Wheel for Probability"
   ]
  },
  {
   "cell_type": "code",
   "execution_count": 3,
   "metadata": {},
   "outputs": [],
   "source": [
    "# probability and selection using roulette wheel \n",
    "\n",
    "# Calculate cumulative sum for roulette wheel \n",
    "def PPi(pi):\n",
    "    \"\"\" pi: list with probability values\n",
    "        return roulette proportions\"\"\"\n",
    "    n = len(pi)\n",
    "    ans = []\n",
    "    \n",
    "    for i in range(n):\n",
    "        ans.append( sum([i for i in pi[:i+1]]) )\n",
    "    return ans \n",
    "\n",
    "# Roulette Wheel \n",
    "def Roulette(ppi, Pop):\n",
    "    \"\"\" ppi: list of roulette proportions\n",
    "        Pop: list of corresponding item   [item1, ... , itemN] \"\"\"\n",
    "    \n",
    "    n = len(ppi)\n",
    "    ra = random.random()\n",
    "    \n",
    "    for i in range(n):\n",
    "        if i == 0 :\n",
    "            if ra > 0 and ra < ppi[i]:\n",
    "                return Pop[i]\n",
    "        else:\n",
    "            if ra > ppi[i-1] and ra < ppi[i]:\n",
    "                return Pop[i]"
   ]
  },
  {
   "cell_type": "markdown",
   "metadata": {},
   "source": [
    "# Calculate Route Cost"
   ]
  },
  {
   "cell_type": "code",
   "execution_count": 4,
   "metadata": {},
   "outputs": [],
   "source": [
    "# calculate cost of each route\n",
    "def Cost(Pop, graph):\n",
    "    \"\"\" Pop: List of All Items in the e.g [[item1], ... , [itemN]]\n",
    "    graph: cost matrix or graph \n",
    "    returns a cost vector for corresponding item \"\"\"\n",
    "    \n",
    "    Cvector = []\n",
    "    \n",
    "    for i in range(len(Pop)):\n",
    "        route = Pop[i]\n",
    "        cost = 0\n",
    "        \n",
    "        for j in range(len(route)-1):\n",
    "            cost += graph[route[j]][route[j+1]]\n",
    "        cost += graph[route[0]][route[len(route)-1]]   \n",
    "        Cvector.append(cost)\n",
    "        \n",
    "    return Cvector"
   ]
  },
  {
   "cell_type": "markdown",
   "metadata": {},
   "source": [
    "# Initialize Pheromone "
   ]
  },
  {
   "cell_type": "code",
   "execution_count": 5,
   "metadata": {},
   "outputs": [],
   "source": [
    "# AS initialization\n",
    "def TSPher(graph):\n",
    "    \n",
    "    n = len(graph)\n",
    "    route = [i for i in range(n)]\n",
    "    random.shuffle(route)\n",
    "    \n",
    "    cost = Cost([route], graph)[0]\n",
    "    pher = [[cost for i in range(n)] for j in range(n)]\n",
    "    \n",
    "    return pher\n",
    "\n",
    "# EAS initialization\n",
    "def EASTSPher(graph, e, m, rho):\n",
    "    \n",
    "    n = len(graph)\n",
    "    route = [i for i in range(n)]\n",
    "    random.shuffle(route)\n",
    "    \n",
    "    cost = Cost([route], graph)[0]\n",
    "    \n",
    "    numer = e + m\n",
    "    den = rho*cost\n",
    "    pher = [[numer/den for i in range(n)] for j in range(n)]\n",
    "    \n",
    "    return pher"
   ]
  },
  {
   "cell_type": "markdown",
   "metadata": {},
   "source": [
    "# Calculate Transition Probability"
   ]
  },
  {
   "cell_type": "code",
   "execution_count": 6,
   "metadata": {},
   "outputs": [],
   "source": [
    "# Transition Probability\n",
    "def TransitionP(connections, alpha, beta):\n",
    "    \"\"\" Takes a list of tuples [(pheromone, distance, hob), ... , (pheromone, distance, hob)]\n",
    "        return trasition probability for each hob [(probability, hob), ... , (probability, hob)]\"\"\"\n",
    "    \n",
    "    total = sum( [ (i[0]**alpha)*(i[1]**beta) for i in connections])    # sum heuristic and pheromone info\n",
    "    prob = [( (((i**alpha)*(j**beta))/total) , k) for i,j,k in connections ]  # probability of each hob\n",
    "    \n",
    "    return prob\n",
    "\n",
    "# pheromone, distance and hob information\n",
    "def DPH(phermatrix, graph, connections, preshob):\n",
    "    \"\"\" DPH(Distance Pheromone hob)\n",
    "        takes a pheromone matrix\n",
    "        graph matrix \n",
    "        connections in graph to use \n",
    "        present hob in graph\n",
    "        and return the pheromone, distance and hob [(pheromone, distance, hob), ... , (pheromone, distance, hob)]\"\"\"\n",
    "    \n",
    "    dph = []\n",
    "    for i in range(len(connections)):\n",
    "        if connections[i] > 0:\n",
    "            dph.append( (phermatrix[preshob][i], 1/graph[preshob][i], i) )\n",
    "            \n",
    "    #dph = [(phermatrix[preshob][i], graph[preshob][i], i) for i in range(len(connections)) if connections[i] > 0 ]\n",
    "    \n",
    "    return dph\n",
    "\n",
    "def Disconnect(visited, connections):\n",
    "    \"\"\" Disconnects already visited hobs\n",
    "    visited: already visited hobs\n",
    "    connections: connection vector with 0: no connection x: length of connection\"\"\"\n",
    "    \n",
    "    for i in visited:\n",
    "        connections[i] = 0\n",
    "        \n",
    "    return connections"
   ]
  },
  {
   "cell_type": "markdown",
   "metadata": {},
   "source": [
    "# Find Path "
   ]
  },
  {
   "cell_type": "code",
   "execution_count": 7,
   "metadata": {},
   "outputs": [],
   "source": [
    "def FindPath(phermatrix, graph, takeoff, alpha = 2, beta = 2):\n",
    "    \n",
    "    path = []\n",
    "    path.append(takeoff)\n",
    "    \n",
    "    while len(path) != len(graph):\n",
    "        \n",
    "        Cons = graph[takeoff].copy()\n",
    "        tabu = path.copy()\n",
    "        Cons = Disconnect(tabu, Cons)\n",
    "        HP = DPH(phermatrix, graph, Cons, takeoff)\n",
    "        prob = TransitionP(HP, alpha, beta)\n",
    "        takeoff = Roulette(PPi([i[0] for i in prob]), [i[1] for i in prob])\n",
    "        \n",
    "        path.append(takeoff)\n",
    " \n",
    "    return path"
   ]
  },
  {
   "cell_type": "markdown",
   "metadata": {},
   "source": [
    "# Get Elite Route and Connections"
   ]
  },
  {
   "cell_type": "code",
   "execution_count": 8,
   "metadata": {},
   "outputs": [],
   "source": [
    "def Elite(Elite, ant, graph):\n",
    "    \n",
    "    if Cost([ant], graph)[0] < Cost([Elite], graph)[0]:\n",
    "        return ant\n",
    "    else:\n",
    "        return Elite\n",
    "\n",
    "def connections(L):\n",
    "    \"\"\"L is a list\n",
    "    one way connection \"\"\"\n",
    "    \n",
    "    cons = []\n",
    "    for i in range(1,len(L)):\n",
    "        cons.append( (L[i-1], L[i]) )\n",
    "    \n",
    "    cons.append((L[-1], L[0]))\n",
    "    \n",
    "    return cons\n",
    "\n",
    "def connectionsE(L):\n",
    "    \"\"\"L is a list\n",
    "    Two way connection \"\"\"\n",
    "    \n",
    "    cons = []\n",
    "    for i in range(1,len(L)):\n",
    "        cons.append( (L[i-1], L[i]) )\n",
    "        cons.append( (L[i], L[i-1]) )\n",
    "    \n",
    "    cons.append((L[-1], L[0]))\n",
    "    cons.append((L[0], L[1]))\n",
    "    \n",
    "    return cons"
   ]
  },
  {
   "cell_type": "markdown",
   "metadata": {},
   "source": [
    "# Update Pheromone "
   ]
  },
  {
   "cell_type": "code",
   "execution_count": 9,
   "metadata": {},
   "outputs": [],
   "source": [
    "# Update Pheromone in visited arcs\n",
    "\n",
    "def UpPheromone(route, matrix):\n",
    "    \"\"\"route : route taken\n",
    "    matrix: pheromone matrix\"\"\"\n",
    "    \n",
    "    tau = 1/Cost([route], matrix)[0]\n",
    "    #tau = 1\n",
    "    \n",
    "    for i in range(len(route)-1):\n",
    "        \n",
    "        matrix[route[i]][route[i+1]] += tau\n",
    "        matrix[route[i+1]][route[i]] += tau\n",
    "    \n",
    "    # add pheromone to last and first route for TSP\n",
    "    matrix[route[-1]][route[0]] += tau\n",
    "    matrix[route[0]][route[-1]] += tau\n",
    "\n",
    "    return matrix\n",
    "\n",
    "\n",
    "def EASUpPheromone(route, matrix):\n",
    "    \"\"\"route : route taken\n",
    "    matrix: pheromone matrix\"\"\"\n",
    "    \n",
    "    tau = 1/Cost([route], matrix)[0]\n",
    "    #tau = 1\n",
    "    \n",
    "    for i in range(len(route)-1):\n",
    "        matrix[route[i]][route[i+1]] += tau \n",
    "        matrix[route[i+1]][route[i]] += tau \n",
    "        \n",
    "    matrix[route[-1]][route[0]] += tau\n",
    "    matrix[route[0]][route[-1]] += tau\n",
    "\n",
    "    return matrix\n",
    "\n",
    "def ElitePheromone(Elite, matrix, e):\n",
    "    \"\"\"route : route taken\n",
    "    matrix: pheromone matrix\"\"\"\n",
    "    \n",
    "    bstau = 1/Cost([Elite], matrix)[0]\n",
    "    #tau = 1\n",
    "    \n",
    "    for i in range(len(Elite)-1):\n",
    "        matrix[Elite[i]][Elite[i+1]] += (e*bstau) \n",
    "        matrix[Elite[i+1]][Elite[i]] += (e*bstau) \n",
    "        \n",
    "    matrix[Elite[-1]][Elite[0]] += (e*bstau)\n",
    "    matrix[Elite[0]][Elite[-1]] += (e*bstau)\n",
    "\n",
    "    return matrix"
   ]
  },
  {
   "cell_type": "markdown",
   "metadata": {},
   "source": [
    "# Evaporate Pheromone "
   ]
  },
  {
   "cell_type": "code",
   "execution_count": 10,
   "metadata": {},
   "outputs": [],
   "source": [
    "def EvPheromone(matrix, rho):\n",
    "    \n",
    "    for i in range(len(matrix)):\n",
    "        for j in range(len(matrix)):\n",
    "            if matrix[i][j] > 0:\n",
    "                matrix[i][j] = (1-rho)*matrix[i][j]\n",
    "            else:\n",
    "                matrix[i][j] = math.exp(-5)\n",
    "    return matrix\n",
    "\n",
    "def EvPheromoneNeg(matrix, rho):\n",
    "    \n",
    "    for i in range(len(matrix)):\n",
    "        for j in range(len(matrix)):\n",
    "            matrix[i][j] = (1-rho)*matrix[i][j]\n",
    "        \n",
    "    return matrix"
   ]
  },
  {
   "cell_type": "markdown",
   "metadata": {},
   "source": [
    "# Generate a Toy Symmetric TSP Problem "
   ]
  },
  {
   "cell_type": "code",
   "execution_count": 11,
   "metadata": {},
   "outputs": [],
   "source": [
    "# A random graph\n",
    "def Graph(dim, bounds):\n",
    "    b = [(i, str(i)) for i in range(dim)]   \n",
    "    matrix = []\n",
    "    \n",
    "    for i,j in b:\n",
    "        j=[]\n",
    "        if i == 0:\n",
    "            j.append(0)\n",
    "            matrix.append(j)\n",
    "        else:\n",
    "            for k in range(i+1):\n",
    "                if k == i:\n",
    "                    j.append(0)\n",
    "                else:\n",
    "                    j.append(random.choice([random.randint(bounds[0], bounds[1])]))  # route length\n",
    "            matrix.append(j)\n",
    "            \n",
    "    M = matrix        \n",
    "    for i in range(len(M)):\n",
    "        \n",
    "        for j in range(1,len(M)-len(M[i])+1):\n",
    "            M[i].append(M[i+j][i]) \n",
    "            \n",
    "    return M"
   ]
  },
  {
   "cell_type": "markdown",
   "metadata": {},
   "source": [
    "# Ant System Algorithm"
   ]
  },
  {
   "cell_type": "code",
   "execution_count": 12,
   "metadata": {},
   "outputs": [],
   "source": [
    "def AS(Ngraph, ants, alpha = 1, beta = 3, rho = 0.5, e = 10, runs = 50, Pher = None):\n",
    "    \n",
    "    if Pher == None:\n",
    "        #Pher = TSPher(Ngraph)\n",
    "        Pher = EASTSPher(Ngraph, e, ants, rho)\n",
    "        \n",
    "    starthob = random.choice([i for i in range(len(Ngraph))])\n",
    "\n",
    "    GOAT = [i for i in range(len(Ngraph))]  # initial best ant\n",
    "    \n",
    "    i = 0\n",
    "    while i < runs:\n",
    "        Ants = []\n",
    "        #starthob = random.choice([i for i in range(len(Ngraph))])\n",
    "        \n",
    "        for j in range(ants):\n",
    "            stof = FindPath(Pher, Ngraph, starthob, alpha, beta)\n",
    "            Ants.append(stof)\n",
    "            GOAT = Elite(GOAT, stof, Ngraph)\n",
    "   \n",
    "        #Pheromone update\n",
    "        for j in Ants:\n",
    "            EASUpPheromone(j, Pher)\n",
    "            \n",
    "        # Add Elite Pheromone\n",
    "        ElitePheromone(GOAT, Pher, e)\n",
    "            \n",
    "        #Pheromone update  \n",
    "        #EvPheromone(Pher, rho)\n",
    "        EvPheromoneNeg(Pher, rho)\n",
    "        \n",
    "        if i%int(runs*0.05) == 0:\n",
    "            C = Cost(Ants, Ngraph)\n",
    "            E = Cost([GOAT], Ngraph)[0]\n",
    "            print(\"Evolution \", i, \" Elite Cost = \", E,  \" Minimum Cost = \", min(C), \"  and Maximum Cost = \", max(C))\n",
    "            #print(\"<<<<<<<<  The Best Route IS  >>>>>>>> \", GOAT)\n",
    "        i += 1 \n",
    "\n",
    "    C = Cost(Ants, Ngraph)    \n",
    "    print(\"Minimum Cost Found = \", min(C), \"Maximum Cost Found = \", max(C))\n",
    "    return np.array(Ants), min(C) #, np.array(Pher)"
   ]
  },
  {
   "cell_type": "markdown",
   "metadata": {},
   "source": [
    "# Example on the Toy Problem"
   ]
  },
  {
   "cell_type": "code",
   "execution_count": 13,
   "metadata": {},
   "outputs": [
    {
     "data": {
      "text/plain": [
       "array([[ 0,  2,  9, ...,  4,  7,  5],\n",
       "       [ 2,  0,  5, ...,  8,  3,  4],\n",
       "       [ 9,  5,  0, ...,  2,  8,  7],\n",
       "       ...,\n",
       "       [ 4,  8,  2, ...,  0, 10,  4],\n",
       "       [ 7,  3,  8, ..., 10,  0,  3],\n",
       "       [ 5,  4,  7, ...,  4,  3,  0]])"
      ]
     },
     "execution_count": 13,
     "metadata": {},
     "output_type": "execute_result"
    }
   ],
   "source": [
    "# Toy Network graph \n",
    "D = 100\n",
    "bounds = (2,10)\n",
    "random.seed(10)\n",
    "graph = Graph(D, bounds)\n",
    "\n",
    "np.array(graph)"
   ]
  },
  {
   "cell_type": "code",
   "execution_count": 14,
   "metadata": {},
   "outputs": [
    {
     "name": "stdout",
     "output_type": "stream",
     "text": [
      "Evolution  0  Elite Cost =  270  Minimum Cost =  270   and Maximum Cost =  336\n",
      "Evolution  10  Elite Cost =  206  Minimum Cost =  207   and Maximum Cost =  242\n",
      "Evolution  20  Elite Cost =  204  Minimum Cost =  205   and Maximum Cost =  240\n",
      "Evolution  30  Elite Cost =  203  Minimum Cost =  208   and Maximum Cost =  241\n",
      "Evolution  40  Elite Cost =  203  Minimum Cost =  206   and Maximum Cost =  244\n",
      "Evolution  50  Elite Cost =  203  Minimum Cost =  206   and Maximum Cost =  247\n",
      "Evolution  60  Elite Cost =  203  Minimum Cost =  203   and Maximum Cost =  241\n",
      "Evolution  70  Elite Cost =  202  Minimum Cost =  207   and Maximum Cost =  244\n",
      "Evolution  80  Elite Cost =  202  Minimum Cost =  205   and Maximum Cost =  236\n",
      "Evolution  90  Elite Cost =  202  Minimum Cost =  208   and Maximum Cost =  243\n",
      "Evolution  100  Elite Cost =  201  Minimum Cost =  204   and Maximum Cost =  241\n",
      "Evolution  110  Elite Cost =  201  Minimum Cost =  202   and Maximum Cost =  239\n",
      "Evolution  120  Elite Cost =  200  Minimum Cost =  205   and Maximum Cost =  244\n",
      "Evolution  130  Elite Cost =  200  Minimum Cost =  202   and Maximum Cost =  232\n",
      "Evolution  140  Elite Cost =  200  Minimum Cost =  203   and Maximum Cost =  238\n",
      "Evolution  150  Elite Cost =  200  Minimum Cost =  205   and Maximum Cost =  241\n",
      "Evolution  160  Elite Cost =  200  Minimum Cost =  203   and Maximum Cost =  235\n",
      "Evolution  170  Elite Cost =  200  Minimum Cost =  205   and Maximum Cost =  240\n",
      "Evolution  180  Elite Cost =  200  Minimum Cost =  203   and Maximum Cost =  240\n",
      "Evolution  190  Elite Cost =  200  Minimum Cost =  206   and Maximum Cost =  239\n",
      "Minimum Cost Found =  204 Maximum Cost Found =  239\n"
     ]
    },
    {
     "data": {
      "text/plain": [
       "(array([[26, 39, 11, ..., 54, 64, 13],\n",
       "        [26,  2, 21, ..., 23, 10, 29],\n",
       "        [26, 39, 55, ...,  5, 67, 32],\n",
       "        ...,\n",
       "        [26, 39, 55, ..., 84, 10, 76],\n",
       "        [26, 39, 43, ...,  5, 60, 90],\n",
       "        [26, 39, 55, ..., 91, 48,  5]]), 204)"
      ]
     },
     "execution_count": 14,
     "metadata": {},
     "output_type": "execute_result"
    }
   ],
   "source": [
    "# Find Shortest Path with the Algorithm\n",
    "\n",
    "ants = len(graph)\n",
    "alpha = 1\n",
    "beta = 3\n",
    "rho = 0.5\n",
    "e = len(graph)\n",
    "runs = 200\n",
    "\n",
    "AS(graph, ants, alpha, beta, rho, e, runs)"
   ]
  },
  {
   "cell_type": "markdown",
   "metadata": {},
   "source": [
    "# Soving Real TSP problems "
   ]
  },
  {
   "cell_type": "code",
   "execution_count": 15,
   "metadata": {},
   "outputs": [
    {
     "name": "stdout",
     "output_type": "stream",
     "text": [
      "Evolution  0  Elite Cost =  42189.12625839805  Minimum Cost =  42189.12625839805   and Maximum Cost =  61014.398025635965\n",
      "Evolution  10  Elite Cost =  36813.604452509586  Minimum Cost =  36813.604452509586   and Maximum Cost =  50428.96640744907\n",
      "Evolution  20  Elite Cost =  34767.29087768003  Minimum Cost =  34799.876556892654   and Maximum Cost =  51181.64610380037\n",
      "Evolution  30  Elite Cost =  34767.29087768003  Minimum Cost =  35940.05227749613   and Maximum Cost =  49757.5499796695\n",
      "Evolution  40  Elite Cost =  34767.29087768003  Minimum Cost =  35761.88091387343   and Maximum Cost =  51878.41565052144\n",
      "Evolution  50  Elite Cost =  34767.29087768003  Minimum Cost =  35938.116400476756   and Maximum Cost =  49950.72682593462\n",
      "Evolution  60  Elite Cost =  34767.29087768003  Minimum Cost =  34943.52636428335   and Maximum Cost =  48737.71307831741\n",
      "Evolution  70  Elite Cost =  34767.29087768003  Minimum Cost =  34943.52636428335   and Maximum Cost =  57281.81723667205\n",
      "Evolution  80  Elite Cost =  34767.29087768003  Minimum Cost =  34943.52636428335   and Maximum Cost =  52086.86492985234\n",
      "Evolution  90  Elite Cost =  34767.29087768003  Minimum Cost =  35938.116400476756   and Maximum Cost =  50620.04788989824\n",
      "Evolution  100  Elite Cost =  34767.29087768003  Minimum Cost =  35761.88091387343   and Maximum Cost =  52018.88765947124\n",
      "Evolution  110  Elite Cost =  34767.29087768003  Minimum Cost =  35240.959090946555   and Maximum Cost =  50576.19972287999\n",
      "Evolution  120  Elite Cost =  34767.29087768003  Minimum Cost =  36655.61507024124   and Maximum Cost =  48540.34923258347\n",
      "Evolution  130  Elite Cost =  34767.29087768003  Minimum Cost =  35240.959090946555   and Maximum Cost =  48438.92910275156\n",
      "Evolution  140  Elite Cost =  34767.29087768003  Minimum Cost =  35723.20188903294   and Maximum Cost =  49616.7312548881\n",
      "Evolution  150  Elite Cost =  34767.29087768003  Minimum Cost =  35240.959090946555   and Maximum Cost =  47990.76128337995\n",
      "Evolution  160  Elite Cost =  34767.29087768003  Minimum Cost =  35761.88091387343   and Maximum Cost =  51267.81719254381\n",
      "Evolution  170  Elite Cost =  34767.29087768003  Minimum Cost =  35240.959090946555   and Maximum Cost =  50878.439289971364\n",
      "Evolution  180  Elite Cost =  34767.29087768003  Minimum Cost =  34943.52636428335   and Maximum Cost =  52294.95887361167\n",
      "Evolution  190  Elite Cost =  34767.29087768003  Minimum Cost =  35240.959090946555   and Maximum Cost =  48252.91737793581\n",
      "Minimum Cost Found =  35240.959090946555 Maximum Cost Found =  50223.75471408317\n"
     ]
    },
    {
     "data": {
      "text/plain": [
       "(array([[46, 20, 12, ..., 23, 31, 38],\n",
       "        [46, 20, 12, ..., 34, 44, 39],\n",
       "        [46, 12, 20, ..., 44, 25,  3],\n",
       "        ...,\n",
       "        [46, 20, 12, ..., 23, 31, 38],\n",
       "        [46, 12, 24, ..., 34, 25,  3],\n",
       "        [46, 20, 12, ..., 38, 30, 43]]), 35240.959090946555)"
      ]
     },
     "execution_count": 15,
     "metadata": {},
     "output_type": "execute_result"
    }
   ],
   "source": [
    "# att48\n",
    "\n",
    "import RouteMatrix as RM\n",
    "path = './Data/att48.txt'\n",
    "graph = RM.TSRM(path)\n",
    "\n",
    "\n",
    "ants = len(graph)\n",
    "alpha = 1\n",
    "beta = 4\n",
    "rho = 0.5\n",
    "e = len(graph)\n",
    "runs = 200\n",
    "\n",
    "AS(graph, ants, alpha, beta, rho, e, runs)"
   ]
  },
  {
   "cell_type": "code",
   "execution_count": 16,
   "metadata": {},
   "outputs": [
    {
     "name": "stdout",
     "output_type": "stream",
     "text": [
      "Evolution  0  Elite Cost =  31.22691510942754  Minimum Cost =  31.22691510942754   and Maximum Cost =  51.671683978022834\n",
      "Evolution  50  Elite Cost =  31.22691510942754  Minimum Cost =  33.84835846148926   and Maximum Cost =  42.153896936793274\n",
      "Evolution  100  Elite Cost =  31.22691510942754  Minimum Cost =  36.1497482131453   and Maximum Cost =  36.782576829400035\n",
      "Evolution  150  Elite Cost =  31.22691510942754  Minimum Cost =  31.22691510942754   and Maximum Cost =  42.39466805738795\n",
      "Evolution  200  Elite Cost =  31.22691510942754  Minimum Cost =  31.22691510942754   and Maximum Cost =  36.782576829400035\n",
      "Evolution  250  Elite Cost =  31.22691510942754  Minimum Cost =  36.782576829400035   and Maximum Cost =  40.95839624653566\n",
      "Evolution  300  Elite Cost =  31.22691510942754  Minimum Cost =  31.22691510942754   and Maximum Cost =  39.647431683212986\n",
      "Evolution  350  Elite Cost =  31.22691510942754  Minimum Cost =  34.47128513071587   and Maximum Cost =  39.647431683212986\n",
      "Evolution  400  Elite Cost =  31.22691510942754  Minimum Cost =  36.782576829400035   and Maximum Cost =  39.647431683212986\n",
      "Evolution  450  Elite Cost =  31.22691510942754  Minimum Cost =  31.22691510942754   and Maximum Cost =  42.39466805738795\n",
      "Evolution  500  Elite Cost =  31.22691510942754  Minimum Cost =  31.22691510942754   and Maximum Cost =  40.439679245994995\n",
      "Evolution  550  Elite Cost =  31.22691510942754  Minimum Cost =  36.782576829400035   and Maximum Cost =  39.647431683212986\n",
      "Evolution  600  Elite Cost =  31.22691510942754  Minimum Cost =  31.22691510942754   and Maximum Cost =  36.782576829400035\n",
      "Evolution  650  Elite Cost =  31.22691510942754  Minimum Cost =  31.22691510942754   and Maximum Cost =  42.39466805738795\n",
      "Evolution  700  Elite Cost =  31.22691510942754  Minimum Cost =  31.22691510942754   and Maximum Cost =  39.55864735436952\n",
      "Evolution  750  Elite Cost =  31.22691510942754  Minimum Cost =  35.16528840113982   and Maximum Cost =  39.55864735436952\n",
      "Evolution  800  Elite Cost =  31.22691510942754  Minimum Cost =  32.176728737294084   and Maximum Cost =  39.647431683212986\n",
      "Evolution  850  Elite Cost =  31.22691510942754  Minimum Cost =  31.22691510942754   and Maximum Cost =  39.647431683212986\n",
      "Evolution  900  Elite Cost =  31.22691510942754  Minimum Cost =  31.22691510942754   and Maximum Cost =  36.782576829400035\n",
      "Evolution  950  Elite Cost =  31.22691510942754  Minimum Cost =  31.22691510942754   and Maximum Cost =  36.782576829400035\n",
      "Minimum Cost Found =  31.22691510942754 Maximum Cost Found =  36.782576829400035\n"
     ]
    },
    {
     "data": {
      "text/plain": [
       "(array([[13,  2,  3, 11,  5,  6, 12,  7,  0, 10,  8,  9,  1,  4],\n",
       "        [13,  2,  3, 11,  5,  6, 12,  7,  0, 10,  8,  9,  1,  4],\n",
       "        [13,  2,  3,  4,  5, 11,  6, 12,  7,  0, 10,  8,  9,  1],\n",
       "        [13,  2,  3, 11,  5,  6, 12,  7,  0, 10,  8,  9,  1,  4],\n",
       "        [13,  2,  3, 11,  5,  6, 12,  7,  0, 10,  8,  9,  1,  4],\n",
       "        [13,  1,  9,  8, 10,  0,  7, 12,  6, 11,  5,  4,  3,  2],\n",
       "        [13,  2,  3, 11,  5,  6, 12,  7,  0, 10,  8,  9,  1,  4],\n",
       "        [13,  2,  3, 11,  5,  6, 12,  7,  0, 10,  8,  9,  1,  4],\n",
       "        [13,  2,  3, 11,  5,  6, 12,  7,  0, 10,  8,  9,  1,  4],\n",
       "        [13,  2,  3, 11,  5,  6, 12,  7,  0, 10,  8,  9,  1,  4],\n",
       "        [13,  1,  9,  8, 10,  0,  7, 12,  6,  5, 11,  3,  2,  4],\n",
       "        [13,  2,  3, 11,  5,  6, 12,  7,  0, 10,  8,  9,  1,  4],\n",
       "        [13,  2,  3, 11,  5,  6, 12,  7,  0, 10,  8,  9,  1,  4],\n",
       "        [13,  2,  3, 11,  5,  6, 12,  7,  0, 10,  8,  9,  1,  4]]),\n",
       " 31.22691510942754)"
      ]
     },
     "execution_count": 16,
     "metadata": {},
     "output_type": "execute_result"
    }
   ],
   "source": [
    "# burma14\n",
    "\n",
    "import RouteMatrix as RM\n",
    "path = './Data/burma14.txt'\n",
    "graph = RM.TSRM(path)\n",
    "\n",
    "\n",
    "ants = len(graph)\n",
    "alpha = 1\n",
    "beta = 4\n",
    "rho = 0.5\n",
    "e = len(graph)\n",
    "runs = 1000\n",
    "\n",
    "AS(graph, ants, alpha, beta, rho, e, runs)"
   ]
  },
  {
   "cell_type": "code",
   "execution_count": null,
   "metadata": {},
   "outputs": [],
   "source": []
  },
  {
   "cell_type": "code",
   "execution_count": null,
   "metadata": {},
   "outputs": [],
   "source": []
  }
 ],
 "metadata": {
  "kernelspec": {
   "display_name": "Python [default]",
   "language": "python",
   "name": "python3"
  },
  "language_info": {
   "codemirror_mode": {
    "name": "ipython",
    "version": 3
   },
   "file_extension": ".py",
   "mimetype": "text/x-python",
   "name": "python",
   "nbconvert_exporter": "python",
   "pygments_lexer": "ipython3",
   "version": "3.5.6"
  }
 },
 "nbformat": 4,
 "nbformat_minor": 2
}
