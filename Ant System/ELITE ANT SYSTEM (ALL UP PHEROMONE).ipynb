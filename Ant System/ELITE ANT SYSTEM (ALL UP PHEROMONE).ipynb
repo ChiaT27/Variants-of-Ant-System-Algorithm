{
 "cells": [
  {
   "cell_type": "markdown",
   "metadata": {},
   "source": [
    "# The Elite Ant System Algorithm For The Travelling Salesman Problem\n",
    "\n",
    "Algorithm from the Book **Ant Colony Optimization by Marco Dorigo and Thomas Stützle**"
   ]
  },
  {
   "cell_type": "code",
   "execution_count": 1,
   "metadata": {},
   "outputs": [],
   "source": [
    "#----------------------------------------\n",
    "# Chia E. Tungom\n",
    "# chemago99@yahoo.com\n",
    "# July 30th 2020\n",
    "# Shenzhen China\n",
    "#----------------------------------------"
   ]
  },
  {
   "cell_type": "code",
   "execution_count": 2,
   "metadata": {},
   "outputs": [],
   "source": [
    "# import libraries\n",
    "\n",
    "import numpy as np\n",
    "import math\n",
    "import random"
   ]
  },
  {
   "cell_type": "markdown",
   "metadata": {},
   "source": [
    "# Roulette Wheel for Probability"
   ]
  },
  {
   "cell_type": "code",
   "execution_count": 3,
   "metadata": {},
   "outputs": [],
   "source": [
    "# probability and selection using roulette wheel \n",
    "\n",
    "# Calculate cumulative sum for roulette wheel \n",
    "def PPi(pi):\n",
    "    \"\"\" pi: list with probability values\n",
    "        return roulette proportions\"\"\"\n",
    "    n = len(pi)\n",
    "    ans = []\n",
    "    \n",
    "    for i in range(n):\n",
    "        ans.append( sum([i for i in pi[:i+1]]) )\n",
    "    return ans \n",
    "\n",
    "# Roulette Wheel \n",
    "def Roulette(ppi, Pop):\n",
    "    \"\"\" ppi: list of roulette proportions\n",
    "        Pop: list of corresponding item   [item1, ... , itemN] \"\"\"\n",
    "    \n",
    "    n = len(ppi)\n",
    "    ra = random.random()\n",
    "    \n",
    "    for i in range(n):\n",
    "        if i == 0 :\n",
    "            if ra > 0 and ra < ppi[i]:\n",
    "                return Pop[i]\n",
    "        else:\n",
    "            if ra > ppi[i-1] and ra < ppi[i]:\n",
    "                return Pop[i]"
   ]
  },
  {
   "cell_type": "markdown",
   "metadata": {},
   "source": [
    "# Calculate Route Cost"
   ]
  },
  {
   "cell_type": "code",
   "execution_count": 4,
   "metadata": {},
   "outputs": [],
   "source": [
    "# calculate cost of each route\n",
    "def Cost(Pop, graph):\n",
    "    \"\"\" Pop: List of All Items in the e.g [[item1], ... , [itemN]]\n",
    "    graph: cost matrix or graph \n",
    "    returns a cost vector for corresponding item \"\"\"\n",
    "    \n",
    "    Cvector = []\n",
    "    \n",
    "    for i in range(len(Pop)):\n",
    "        route = Pop[i]\n",
    "        cost = 0\n",
    "        \n",
    "        for j in range(len(route)-1):\n",
    "            cost += graph[route[j]][route[j+1]]\n",
    "        cost += graph[route[0]][route[len(route)-1]]   \n",
    "        Cvector.append(cost)\n",
    "        \n",
    "    return Cvector"
   ]
  },
  {
   "cell_type": "markdown",
   "metadata": {},
   "source": [
    "# Initialize Pheromone "
   ]
  },
  {
   "cell_type": "code",
   "execution_count": 5,
   "metadata": {},
   "outputs": [],
   "source": [
    "# AS initialization\n",
    "def TSPher(graph):\n",
    "    \n",
    "    n = len(graph)\n",
    "    route = [i for i in range(n)]\n",
    "    random.shuffle(route)\n",
    "    \n",
    "    cost = Cost([route], graph)[0]\n",
    "    pher = [[cost for i in range(n)] for j in range(n)]\n",
    "    \n",
    "    return pher\n",
    "\n",
    "# EAS initialization\n",
    "def EASTSPher(graph, e, m, rho):\n",
    "    \n",
    "    n = len(graph)\n",
    "    route = [i for i in range(n)]\n",
    "    random.shuffle(route)\n",
    "    \n",
    "    cost = Cost([route], graph)[0]\n",
    "    \n",
    "    numer = e + m\n",
    "    den = rho*cost\n",
    "    pher = [[numer/den for i in range(n)] for j in range(n)]\n",
    "    \n",
    "    return pher"
   ]
  },
  {
   "cell_type": "markdown",
   "metadata": {},
   "source": [
    "# Calculate Transition Probability"
   ]
  },
  {
   "cell_type": "code",
   "execution_count": 6,
   "metadata": {},
   "outputs": [],
   "source": [
    "# Transition Probability\n",
    "def TransitionP(connections, alpha, beta):\n",
    "    \"\"\" Takes a list of tuples [(pheromone, distance, hob), ... , (pheromone, distance, hob)]\n",
    "        return trasition probability for each hob [(probability, hob), ... , (probability, hob)]\"\"\"\n",
    "    \n",
    "    total = sum( [ (i[0]**alpha)*(i[1]**beta) for i in connections])    # sum heuristic and pheromone info\n",
    "    prob = [( (((i**alpha)*(j**beta))/total) , k) for i,j,k in connections ]  # probability of each hob\n",
    "    \n",
    "    return prob\n",
    "\n",
    "# pheromone, distance and hob information\n",
    "def DPH(phermatrix, graph, connections, preshob):\n",
    "    \"\"\" DPH(Distance Pheromone hob)\n",
    "        takes a pheromone matrix\n",
    "        graph matrix \n",
    "        connections in graph to use \n",
    "        present hob in graph\n",
    "        and return the pheromone, distance and hob [(pheromone, distance, hob), ... , (pheromone, distance, hob)]\"\"\"\n",
    "    \n",
    "    dph = []\n",
    "    for i in range(len(connections)):\n",
    "        if connections[i] > 0:\n",
    "            dph.append( (phermatrix[preshob][i], 1/graph[preshob][i], i) )\n",
    "            \n",
    "    #dph = [(phermatrix[preshob][i], graph[preshob][i], i) for i in range(len(connections)) if connections[i] > 0 ]\n",
    "    \n",
    "    return dph\n",
    "\n",
    "def Disconnect(visited, connections):\n",
    "    \"\"\" Disconnects already visited hobs\n",
    "    visited: already visited hobs\n",
    "    connections: connection vector with 0: no connection x: length of connection\"\"\"\n",
    "    \n",
    "    for i in visited:\n",
    "        connections[i] = 0\n",
    "        \n",
    "    return connections"
   ]
  },
  {
   "cell_type": "markdown",
   "metadata": {},
   "source": [
    "# Find Path "
   ]
  },
  {
   "cell_type": "code",
   "execution_count": 7,
   "metadata": {},
   "outputs": [],
   "source": [
    "def FindPath(phermatrix, graph, takeoff, alpha = 2, beta = 2):\n",
    "    \n",
    "    path = []\n",
    "    path.append(takeoff)\n",
    "    \n",
    "    while len(path) != len(graph):\n",
    "        \n",
    "        Cons = graph[takeoff].copy()\n",
    "        tabu = path.copy()\n",
    "        Cons = Disconnect(tabu, Cons)\n",
    "        HP = DPH(phermatrix, graph, Cons, takeoff)\n",
    "        prob = TransitionP(HP, alpha, beta)\n",
    "        takeoff = Roulette(PPi([i[0] for i in prob]), [i[1] for i in prob])\n",
    "        \n",
    "        path.append(takeoff)\n",
    " \n",
    "    return path"
   ]
  },
  {
   "cell_type": "markdown",
   "metadata": {},
   "source": [
    "# Get Elite Route and Connections"
   ]
  },
  {
   "cell_type": "code",
   "execution_count": 8,
   "metadata": {},
   "outputs": [],
   "source": [
    "def Elite(Elite, ant, graph):\n",
    "    \n",
    "    if Cost([ant], graph)[0] < Cost([Elite], graph)[0]:\n",
    "        return ant\n",
    "    else:\n",
    "        return Elite\n",
    "\n",
    "def connections(L):\n",
    "    \"\"\"L is a list\n",
    "    one way connection \"\"\"\n",
    "    \n",
    "    cons = []\n",
    "    for i in range(1,len(L)):\n",
    "        cons.append( (L[i-1], L[i]) )\n",
    "    \n",
    "    cons.append((L[-1], L[0]))\n",
    "    \n",
    "    return cons\n",
    "\n",
    "def connectionsE(L):\n",
    "    \"\"\"L is a list\n",
    "    Two way connection \"\"\"\n",
    "    \n",
    "    cons = []\n",
    "    for i in range(1,len(L)):\n",
    "        cons.append( (L[i-1], L[i]) )\n",
    "        cons.append( (L[i], L[i-1]) )\n",
    "    \n",
    "    cons.append((L[-1], L[0]))\n",
    "    cons.append((L[0], L[1]))\n",
    "    \n",
    "    return cons"
   ]
  },
  {
   "cell_type": "markdown",
   "metadata": {},
   "source": [
    "# Update Pheromone "
   ]
  },
  {
   "cell_type": "code",
   "execution_count": 9,
   "metadata": {},
   "outputs": [],
   "source": [
    "# Update Pheromone in visited arcs\n",
    "\n",
    "def UpPheromone(route, matrix):\n",
    "    \"\"\"route : route taken\n",
    "    matrix: pheromone matrix\"\"\"\n",
    "    \n",
    "    tau = 1/Cost([route], matrix)[0]\n",
    "    #tau = 1\n",
    "    \n",
    "    for i in range(len(route)-1):\n",
    "        \n",
    "        matrix[route[i]][route[i+1]] += tau\n",
    "        matrix[route[i+1]][route[i]] += tau\n",
    "    \n",
    "    # add pheromone to last and first route for TSP\n",
    "    matrix[route[-1]][route[0]] += tau\n",
    "    matrix[route[0]][route[-1]] += tau\n",
    "\n",
    "    return matrix\n",
    "\n",
    "\n",
    "def EASUpPheromone(route, EliteRoute, matrix, e):\n",
    "    \"\"\"route : route taken\n",
    "    EliteRoute: Best Route found thus far\n",
    "    matrix: pheromone matrix\n",
    "    e: weighting factor for elite pheromone\"\"\"\n",
    "    \n",
    "    Tbs = connectionsE(EliteRoute)\n",
    "    \n",
    "    bstau = 1/Cost([EliteRoute], matrix)[0]\n",
    "    tau = 1/Cost([route], matrix)[0]\n",
    "    #tau = 1\n",
    "    \n",
    "    for i in range(len(route)-1):\n",
    "        \n",
    "        if (route[i], route[i+1]) in Tbs:\n",
    "            matrix[route[i]][route[i+1]] = matrix[route[i]][route[i+1]] + tau + (e*bstau)\n",
    "            matrix[route[i+1]][route[i]] = matrix[route[i+1]][route[i]] + tau + (e*bstau)\n",
    "        else:\n",
    "            matrix[route[i]][route[i+1]] += tau\n",
    "            matrix[route[i+1]][route[i]] += tau\n",
    "    \n",
    "    # add pheromone to last and first route for TSP\n",
    "    if (route[-1], route[0]) in Tbs:\n",
    "        matrix[route[-1]][route[0]] = matrix[route[-1]][route[0]] + tau + (e*bstau)\n",
    "        matrix[route[0]][route[-1]] = matrix[route[0]][route[-1]] + tau + (e*bstau)\n",
    "    else:\n",
    "        matrix[route[-1]][route[0]] += tau\n",
    "        matrix[route[0]][route[-1]] += tau\n",
    "\n",
    "    return matrix"
   ]
  },
  {
   "cell_type": "markdown",
   "metadata": {},
   "source": [
    "# Evaporate Pheromone "
   ]
  },
  {
   "cell_type": "code",
   "execution_count": 10,
   "metadata": {},
   "outputs": [],
   "source": [
    "def EvPheromone(matrix, rho):\n",
    "    \n",
    "    for i in range(len(matrix)):\n",
    "        for j in range(len(matrix)):\n",
    "            if matrix[i][j] > 0:\n",
    "                matrix[i][j] = (1-rho)*matrix[i][j]\n",
    "            else:\n",
    "                matrix[i][j] = math.exp(-5)\n",
    "    return matrix\n",
    "\n",
    "def EvPheromoneNeg(matrix, rho):\n",
    "    \n",
    "    for i in range(len(matrix)):\n",
    "        for j in range(len(matrix)):\n",
    "            matrix[i][j] = (1-rho)*matrix[i][j]\n",
    "        \n",
    "    return matrix"
   ]
  },
  {
   "cell_type": "markdown",
   "metadata": {},
   "source": [
    "# Generate a Toy Symmetric TSP Problem "
   ]
  },
  {
   "cell_type": "code",
   "execution_count": 11,
   "metadata": {},
   "outputs": [],
   "source": [
    "# A random graph\n",
    "def Graph(dim, bounds):\n",
    "    b = [(i, str(i)) for i in range(dim)]   \n",
    "    matrix = []\n",
    "    \n",
    "    for i,j in b:\n",
    "        j=[]\n",
    "        if i == 0:\n",
    "            j.append(0)\n",
    "            matrix.append(j)\n",
    "        else:\n",
    "            for k in range(i+1):\n",
    "                if k == i:\n",
    "                    j.append(0)\n",
    "                else:\n",
    "                    j.append(random.choice([random.randint(bounds[0], bounds[1])]))  # route length\n",
    "            matrix.append(j)\n",
    "            \n",
    "    M = matrix        \n",
    "    for i in range(len(M)):\n",
    "        \n",
    "        for j in range(1,len(M)-len(M[i])+1):\n",
    "            M[i].append(M[i+j][i]) \n",
    "            \n",
    "    return M"
   ]
  },
  {
   "cell_type": "markdown",
   "metadata": {},
   "source": [
    "# Ant System Algorithm"
   ]
  },
  {
   "cell_type": "code",
   "execution_count": 12,
   "metadata": {},
   "outputs": [],
   "source": [
    "def AS(Ngraph, ants, alpha = 1, beta = 3, rho = 0.5, e = 10, runs = 50, Pher = None):\n",
    "    \n",
    "    if Pher == None:\n",
    "        #Pher = TSPher(Ngraph)\n",
    "        Pher = EASTSPher(Ngraph, e, ants, rho)\n",
    "        \n",
    "    starthob = random.choice([i for i in range(len(Ngraph))])\n",
    "\n",
    "    GOAT = [i for i in range(len(Ngraph))]  # initial best ant\n",
    "    \n",
    "    i = 0\n",
    "    while i < runs:\n",
    "        Ants = []\n",
    "        #starthob = random.choice([i for i in range(len(Ngraph))])\n",
    "        \n",
    "        for j in range(ants):\n",
    "            stof = FindPath(Pher, Ngraph, starthob, alpha, beta)\n",
    "            Ants.append(stof)\n",
    "            GOAT = Elite(GOAT, stof, Ngraph)\n",
    "   \n",
    "        #Pheromone update\n",
    "        for j in Ants:\n",
    "            EASUpPheromone(j, GOAT, Pher, e)\n",
    "            \n",
    "        #Pheromone update  \n",
    "        #EvPheromone(Pher, rho)\n",
    "        EvPheromoneNeg(Pher, rho)\n",
    "        \n",
    "        if i%int(runs*0.05) == 0:\n",
    "            C = Cost(Ants, Ngraph)\n",
    "            E = Cost([GOAT], Ngraph)[0]\n",
    "            print(\"Evolution \", i, \" Elite Cost = \", E,  \" Minimum Cost = \", min(C), \"  and Maximum Cost = \", max(C))\n",
    "            #print(\"<<<<<<<<  The Best Route IS  >>>>>>>> \", GOAT)\n",
    "        i += 1 \n",
    "\n",
    "    C = Cost(Ants, Ngraph)    \n",
    "    print(\"Minimum Cost Found = \", min(C), \"Maximum Cost Found = \", max(C))\n",
    "    return np.array(Ants), min(C) #, np.array(Pher)"
   ]
  },
  {
   "cell_type": "markdown",
   "metadata": {},
   "source": [
    "# Example on the Toy Problem"
   ]
  },
  {
   "cell_type": "code",
   "execution_count": 13,
   "metadata": {},
   "outputs": [],
   "source": [
    "# Toy Network graph \n",
    "D = 100\n",
    "bounds = (2,10)\n",
    "random.seed(10)\n",
    "graph = Graph(D, bounds)"
   ]
  },
  {
   "cell_type": "code",
   "execution_count": 14,
   "metadata": {},
   "outputs": [
    {
     "name": "stdout",
     "output_type": "stream",
     "text": [
      "Evolution  0  Elite Cost =  270  Minimum Cost =  270   and Maximum Cost =  336\n",
      "Evolution  10  Elite Cost =  204  Minimum Cost =  204   and Maximum Cost =  230\n",
      "Evolution  20  Elite Cost =  204  Minimum Cost =  204   and Maximum Cost =  204\n",
      "Evolution  30  Elite Cost =  204  Minimum Cost =  204   and Maximum Cost =  204\n",
      "Evolution  40  Elite Cost =  204  Minimum Cost =  204   and Maximum Cost =  204\n",
      "Evolution  50  Elite Cost =  204  Minimum Cost =  204   and Maximum Cost =  204\n",
      "Evolution  60  Elite Cost =  204  Minimum Cost =  204   and Maximum Cost =  204\n",
      "Evolution  70  Elite Cost =  204  Minimum Cost =  204   and Maximum Cost =  204\n",
      "Evolution  80  Elite Cost =  204  Minimum Cost =  204   and Maximum Cost =  204\n",
      "Evolution  90  Elite Cost =  204  Minimum Cost =  204   and Maximum Cost =  204\n",
      "Evolution  100  Elite Cost =  204  Minimum Cost =  204   and Maximum Cost =  204\n",
      "Evolution  110  Elite Cost =  204  Minimum Cost =  204   and Maximum Cost =  204\n",
      "Evolution  120  Elite Cost =  204  Minimum Cost =  204   and Maximum Cost =  204\n",
      "Evolution  130  Elite Cost =  204  Minimum Cost =  204   and Maximum Cost =  204\n",
      "Evolution  140  Elite Cost =  204  Minimum Cost =  204   and Maximum Cost =  204\n",
      "Evolution  150  Elite Cost =  204  Minimum Cost =  204   and Maximum Cost =  204\n",
      "Evolution  160  Elite Cost =  204  Minimum Cost =  204   and Maximum Cost =  204\n",
      "Evolution  170  Elite Cost =  204  Minimum Cost =  204   and Maximum Cost =  204\n",
      "Evolution  180  Elite Cost =  204  Minimum Cost =  204   and Maximum Cost =  204\n",
      "Evolution  190  Elite Cost =  204  Minimum Cost =  204   and Maximum Cost =  204\n",
      "Minimum Cost Found =  204 Maximum Cost Found =  204\n"
     ]
    },
    {
     "data": {
      "text/plain": [
       "(array([[26, 95, 13, ..., 60, 43,  2],\n",
       "        [26,  2, 43, ...,  1, 13, 95],\n",
       "        [26, 95, 13, ..., 60, 43,  2],\n",
       "        ...,\n",
       "        [26, 95, 13, ..., 60, 43,  2],\n",
       "        [26, 95, 13, ..., 60, 43,  2],\n",
       "        [26, 95, 13, ..., 60, 43,  2]]), 204)"
      ]
     },
     "execution_count": 14,
     "metadata": {},
     "output_type": "execute_result"
    }
   ],
   "source": [
    "# Find Shortest Path with the Algorithm\n",
    "\n",
    "ants = len(graph)\n",
    "alpha = 1\n",
    "beta = 3\n",
    "rho = 0.5\n",
    "e = len(graph)\n",
    "runs = 200\n",
    "\n",
    "AS(graph, ants, alpha, beta, rho, e, runs)"
   ]
  },
  {
   "cell_type": "markdown",
   "metadata": {},
   "source": [
    "# Soving Real TSP problems "
   ]
  },
  {
   "cell_type": "code",
   "execution_count": 15,
   "metadata": {},
   "outputs": [
    {
     "name": "stdout",
     "output_type": "stream",
     "text": [
      "Evolution  0  Elite Cost =  45090.276325932675  Minimum Cost =  45090.276325932675   and Maximum Cost =  67605.41688211176\n",
      "Evolution  5  Elite Cost =  39277.72780514396  Minimum Cost =  39277.72780514396   and Maximum Cost =  57302.95063490428\n",
      "Evolution  10  Elite Cost =  37018.80738755403  Minimum Cost =  37840.52058309438   and Maximum Cost =  48070.66704039239\n",
      "Evolution  15  Elite Cost =  36688.15530266025  Minimum Cost =  36688.15530266025   and Maximum Cost =  50851.32751510507\n",
      "Evolution  20  Elite Cost =  36288.75773804634  Minimum Cost =  36288.75773804634   and Maximum Cost =  46079.57083715013\n",
      "Evolution  25  Elite Cost =  36288.75773804634  Minimum Cost =  36288.75773804634   and Maximum Cost =  43778.77947286677\n",
      "Evolution  30  Elite Cost =  36288.75773804634  Minimum Cost =  36288.75773804634   and Maximum Cost =  44418.579542962005\n",
      "Evolution  35  Elite Cost =  36288.75773804634  Minimum Cost =  36288.75773804634   and Maximum Cost =  47195.98102285946\n",
      "Evolution  40  Elite Cost =  36288.75773804634  Minimum Cost =  36288.75773804634   and Maximum Cost =  46229.11410073367\n",
      "Evolution  45  Elite Cost =  36288.75773804634  Minimum Cost =  36288.75773804634   and Maximum Cost =  41198.30822625906\n",
      "Evolution  50  Elite Cost =  36288.75773804634  Minimum Cost =  36288.75773804634   and Maximum Cost =  43453.29858731941\n",
      "Evolution  55  Elite Cost =  36288.75773804634  Minimum Cost =  36288.75773804634   and Maximum Cost =  41662.34778153505\n",
      "Evolution  60  Elite Cost =  36288.75773804634  Minimum Cost =  36288.75773804634   and Maximum Cost =  39880.35735392519\n",
      "Evolution  65  Elite Cost =  36288.75773804634  Minimum Cost =  36288.75773804634   and Maximum Cost =  42945.40958582771\n",
      "Evolution  70  Elite Cost =  36288.75773804634  Minimum Cost =  36288.75773804634   and Maximum Cost =  39425.55972919248\n",
      "Evolution  75  Elite Cost =  36288.75773804634  Minimum Cost =  36288.75773804634   and Maximum Cost =  37032.41336376833\n",
      "Evolution  80  Elite Cost =  36288.75773804634  Minimum Cost =  36288.75773804634   and Maximum Cost =  39851.23619367344\n",
      "Evolution  85  Elite Cost =  35989.53344176988  Minimum Cost =  36288.75773804634   and Maximum Cost =  36726.39492136449\n",
      "Evolution  90  Elite Cost =  35989.53344176988  Minimum Cost =  36288.75773804634   and Maximum Cost =  39791.65824088145\n",
      "Evolution  95  Elite Cost =  35989.53344176988  Minimum Cost =  35989.53344176988   and Maximum Cost =  37805.29412010467\n",
      "Minimum Cost Found =  35989.53344176988 Maximum Cost Found =  40151.88782367059\n"
     ]
    },
    {
     "data": {
      "text/plain": [
       "(array([[46, 12, 13, ..., 14, 11, 19],\n",
       "        [46, 19, 11, ..., 24, 13, 12],\n",
       "        [46, 12, 13, ..., 14, 11, 19],\n",
       "        ...,\n",
       "        [46, 19, 11, ..., 24, 13, 12],\n",
       "        [46, 12, 13, ..., 14, 11, 19],\n",
       "        [46, 12, 13, ..., 14, 11, 19]]), 35989.53344176988)"
      ]
     },
     "execution_count": 15,
     "metadata": {},
     "output_type": "execute_result"
    }
   ],
   "source": [
    "# att48\n",
    "\n",
    "import RouteMatrix as RM\n",
    "path = './Data/att48.txt'\n",
    "graph = RM.TSRM(path)\n",
    "\n",
    "\n",
    "ants = len(graph)\n",
    "alpha = 1\n",
    "beta = 3\n",
    "rho = 0.05\n",
    "e = len(graph)\n",
    "runs = 100\n",
    "\n",
    "AS(graph, ants, alpha, beta, rho, e, runs)"
   ]
  },
  {
   "cell_type": "code",
   "execution_count": 16,
   "metadata": {},
   "outputs": [
    {
     "name": "stdout",
     "output_type": "stream",
     "text": [
      "Evolution  0  Elite Cost =  34.94959303391328  Minimum Cost =  34.94959303391328   and Maximum Cost =  54.34426262247057\n",
      "Evolution  50  Elite Cost =  31.226915109427544  Minimum Cost =  31.456233837620537   and Maximum Cost =  43.24962068804266\n",
      "Evolution  100  Elite Cost =  31.226915109427544  Minimum Cost =  31.456233837620537   and Maximum Cost =  38.51325695715954\n",
      "Evolution  150  Elite Cost =  31.22691510942754  Minimum Cost =  31.226915109427544   and Maximum Cost =  32.531640412693264\n",
      "Evolution  200  Elite Cost =  31.22691510942754  Minimum Cost =  31.226915109427544   and Maximum Cost =  31.456233837620537\n",
      "Evolution  250  Elite Cost =  31.22691510942754  Minimum Cost =  31.226915109427544   and Maximum Cost =  31.456233837620537\n",
      "Evolution  300  Elite Cost =  31.22691510942754  Minimum Cost =  31.226915109427544   and Maximum Cost =  32.531640412693264\n",
      "Evolution  350  Elite Cost =  31.22691510942754  Minimum Cost =  31.22691510942754   and Maximum Cost =  31.226915109427544\n",
      "Evolution  400  Elite Cost =  31.22691510942754  Minimum Cost =  31.22691510942754   and Maximum Cost =  31.226915109427544\n",
      "Evolution  450  Elite Cost =  31.22691510942754  Minimum Cost =  31.22691510942754   and Maximum Cost =  31.226915109427544\n",
      "Evolution  500  Elite Cost =  31.22691510942754  Minimum Cost =  31.22691510942754   and Maximum Cost =  31.226915109427544\n",
      "Evolution  550  Elite Cost =  31.22691510942754  Minimum Cost =  31.22691510942754   and Maximum Cost =  31.226915109427544\n",
      "Evolution  600  Elite Cost =  31.22691510942754  Minimum Cost =  31.226915109427544   and Maximum Cost =  31.226915109427544\n",
      "Evolution  650  Elite Cost =  31.22691510942754  Minimum Cost =  31.22691510942754   and Maximum Cost =  31.226915109427544\n",
      "Evolution  700  Elite Cost =  31.22691510942754  Minimum Cost =  31.226915109427544   and Maximum Cost =  31.226915109427544\n",
      "Evolution  750  Elite Cost =  31.22691510942754  Minimum Cost =  31.226915109427544   and Maximum Cost =  31.226915109427544\n",
      "Evolution  800  Elite Cost =  31.22691510942754  Minimum Cost =  31.22691510942754   and Maximum Cost =  31.226915109427544\n",
      "Evolution  850  Elite Cost =  31.22691510942754  Minimum Cost =  31.22691510942754   and Maximum Cost =  31.226915109427544\n",
      "Evolution  900  Elite Cost =  31.22691510942754  Minimum Cost =  31.226915109427544   and Maximum Cost =  31.226915109427544\n",
      "Evolution  950  Elite Cost =  31.22691510942754  Minimum Cost =  31.226915109427544   and Maximum Cost =  31.226915109427544\n",
      "Minimum Cost Found =  31.226915109427544 Maximum Cost Found =  31.226915109427544\n"
     ]
    },
    {
     "data": {
      "text/plain": [
       "(array([[10,  8,  9,  1, 13,  2,  3,  4,  5, 11,  6, 12,  7,  0],\n",
       "        [10,  8,  9,  1, 13,  2,  3,  4,  5, 11,  6, 12,  7,  0],\n",
       "        [10,  8,  9,  1, 13,  2,  3,  4,  5, 11,  6, 12,  7,  0],\n",
       "        [10,  8,  9,  1, 13,  2,  3,  4,  5, 11,  6, 12,  7,  0],\n",
       "        [10,  8,  9,  1, 13,  2,  3,  4,  5, 11,  6, 12,  7,  0],\n",
       "        [10,  8,  9,  1, 13,  2,  3,  4,  5, 11,  6, 12,  7,  0],\n",
       "        [10,  8,  9,  1, 13,  2,  3,  4,  5, 11,  6, 12,  7,  0],\n",
       "        [10,  8,  9,  1, 13,  2,  3,  4,  5, 11,  6, 12,  7,  0],\n",
       "        [10,  8,  9,  1, 13,  2,  3,  4,  5, 11,  6, 12,  7,  0],\n",
       "        [10,  8,  9,  1, 13,  2,  3,  4,  5, 11,  6, 12,  7,  0],\n",
       "        [10,  8,  9,  1, 13,  2,  3,  4,  5, 11,  6, 12,  7,  0],\n",
       "        [10,  8,  9,  1, 13,  2,  3,  4,  5, 11,  6, 12,  7,  0],\n",
       "        [10,  8,  9,  1, 13,  2,  3,  4,  5, 11,  6, 12,  7,  0],\n",
       "        [10,  8,  9,  1, 13,  2,  3,  4,  5, 11,  6, 12,  7,  0]]),\n",
       " 31.226915109427544)"
      ]
     },
     "execution_count": 16,
     "metadata": {},
     "output_type": "execute_result"
    }
   ],
   "source": [
    "# burma14\n",
    "\n",
    "import RouteMatrix as RM\n",
    "path = './Data/burma14.txt'\n",
    "graph = RM.TSRM(path)\n",
    "\n",
    "\n",
    "ants = len(graph)\n",
    "alpha = 1\n",
    "beta = 3\n",
    "rho = 0.05\n",
    "e = len(graph)\n",
    "runs = 1000\n",
    "\n",
    "AS(graph, ants, alpha, beta, rho, e, runs)"
   ]
  },
  {
   "cell_type": "code",
   "execution_count": null,
   "metadata": {},
   "outputs": [],
   "source": []
  },
  {
   "cell_type": "code",
   "execution_count": null,
   "metadata": {},
   "outputs": [],
   "source": []
  },
  {
   "cell_type": "code",
   "execution_count": null,
   "metadata": {},
   "outputs": [],
   "source": []
  }
 ],
 "metadata": {
  "kernelspec": {
   "display_name": "Python [default]",
   "language": "python",
   "name": "python3"
  },
  "language_info": {
   "codemirror_mode": {
    "name": "ipython",
    "version": 3
   },
   "file_extension": ".py",
   "mimetype": "text/x-python",
   "name": "python",
   "nbconvert_exporter": "python",
   "pygments_lexer": "ipython3",
   "version": "3.5.6"
  }
 },
 "nbformat": 4,
 "nbformat_minor": 2
}
